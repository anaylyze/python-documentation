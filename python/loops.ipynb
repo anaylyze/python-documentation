{
 "cells": [
  {
   "cell_type": "code",
   "execution_count": 12,
   "id": "a0ac4713-337a-4154-a354-13caf3cc1ae2",
   "metadata": {},
   "outputs": [
    {
     "name": "stdin",
     "output_type": "stream",
     "text": [
      "Enter the number :  93\n"
     ]
    },
    {
     "name": "stdout",
     "output_type": "stream",
     "text": [
      "93 * 1 = 93\n",
      "93 * 2 = 186\n",
      "93 * 3 = 279\n",
      "93 * 4 = 372\n",
      "93 * 5 = 465\n",
      "93 * 6 = 558\n",
      "93 * 7 = 651\n",
      "93 * 8 = 744\n",
      "93 * 9 = 837\n",
      "93 * 10 = 930\n"
     ]
    }
   ],
   "source": [
    "# while loop\n",
    "number = int(input(\"Enter the number : \"))\n",
    "\n",
    "i = 1\n",
    "\n",
    "while i<11:\n",
    "    print(number,\"*\",i,\"=\",number*i)\n",
    "    i+=1"
   ]
  },
  {
   "cell_type": "code",
   "execution_count": 8,
   "id": "e83875b2-7e0a-4fc5-8b99-8722af3a4e8e",
   "metadata": {},
   "outputs": [
    {
     "name": "stdout",
     "output_type": "stream",
     "text": [
      "[1, 2, 3, 4, 5, 6, 7, 8, 9, 10]\n",
      "[0, 1, 2, 3, 4, 5, 6, 7, 8, 9, 10, 11, 12, 13, 14]\n",
      "[1, 3, 5, 7, 9]\n",
      "[10, 9, 8, 7, 6, 5, 4, 3, 2, 1]\n"
     ]
    }
   ],
   "source": [
    "# prerequisites for 'for loop'\n",
    "# range function is a built-in function in Python\n",
    "print(list(range(1,11))) #this will print a list of no.s from 1 to 10, the last no. is not counted.\n",
    "print(list(range(15))) #python automatically assumes the first no. to be zero.\n",
    "print(list(range(1,11,2))) #the third number is used as a step so the range function skips those many numbers while giving the output.\n",
    "print(list(range(10,0,-1))) #can be used to print a list backwards."
   ]
  },
  {
   "cell_type": "code",
   "execution_count": 12,
   "id": "6490cd64-09be-4b97-883b-062f852ea142",
   "metadata": {},
   "outputs": [
    {
     "data": {
      "text/plain": [
       "'Kolkata'"
      ]
     },
     "execution_count": 12,
     "metadata": {},
     "output_type": "execute_result"
    }
   ],
   "source": [
    "# sequence -> anything in an order is a sequence\n",
    "['anay','messi','neymar,jr']\n",
    "(\"Kolkata\")"
   ]
  },
  {
   "cell_type": "code",
   "execution_count": 33,
   "id": "6f87f1d9-2b04-443f-b62a-99a283931993",
   "metadata": {},
   "outputs": [
    {
     "name": "stdout",
     "output_type": "stream",
     "text": [
      "1\n",
      "5\n",
      "9\n",
      "13\n",
      "17\n"
     ]
    }
   ],
   "source": [
    "# for loop\n",
    "for i in range(1,20,4):\n",
    "    print(i)"
   ]
  },
  {
   "cell_type": "code",
   "execution_count": 14,
   "id": "adcddc3a-49e8-410c-a553-163b443cbdc5",
   "metadata": {},
   "outputs": [
    {
     "name": "stdout",
     "output_type": "stream",
     "text": [
      "A\n",
      "n\n",
      "a\n",
      "y\n",
      " \n",
      "a\n",
      "n\n",
      "d\n",
      " \n",
      "Y\n",
      "a\n",
      "s\n",
      "h\n",
      "i\n"
     ]
    }
   ],
   "source": [
    "for i in \"Anay and Yashi\":\n",
    "    print(i)"
   ]
  },
  {
   "cell_type": "code",
   "execution_count": 16,
   "id": "6a7bbe69-d6b1-4950-978a-ccc36e8c9628",
   "metadata": {},
   "outputs": [
    {
     "name": "stdin",
     "output_type": "stream",
     "text": [
      "Enter the number:  9\n"
     ]
    },
    {
     "name": "stdout",
     "output_type": "stream",
     "text": [
      "9 * 1 = 9\n",
      "9 * 2 = 18\n",
      "9 * 3 = 27\n",
      "9 * 4 = 36\n",
      "9 * 5 = 45\n",
      "9 * 6 = 54\n",
      "9 * 7 = 63\n",
      "9 * 8 = 72\n",
      "9 * 9 = 81\n",
      "9 * 10 = 90\n"
     ]
    }
   ],
   "source": [
    "number = int(input(\"Enter the number: \"))\n",
    "i = 1\n",
    "for i in range(1,11):\n",
    "    print(number,\"*\",i,\"=\",number*i)\n",
    "    i = i+1"
   ]
  },
  {
   "cell_type": "code",
   "execution_count": null,
   "id": "efdee731-b971-4915-b5fb-a13be83c4fd2",
   "metadata": {},
   "outputs": [],
   "source": []
  }
 ],
 "metadata": {
  "kernelspec": {
   "display_name": "Python 3 (ipykernel)",
   "language": "python",
   "name": "python3"
  },
  "language_info": {
   "codemirror_mode": {
    "name": "ipython",
    "version": 3
   },
   "file_extension": ".py",
   "mimetype": "text/x-python",
   "name": "python",
   "nbconvert_exporter": "python",
   "pygments_lexer": "ipython3",
   "version": "3.12.7"
  }
 },
 "nbformat": 4,
 "nbformat_minor": 5
}
