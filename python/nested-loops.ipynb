{
 "cells": [
  {
   "cell_type": "code",
   "execution_count": 2,
   "id": "7c896132-8d46-42d8-a528-2dfb90152d0e",
   "metadata": {},
   "outputs": [],
   "source": [
    "# Pascal triangle sequence\n",
    "# *\n",
    "# **\n",
    "# ***\n",
    "# ****\n",
    "# *****"
   ]
  },
  {
   "cell_type": "code",
   "execution_count": null,
   "id": "4c90b264-b682-4b84-8a0e-47cd7c89b1f5",
   "metadata": {},
   "outputs": [],
   "source": [
    "rows = int(input(\"Enter the number of rows:\"))\n",
    "for i in range(1,rows+1):\n",
    "    for j in range(0,i):\n",
    "        print(\"*\",end=\" \")\n",
    "    print(\" \")"
   ]
  },
  {
   "cell_type": "code",
   "execution_count": null,
   "id": "50c4be14-d995-4cc2-be32-88a140d3a4fb",
   "metadata": {},
   "outputs": [],
   "source": []
  }
 ],
 "metadata": {
  "kernelspec": {
   "display_name": "Python 3 (ipykernel)",
   "language": "python",
   "name": "python3"
  },
  "language_info": {
   "codemirror_mode": {
    "name": "ipython",
    "version": 3
   },
   "file_extension": ".py",
   "mimetype": "text/x-python",
   "name": "python",
   "nbconvert_exporter": "python",
   "pygments_lexer": "ipython3",
   "version": "3.12.7"
  }
 },
 "nbformat": 4,
 "nbformat_minor": 5
}
