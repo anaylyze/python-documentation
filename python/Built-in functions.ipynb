{
 "cells": [
  {
   "cell_type": "code",
   "execution_count": 2,
   "id": "2e659a8b-9a04-4ee4-b02d-19673fda08af",
   "metadata": {},
   "outputs": [
    {
     "name": "stdout",
     "output_type": "stream",
     "text": [
      "Anay\n"
     ]
    }
   ],
   "source": [
    "print(\"Anay\")"
   ]
  },
  {
   "cell_type": "code",
   "execution_count": 4,
   "id": "fd0f580f-913f-489f-9f50-e5f2c8a5badb",
   "metadata": {},
   "outputs": [
    {
     "name": "stdin",
     "output_type": "stream",
     "text": [
      "Enter your fuckin name bitch:  Pussio\n"
     ]
    },
    {
     "data": {
      "text/plain": [
       "'Pussio'"
      ]
     },
     "execution_count": 4,
     "metadata": {},
     "output_type": "execute_result"
    }
   ],
   "source": [
    "input(\"Enter your fuckin name bitch: \")"
   ]
  },
  {
   "cell_type": "code",
   "execution_count": 6,
   "id": "114c52b8-9b3b-4bbe-a182-2cca6c569116",
   "metadata": {},
   "outputs": [
    {
     "name": "stdout",
     "output_type": "stream",
     "text": [
      "<class 'int'>\n",
      "<class 'float'>\n",
      "<class 'bool'>\n",
      "<class 'complex'>\n"
     ]
    }
   ],
   "source": [
    "a = 6\n",
    "b = 69.69\n",
    "c = True\n",
    "d = 6+8j\n",
    "print(type(a))\n",
    "print(type(b))\n",
    "print(type(c))\n",
    "print(type(d))"
   ]
  },
  {
   "cell_type": "code",
   "execution_count": 8,
   "id": "7c2239f2-a61a-4e99-bc78-18c699bf4e61",
   "metadata": {},
   "outputs": [
    {
     "data": {
      "text/plain": [
       "['anay', True, (9+7j)]"
      ]
     },
     "execution_count": 8,
     "metadata": {},
     "output_type": "execute_result"
    }
   ],
   "source": [
    "int(9.4)\n",
    "float(6)\n",
    "str('8')\n",
    "list([\"anay\",True,9+7j])\n"
   ]
  },
  {
   "cell_type": "code",
   "execution_count": 12,
   "id": "7179f078-29d4-4232-809e-e040362b5d92",
   "metadata": {},
   "outputs": [
    {
     "data": {
      "text/plain": [
       "69"
      ]
     },
     "execution_count": 12,
     "metadata": {},
     "output_type": "execute_result"
    }
   ],
   "source": [
    "abs(-69)"
   ]
  },
  {
   "cell_type": "code",
   "execution_count": 14,
   "id": "68a75623-d33d-48f3-90ac-bd52134764d7",
   "metadata": {},
   "outputs": [
    {
     "data": {
      "text/plain": [
       "10077696"
      ]
     },
     "execution_count": 14,
     "metadata": {},
     "output_type": "execute_result"
    }
   ],
   "source": [
    "pow(6,9)"
   ]
  },
  {
   "cell_type": "code",
   "execution_count": 16,
   "id": "0305ae1b-0538-49c9-9c84-56cdcaa16e0a",
   "metadata": {},
   "outputs": [
    {
     "data": {
      "text/plain": [
       "5"
      ]
     },
     "execution_count": 16,
     "metadata": {},
     "output_type": "execute_result"
    }
   ],
   "source": [
    "min([6,9,21,5])"
   ]
  },
  {
   "cell_type": "code",
   "execution_count": 20,
   "id": "d7c66969-6c70-4ae0-92f0-09487a76b3bd",
   "metadata": {},
   "outputs": [
    {
     "data": {
      "text/plain": [
       "1"
      ]
     },
     "execution_count": 20,
     "metadata": {},
     "output_type": "execute_result"
    }
   ],
   "source": [
    "c = 99/69\n",
    "round(c)"
   ]
  },
  {
   "cell_type": "code",
   "execution_count": 26,
   "id": "dce77f40-d1e7-4749-90e0-a3460d251c15",
   "metadata": {},
   "outputs": [
    {
     "data": {
      "text/plain": [
       "(4, 1)"
      ]
     },
     "execution_count": 26,
     "metadata": {},
     "output_type": "execute_result"
    }
   ],
   "source": [
    "divmod(9,2)"
   ]
  },
  {
   "cell_type": "code",
   "execution_count": 30,
   "id": "35113e40-0652-412e-9d81-0c83d7790058",
   "metadata": {},
   "outputs": [
    {
     "name": "stdout",
     "output_type": "stream",
     "text": [
      "0b1000101\n",
      "0o105\n",
      "0x45\n"
     ]
    }
   ],
   "source": [
    "print(bin(69))\n",
    "print(oct(69))\n",
    "print(hex(69))"
   ]
  },
  {
   "cell_type": "code",
   "execution_count": 32,
   "id": "63ce725c-16dc-48b2-97a0-7def06701e15",
   "metadata": {},
   "outputs": [
    {
     "data": {
      "text/plain": [
       "140724356524536"
      ]
     },
     "execution_count": 32,
     "metadata": {},
     "output_type": "execute_result"
    }
   ],
   "source": [
    "a = 3\n",
    "id(a)"
   ]
  },
  {
   "cell_type": "code",
   "execution_count": 34,
   "id": "24ca5e53-b737-4983-9027-a12bcc27165e",
   "metadata": {},
   "outputs": [
    {
     "name": "stdout",
     "output_type": "stream",
     "text": [
      "Help on built-in function ord in module builtins:\n",
      "\n",
      "ord(c, /)\n",
      "    Return the Unicode code point for a one-character string.\n",
      "\n"
     ]
    }
   ],
   "source": [
    "help('ord')"
   ]
  },
  {
   "cell_type": "code",
   "execution_count": null,
   "id": "fdc16150-1d5e-4ca8-af61-6609faec1c54",
   "metadata": {},
   "outputs": [],
   "source": []
  }
 ],
 "metadata": {
  "kernelspec": {
   "display_name": "Python 3 (ipykernel)",
   "language": "python",
   "name": "python3"
  },
  "language_info": {
   "codemirror_mode": {
    "name": "ipython",
    "version": 3
   },
   "file_extension": ".py",
   "mimetype": "text/x-python",
   "name": "python",
   "nbconvert_exporter": "python",
   "pygments_lexer": "ipython3",
   "version": "3.12.7"
  }
 },
 "nbformat": 4,
 "nbformat_minor": 5
}
