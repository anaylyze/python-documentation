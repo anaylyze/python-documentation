{
 "cells": [
  {
   "cell_type": "code",
   "execution_count": 2,
   "id": "b91b12b3-5622-4d64-b58a-efc462a7be4c",
   "metadata": {},
   "outputs": [
    {
     "name": "stdout",
     "output_type": "stream",
     "text": [
      "10\n",
      "2\n",
      "24\n",
      "1296\n",
      "1.5\n",
      "1\n",
      "2\n"
     ]
    }
   ],
   "source": [
    "# Arithematic Operators (+,-,*,/,//,**,%)\n",
    "a = 6\n",
    "b = 4\n",
    "print(a+b) #addition\n",
    "print(a-b) #subtraction\n",
    "print(a*b) #multiplication\n",
    "print(a**b) #Power of\n",
    "print(a/b) # True divison\n",
    "print(a//b) # Integer division\n",
    "print(a%b) #Modulus"
   ]
  },
  {
   "cell_type": "code",
   "execution_count": 4,
   "id": "07f184ec-4e37-43ad-9e9a-514efe73ca2c",
   "metadata": {},
   "outputs": [
    {
     "name": "stdout",
     "output_type": "stream",
     "text": [
      "True\n",
      "False\n",
      "False\n",
      "True\n",
      "True\n",
      "False\n"
     ]
    }
   ],
   "source": [
    "# Comparison Operators (>,<,>=,!=,==)\n",
    "print(a>b)\n",
    "print(a<b)\n",
    "print(a==b)\n",
    "print(a!=b)\n",
    "print(a>=b)\n",
    "print(a<=b)"
   ]
  },
  {
   "cell_type": "code",
   "execution_count": 8,
   "id": "e13865a0-07f7-4732-86a4-123ebfa5cbd6",
   "metadata": {},
   "outputs": [
    {
     "name": "stdout",
     "output_type": "stream",
     "text": [
      "True\n",
      "False\n",
      "False\n",
      "True\n"
     ]
    }
   ],
   "source": [
    "# Logical Operators\n",
    "x = True\n",
    "y = False\n",
    "print(x or y)\n",
    "print(x and y)\n",
    "print(not x)\n",
    "print(not y)"
   ]
  },
  {
   "cell_type": "code",
   "execution_count": 10,
   "id": "c66ddb2f-fb2b-4a2a-a885-c7cc6769a24b",
   "metadata": {},
   "outputs": [
    {
     "name": "stdout",
     "output_type": "stream",
     "text": [
      "2\n"
     ]
    }
   ],
   "source": [
    "# bitwise operators(and:&, or:|, xor:^, shift:>> <<, not:~ )\n",
    "x = 2          #010\n",
    "y = 3          #110\n",
    "print(x&y)#using and operator it makes it 010."
   ]
  },
  {
   "cell_type": "code",
   "execution_count": 6,
   "id": "d5d3e289-5d28-4350-9c85-6f0948125a96",
   "metadata": {},
   "outputs": [
    {
     "name": "stdout",
     "output_type": "stream",
     "text": [
      "3\n"
     ]
    }
   ],
   "source": [
    "x = 2          #010\n",
    "y = 3          #110\n",
    "print(x|y)#using or operator it makes it 110."
   ]
  },
  {
   "cell_type": "code",
   "execution_count": 10,
   "id": "67438f4d-6395-45d4-b46e-e9303c2a1de3",
   "metadata": {},
   "outputs": [
    {
     "name": "stdout",
     "output_type": "stream",
     "text": [
      "1\n",
      "-3\n"
     ]
    }
   ],
   "source": [
    "x = 2          #010\n",
    "y = 3          #110\n",
    "print(x^y) #using the xor operator it makes it 100."
   ]
  },
  {
   "cell_type": "code",
   "execution_count": 26,
   "id": "aeb04528-0a80-4d79-b107-9a36373174b5",
   "metadata": {},
   "outputs": [
    {
     "name": "stdout",
     "output_type": "stream",
     "text": [
      "2 16 -3\n"
     ]
    }
   ],
   "source": [
    "a = 8  # In binary: 1000\n",
    "result1 = a >> 2  # Result: 0010 (which is 2 in decimal)\n",
    "\n",
    "b = 2  # In binary: 0010\n",
    "result2 = b << 3  # Result: 10000 (which is 16 in decimal)\n",
    "\n",
    "c = 2  # In binary: 0010\n",
    "result3 = ~c  # Result: 1101 (which is -3 in decimal, due to two's complement representation)\n",
    "\n",
    "print(result1, result2, result3)"
   ]
  },
  {
   "cell_type": "code",
   "execution_count": 36,
   "id": "75613378-528d-4c1c-808d-f41a56afd4fe",
   "metadata": {},
   "outputs": [
    {
     "name": "stdout",
     "output_type": "stream",
     "text": [
      "10\n",
      "-6\n",
      "21\n",
      "4\n"
     ]
    }
   ],
   "source": [
    "# Assignment Operators(=,+=,-=,*=,&=)\n",
    "a = 1\n",
    "b = 2\n",
    "c = 3\n",
    "d = 4\n",
    "a+=9 #a = a+9\n",
    "b-=8 #b = b-8\n",
    "c*=7 #c = c*7\n",
    "d&=6 #d = d&6\n",
    "print(a)\n",
    "print(b)\n",
    "print(c)\n",
    "print(d)\n"
   ]
  },
  {
   "cell_type": "code",
   "execution_count": 42,
   "id": "47ab2aa1-7a78-45d9-ab96-fb5cac5032d3",
   "metadata": {},
   "outputs": [
    {
     "name": "stdout",
     "output_type": "stream",
     "text": [
      "True\n",
      "True\n"
     ]
    }
   ],
   "source": [
    "# Identity Operators\n",
    "a=3\n",
    "b=3\n",
    "print(a is b)\n",
    "c=\"Hello\"\n",
    "d=\"Hello\"\n",
    "print(c is d)"
   ]
  },
  {
   "cell_type": "code",
   "execution_count": 46,
   "id": "e816e543-7ba2-4495-816c-6e7f966563ab",
   "metadata": {},
   "outputs": [
    {
     "name": "stdout",
     "output_type": "stream",
     "text": [
      "False\n",
      "False\n"
     ]
    }
   ],
   "source": [
    "a=\"Hello World\"\n",
    "b=\"Hello World\"\n",
    "print(a is b)\n",
    "c=[1,2,3]\n",
    "d=[1,2,3]\n",
    "print(c is d)"
   ]
  },
  {
   "cell_type": "code",
   "execution_count": 14,
   "id": "8cbe0dd8-a392-4680-95a6-af299fa23f8b",
   "metadata": {},
   "outputs": [
    {
     "name": "stdout",
     "output_type": "stream",
     "text": [
      "True\n",
      "False\n",
      "True\n",
      "False\n"
     ]
    }
   ],
   "source": [
    "a='Anay'\n",
    "b={1:\"Anay\",2:\"Yashi\",3:\"Messi\"}\n",
    "c=[1,\"Barca\",True,None]\n",
    "d=(9,7,0,2,1)\n",
    "print(\"A\" in a)\n",
    "print(2 not in b)\n",
    "print(True in c)\n",
    "print(69 in d)"
   ]
  },
  {
   "cell_type": "code",
   "execution_count": null,
   "id": "958063c4-7c34-438a-990f-5e9867a0a5ef",
   "metadata": {},
   "outputs": [],
   "source": []
  }
 ],
 "metadata": {
  "kernelspec": {
   "display_name": "Python 3 (ipykernel)",
   "language": "python",
   "name": "python3"
  },
  "language_info": {
   "codemirror_mode": {
    "name": "ipython",
    "version": 3
   },
   "file_extension": ".py",
   "mimetype": "text/x-python",
   "name": "python",
   "nbconvert_exporter": "python",
   "pygments_lexer": "ipython3",
   "version": "3.12.7"
  }
 },
 "nbformat": 4,
 "nbformat_minor": 5
}
