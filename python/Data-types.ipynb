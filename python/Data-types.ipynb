{
 "cells": [
  {
   "cell_type": "code",
   "execution_count": 6,
   "id": "dc96b7d9-d392-4f28-8745-ea23539e00b9",
   "metadata": {},
   "outputs": [
    {
     "name": "stdout",
     "output_type": "stream",
     "text": [
      "69\n",
      "1e+308\n",
      "inf\n"
     ]
    }
   ],
   "source": [
    "# integer\n",
    "print(69)\n",
    "print(1e308)\n",
    "print(1e309)"
   ]
  },
  {
   "cell_type": "code",
   "execution_count": 12,
   "id": "ee8f702d-f378-47fc-8ff0-25d5d09926c7",
   "metadata": {},
   "outputs": [
    {
     "name": "stdout",
     "output_type": "stream",
     "text": [
      "6.9\n",
      "1.7e+308\n",
      "inf\n"
     ]
    }
   ],
   "source": [
    "# float\n",
    "print(6.9)\n",
    "print(1.7e308)\n",
    "print(1.7e309)"
   ]
  },
  {
   "cell_type": "code",
   "execution_count": 14,
   "id": "58bac72e-2057-41df-aa9a-f800a4bb9730",
   "metadata": {},
   "outputs": [
    {
     "name": "stdout",
     "output_type": "stream",
     "text": [
      "True\n",
      "False\n"
     ]
    }
   ],
   "source": [
    "# boolean\n",
    "print(True)\n",
    "print(False)"
   ]
  },
  {
   "cell_type": "code",
   "execution_count": 18,
   "id": "f6ab360a-752d-43cc-98fc-beab293deeca",
   "metadata": {},
   "outputs": [
    {
     "name": "stdout",
     "output_type": "stream",
     "text": [
      "(6+9j)\n"
     ]
    }
   ],
   "source": [
    "# complex\n",
    "print(6+9j)"
   ]
  },
  {
   "cell_type": "code",
   "execution_count": 20,
   "id": "1e13e68a-ca5a-4911-b87b-6546b8e82547",
   "metadata": {},
   "outputs": [
    {
     "name": "stdout",
     "output_type": "stream",
     "text": [
      "ANAY\n",
      "Messi\n",
      "Neymar\n"
     ]
    }
   ],
   "source": [
    "# strings\n",
    "print('ANAY')\n",
    "print(\"Messi\")\n",
    "print(\"\"\"Neymar\"\"\")"
   ]
  },
  {
   "cell_type": "code",
   "execution_count": 24,
   "id": "56f37751-fb0c-4618-89cb-23b48a13c475",
   "metadata": {},
   "outputs": [
    {
     "name": "stdout",
     "output_type": "stream",
     "text": [
      "['anay', 19, True, 6.9]\n"
     ]
    }
   ],
   "source": [
    "# list\n",
    "print(['anay',19, True,6.9])"
   ]
  },
  {
   "cell_type": "code",
   "execution_count": 26,
   "id": "5d4fa537-a4d8-4846-b38f-0d4f3043712b",
   "metadata": {},
   "outputs": [
    {
     "name": "stdout",
     "output_type": "stream",
     "text": [
      "(6, 9, 4, 'Anay')\n"
     ]
    }
   ],
   "source": [
    "# tuple\n",
    "print((6,9,4,'Anay'))"
   ]
  },
  {
   "cell_type": "code",
   "execution_count": 28,
   "id": "8ec70106-7501-46ab-b609-38593a9d2beb",
   "metadata": {},
   "outputs": [
    {
     "name": "stdout",
     "output_type": "stream",
     "text": [
      "{0, 9, 4, 7}\n"
     ]
    }
   ],
   "source": [
    "# sets\n",
    "print({7,4,9,0})"
   ]
  },
  {
   "cell_type": "code",
   "execution_count": 30,
   "id": "a011e343-1204-420a-a1f0-2db2bcfc7552",
   "metadata": {},
   "outputs": [
    {
     "name": "stdout",
     "output_type": "stream",
     "text": [
      "{'Name': 'Anay', 'Age': 19, 'Sex': 'pls karlo cutie'}\n"
     ]
    }
   ],
   "source": [
    "# dict\n",
    "print({\"Name\":\"Anay\",\"Age\":19,\"Sex\":\"pls karlo cutie\"})"
   ]
  },
  {
   "cell_type": "code",
   "execution_count": 4,
   "id": "88399615-8bac-4a9b-858b-992c9accf980",
   "metadata": {},
   "outputs": [
    {
     "name": "stdout",
     "output_type": "stream",
     "text": [
      "19\n",
      "6.9\n",
      "Mehhhssi\n",
      "True\n",
      "(6+6j)\n",
      "{0, 1, 3, 6, 9}\n",
      "[1, 'FCB', True, 8.9]\n",
      "{'Name': 'Bin Laden', 'Club': 'Arsenal', 'org': 'ISIS'}\n"
     ]
    }
   ],
   "source": [
    "print(19)\n",
    "print(6.9)\n",
    "print(\"Mehhhssi\")\n",
    "print(True)\n",
    "print(6+6j)\n",
    "print({1,6,9,0,3})\n",
    "print([1, \"FCB\", True,8.9])\n",
    "print({\"Name\":\"Bin Laden\",\"Club\":\"Arsenal\",\"org\":\"ISIS\"})"
   ]
  },
  {
   "cell_type": "code",
   "execution_count": null,
   "id": "113371b5-4359-4c91-afdd-ae888b02bc08",
   "metadata": {},
   "outputs": [],
   "source": []
  }
 ],
 "metadata": {
  "kernelspec": {
   "display_name": "Python 3 (ipykernel)",
   "language": "python",
   "name": "python3"
  },
  "language_info": {
   "codemirror_mode": {
    "name": "ipython",
    "version": 3
   },
   "file_extension": ".py",
   "mimetype": "text/x-python",
   "name": "python",
   "nbconvert_exporter": "python",
   "pygments_lexer": "ipython3",
   "version": "3.12.7"
  }
 },
 "nbformat": 4,
 "nbformat_minor": 5
}
