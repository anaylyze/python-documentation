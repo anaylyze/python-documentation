{
 "cells": [
  {
   "cell_type": "code",
   "execution_count": 6,
   "id": "eebcf597-c7ab-4a20-83bb-5780988dabe4",
   "metadata": {},
   "outputs": [
    {
     "name": "stdout",
     "output_type": "stream",
     "text": [
      "anay\n",
      "yashi\n",
      "messi\n"
     ]
    }
   ],
   "source": [
    "def gen(): # gen is a generator func\n",
    "\n",
    "    yield \"anay\"\n",
    "    yield \"yashi\"\n",
    "    yield \"messi\"\n",
    "\n",
    "x = gen() #x is a generator object\n",
    "# print(next(x)) anay\n",
    "# print(next(x)) yashi\n",
    "# print(next(x)) messi\n",
    "\n",
    "for i in x:\n",
    "    print(i)"
   ]
  },
  {
   "cell_type": "code",
   "execution_count": 4,
   "id": "f1f2d281-bcac-4897-a958-beadc03943ad",
   "metadata": {},
   "outputs": [
    {
     "name": "stdout",
     "output_type": "stream",
     "text": [
      "1\n",
      "4\n",
      "9\n",
      "16\n",
      "25\n",
      "36\n",
      "49\n",
      "64\n",
      "81\n",
      "100\n"
     ]
    }
   ],
   "source": [
    "def square(num):\n",
    "    for i in range(1,num+1):\n",
    "        yield(i**2)\n",
    "\n",
    "gen = square(10)\n",
    "print(next(gen))\n",
    "print(next(gen))\n",
    "print(next(gen))\n",
    "\n",
    "for i in gen:\n",
    "    print(i) \n",
    "# as you can see in the o/p the func remembered that the first 3 squares where executed using \"print(next(gen))\" and continued from next execution"
   ]
  },
  {
   "cell_type": "code",
   "execution_count": 14,
   "id": "9187798d-49e9-4eae-84cb-f54efe62edaf",
   "metadata": {},
   "outputs": [
    {
     "name": "stdout",
     "output_type": "stream",
     "text": [
      "1 2 3 4 5 6 7 8 9 10 "
     ]
    }
   ],
   "source": [
    "# range func\n",
    "def my_range(start,end):\n",
    "    for i in range(start,end):\n",
    "        yield i\n",
    "for i in my_range(1,11):\n",
    "    print(i,end=\" \")"
   ]
  },
  {
   "cell_type": "code",
   "execution_count": 16,
   "id": "fd55b99b-1514-463c-9f79-049440838c33",
   "metadata": {},
   "outputs": [
    {
     "data": {
      "text/plain": [
       "[1, 4, 9, 16, 25, 36, 49, 64, 81]"
      ]
     },
     "execution_count": 16,
     "metadata": {},
     "output_type": "execute_result"
    }
   ],
   "source": [
    "L = [i**2 for i in range (1,10)]\n",
    "L #list comprehension"
   ]
  },
  {
   "cell_type": "code",
   "execution_count": 28,
   "id": "e9b38ab0-f751-44a3-b49b-95e49be414f5",
   "metadata": {},
   "outputs": [
    {
     "name": "stdout",
     "output_type": "stream",
     "text": [
      "1 4 9 16 25 36 49 64 81 100 "
     ]
    }
   ],
   "source": [
    "gen  = (i**2 for i in range(1,11))\n",
    "for i in gen:    \n",
    "    print(i,end=' ') #generator expression\n",
    "# print(gen) # this will give generator object"
   ]
  },
  {
   "cell_type": "code",
   "execution_count": null,
   "id": "5bd6a9af-32f2-413a-8c64-5da95cbe9af1",
   "metadata": {},
   "outputs": [],
   "source": []
  }
 ],
 "metadata": {
  "kernelspec": {
   "display_name": "Python 3 (ipykernel)",
   "language": "python",
   "name": "python3"
  },
  "language_info": {
   "codemirror_mode": {
    "name": "ipython",
    "version": 3
   },
   "file_extension": ".py",
   "mimetype": "text/x-python",
   "name": "python",
   "nbconvert_exporter": "python",
   "pygments_lexer": "ipython3",
   "version": "3.12.7"
  }
 },
 "nbformat": 4,
 "nbformat_minor": 5
}
