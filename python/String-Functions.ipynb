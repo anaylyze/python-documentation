{
 "cells": [
  {
   "cell_type": "code",
   "execution_count": 6,
   "id": "f210f21d-0a62-4048-a852-8365b4e540bd",
   "metadata": {},
   "outputs": [
    {
     "name": "stdout",
     "output_type": "stream",
     "text": [
      "12\n",
      "x\n",
      "E\n",
      "['E', 'a', 'e', 'i', 'l', 'l', 'm', 'p', 'r', 's', 'u', 'x']\n",
      "['x', 'u', 's', 'r', 'p', 'm', 'l', 'l', 'i', 'e', 'a', 'E']\n"
     ]
    }
   ],
   "source": [
    " a = \"Expelliarmus\"\n",
    "print(len(a)) #gives us the length of string\n",
    "print(max(a)) #gives us the max of the string according to the ascii value\n",
    "print(min(a)) #gives us the min of the string \n",
    "print(sorted(a)) #sorts out the given string in ascending order according to ascii value\n",
    "print(sorted(a,reverse=True)) #sorts out the string in decending order.\n"
   ]
  },
  {
   "cell_type": "code",
   "execution_count": 16,
   "id": "337f72d8-cfbd-4c7b-a017-7fc422e7cb90",
   "metadata": {},
   "outputs": [
    {
     "name": "stdout",
     "output_type": "stream",
     "text": [
      "Ohh raja raja raja kareja mei samaja\n",
      "Ohh Raja Raja Raja Kareja Mei Samaja\n",
      "OHH RAJA RAJA RAJA KAREJA MEI SAMAJA\n",
      "ohh raja raja raja kareja mei samaja\n"
     ]
    },
    {
     "data": {
      "text/plain": [
       "'aNay jHa'"
      ]
     },
     "execution_count": 16,
     "metadata": {},
     "output_type": "execute_result"
    }
   ],
   "source": [
    "b = \"ohh raja raja raja kareja mei samaja\"\n",
    "print(b.capitalize()) #first alphabet ko capitalize kar deta h \n",
    "print(b.title()) #capitalizes 1st alphabet of every word\n",
    "print(b.upper()) #converts everything in uppercase\n",
    "print(b.lower()) #converts everything in lowercase\n",
    "\"AnAY JhA\".swapcase() #swaps the cases"
   ]
  },
  {
   "cell_type": "code",
   "execution_count": 20,
   "id": "b7d42f8b-b2bb-41cd-b9ac-36c01fbf85e0",
   "metadata": {},
   "outputs": [
    {
     "data": {
      "text/plain": [
       "11"
      ]
     },
     "execution_count": 20,
     "metadata": {},
     "output_type": "execute_result"
    }
   ],
   "source": [
    "\"ohh raja raja raja kareja mei samaja\".count(\"raja\") #3\n",
    "\"ohh raja raja raja kareja mei samaja\".count(\"a\") #11 \n",
    "# it helps you to find the count of any substring in a string"
   ]
  },
  {
   "cell_type": "code",
   "execution_count": 28,
   "id": "ec63220d-e161-4655-a5ab-700177e97eeb",
   "metadata": {},
   "outputs": [
    {
     "data": {
      "text/plain": [
       "-1"
      ]
     },
     "execution_count": 28,
     "metadata": {},
     "output_type": "execute_result"
    }
   ],
   "source": [
    "\"muchas gracias aficion este para vosomtros siuuuuu\".find(\"s\") #5 #tells us the exact position of any substrings first occurence\n",
    "\"muchas gracias aficion este para vosomtros siuuuuu\".find(\"para\") #28\n",
    "\"muchas gracias aficion este para vosomtros siuuuuu\".find(\"x\") #-1 #gives us -1 when substring does not exist inside the string"
   ]
  },
  {
   "cell_type": "code",
   "execution_count": 34,
   "id": "18164ca1-2a8e-4e85-ac45-ccb5bef4c144",
   "metadata": {},
   "outputs": [
    {
     "data": {
      "text/plain": [
       "28"
      ]
     },
     "execution_count": 34,
     "metadata": {},
     "output_type": "execute_result"
    }
   ],
   "source": [
    "\"muchas gracias aficion este para vosomtros siuuuuu\".index(\"para\") #28\n",
    "# \"muchas gracias aficion este para vosomtros siuuuuu\".index(\"x\") #it will give an error and this is the only diff btw find and index"
   ]
  },
  {
   "cell_type": "code",
   "execution_count": 38,
   "id": "e7f4708b-636d-438f-b598-0747581dedba",
   "metadata": {},
   "outputs": [
    {
     "name": "stdout",
     "output_type": "stream",
     "text": [
      "True\n",
      "False\n"
     ]
    }
   ],
   "source": [
    "a = \"bitch boy get out the way\"\n",
    "print(a.startswith(\"bi\"))\n",
    "print(a.endswith(\"Way\"))"
   ]
  },
  {
   "cell_type": "code",
   "execution_count": 40,
   "id": "050abd1c-a14f-4717-8f15-2df0e5999dbb",
   "metadata": {},
   "outputs": [
    {
     "data": {
      "text/plain": [
       "'Hello bitch, My name is Anay and I am 20 years old.'"
      ]
     },
     "execution_count": 40,
     "metadata": {},
     "output_type": "execute_result"
    }
   ],
   "source": [
    "\"Hello bitch, My name is {} and I am {} years old.\".format(\"Anay\",20)"
   ]
  },
  {
   "cell_type": "code",
   "execution_count": 42,
   "id": "17262bab-01fa-4918-9006-53625875e789",
   "metadata": {},
   "outputs": [
    {
     "data": {
      "text/plain": [
       "'Hello bitch, My name is 20 and I am Anay years old.'"
      ]
     },
     "execution_count": 42,
     "metadata": {},
     "output_type": "execute_result"
    }
   ],
   "source": [
    "\"Hello bitch, My name is {1} and I am {0} years old.\".format(\"Anay\",20)"
   ]
  },
  {
   "cell_type": "code",
   "execution_count": 44,
   "id": "40913e3f-07b6-4f1a-b1b4-c4d1bedc9e17",
   "metadata": {},
   "outputs": [
    {
     "data": {
      "text/plain": [
       "'Hello bitch, My name is Anay and I am 20 years old.'"
      ]
     },
     "execution_count": 44,
     "metadata": {},
     "output_type": "execute_result"
    }
   ],
   "source": [
    "\"Hello bitch, My name is {name} and I am {age} years old.\".format(name = \"Anay\",age = 20)"
   ]
  },
  {
   "cell_type": "code",
   "execution_count": 54,
   "id": "e37b89e1-3403-4071-87c0-50b7e73888e6",
   "metadata": {},
   "outputs": [
    {
     "data": {
      "text/plain": [
       "False"
      ]
     },
     "execution_count": 54,
     "metadata": {},
     "output_type": "execute_result"
    }
   ],
   "source": [
    "\"FLAT20\".isalnum() #true\n",
    "\"FLAT20%\".isalnum() #false"
   ]
  },
  {
   "cell_type": "code",
   "execution_count": 62,
   "id": "501049bb-f5ac-44e3-a002-eaaf4752be63",
   "metadata": {},
   "outputs": [
    {
     "data": {
      "text/plain": [
       "True"
      ]
     },
     "execution_count": 62,
     "metadata": {},
     "output_type": "execute_result"
    }
   ],
   "source": [
    "\"FLAT69\".isalpha() #false\n",
    "\"FLAT\".isalpha() #true"
   ]
  },
  {
   "cell_type": "code",
   "execution_count": 66,
   "id": "8b39ea78-7426-411c-bae8-99c9961778bc",
   "metadata": {},
   "outputs": [
    {
     "data": {
      "text/plain": [
       "False"
      ]
     },
     "execution_count": 66,
     "metadata": {},
     "output_type": "execute_result"
    }
   ],
   "source": [
    "\"33333\".isdigit() #true\n",
    "\"33333A\".isdigit() #false"
   ]
  },
  {
   "cell_type": "code",
   "execution_count": 70,
   "id": "cacfb4ca-29f3-4dc7-9466-e3b8308fc140",
   "metadata": {},
   "outputs": [
    {
     "data": {
      "text/plain": [
       "False"
      ]
     },
     "execution_count": 70,
     "metadata": {},
     "output_type": "execute_result"
    }
   ],
   "source": [
    "\"Helloooo_69\".isidentifier()\n",
    "\"Helloooo 69\".isidentifier()"
   ]
  },
  {
   "cell_type": "code",
   "execution_count": 80,
   "id": "3277cb5e-9dd0-4815-b438-43d39712ef53",
   "metadata": {},
   "outputs": [
    {
     "name": "stdout",
     "output_type": "stream",
     "text": [
      "['Baby', 'calm', 'down', 'calm', 'down', 'Girl,', 'this', 'your', 'body', 'e', 'put', 'my', 'heart', 'for', 'lockdown']\n",
      "['Baby calm down calm down Girl, ', ' your body e put my heart for lockdown']\n",
      "['Baby calm down calm down Girl, this your body e put my heart for lockdown']\n"
     ]
    }
   ],
   "source": [
    "a = \"Baby calm down calm down Girl, this your body e put my heart for lockdown\"\n",
    "print(a.split())\n",
    "print(a.split(\"this\"))\n",
    "print(a.split(\"x\"))\n"
   ]
  },
  {
   "cell_type": "code",
   "execution_count": 86,
   "id": "69e148c3-7c3d-4146-80b2-754435023135",
   "metadata": {},
   "outputs": [
    {
     "data": {
      "text/plain": [
       "'Baby/calm/down/calm/down/Girl,/this/your/body/e/put/my/heart/for/lockdown'"
      ]
     },
     "execution_count": 86,
     "metadata": {},
     "output_type": "execute_result"
    }
   ],
   "source": [
    "\"/\".join(['Baby', 'calm', 'down', 'calm', 'down', 'Girl,', 'this', 'your', 'body', 'e', 'put', 'my', 'heart', 'for', 'lockdown'])"
   ]
  },
  {
   "cell_type": "code",
   "execution_count": 88,
   "id": "5c93d8fd-c010-478e-b8d2-0a08fd30d764",
   "metadata": {},
   "outputs": [
    {
     "data": {
      "text/plain": [
       "'Hey pussio boy, you are a freakin pussio bitch'"
      ]
     },
     "execution_count": 88,
     "metadata": {},
     "output_type": "execute_result"
    }
   ],
   "source": [
    "\"Hey nigga boy, you are a freakin nigga bitch\".replace(\"nigga\",\"pussio\")"
   ]
  },
  {
   "cell_type": "code",
   "execution_count": 90,
   "id": "623fd56a-98b5-4240-be24-967c1aec5897",
   "metadata": {},
   "outputs": [
    {
     "name": "stdout",
     "output_type": "stream",
     "text": [
      "HI                        bitch               \n"
     ]
    }
   ],
   "source": [
    "name = \"                        bitch               \"\n",
    "print(\"HI\" + name)"
   ]
  },
  {
   "cell_type": "code",
   "execution_count": 92,
   "id": "ec617784-2322-4bde-9adb-57b32489d61c",
   "metadata": {},
   "outputs": [
    {
     "data": {
      "text/plain": [
       "'bitch'"
      ]
     },
     "execution_count": 92,
     "metadata": {},
     "output_type": "execute_result"
    }
   ],
   "source": [
    "name.strip()"
   ]
  },
  {
   "cell_type": "code",
   "execution_count": null,
   "id": "92345977-45cc-4bd8-94f6-f6c6addf830e",
   "metadata": {},
   "outputs": [],
   "source": []
  }
 ],
 "metadata": {
  "kernelspec": {
   "display_name": "Python 3 (ipykernel)",
   "language": "python",
   "name": "python3"
  },
  "language_info": {
   "codemirror_mode": {
    "name": "ipython",
    "version": 3
   },
   "file_extension": ".py",
   "mimetype": "text/x-python",
   "name": "python",
   "nbconvert_exporter": "python",
   "pygments_lexer": "ipython3",
   "version": "3.12.7"
  }
 },
 "nbformat": 4,
 "nbformat_minor": 5
}
