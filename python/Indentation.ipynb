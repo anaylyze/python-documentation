{
 "cells": [
  {
   "cell_type": "code",
   "execution_count": 8,
   "id": "4ec78722-b4fb-40bf-b40e-e241e61ad727",
   "metadata": {},
   "outputs": [
    {
     "name": "stdin",
     "output_type": "stream",
     "text": [
      "Enter your name :  baby\n"
     ]
    },
    {
     "name": "stdout",
     "output_type": "stream",
     "text": [
      "Fuck you bloody\n"
     ]
    }
   ],
   "source": [
    "name = input(\"Enter your name : \")\n",
    "if name == 'Anay':\n",
    "    print(\"Hello Baby\")\n",
    "else:\n",
    "    print(\"Fuck you bloody\") # In"
   ]
  },
  {
   "cell_type": "code",
   "execution_count": null,
   "id": "0286f57d-798b-4bd9-b886-dba8b2a1d9ee",
   "metadata": {},
   "outputs": [],
   "source": []
  }
 ],
 "metadata": {
  "kernelspec": {
   "display_name": "Python 3 (ipykernel)",
   "language": "python",
   "name": "python3"
  },
  "language_info": {
   "codemirror_mode": {
    "name": "ipython",
    "version": 3
   },
   "file_extension": ".py",
   "mimetype": "text/x-python",
   "name": "python",
   "nbconvert_exporter": "python",
   "pygments_lexer": "ipython3",
   "version": "3.12.7"
  }
 },
 "nbformat": 4,
 "nbformat_minor": 5
}
