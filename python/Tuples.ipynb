{
 "cells": [
  {
   "cell_type": "code",
   "execution_count": 26,
   "id": "62b452e8-da4d-4ea5-98dc-e00870648510",
   "metadata": {},
   "outputs": [
    {
     "name": "stdout",
     "output_type": "stream",
     "text": [
      "()\n",
      "(1, 2, 3, 4, 5)\n",
      "('a', True, 6.9, None)\n",
      "(1, 2, 3, ('anay', 69))\n",
      "((1, 2, (3, 4)), ('anay', 7, ('wasssup', 'nigga')))\n",
      "('Y', 'a', 's', 'h', 'i')\n",
      "(1, 2, 3, 4, 5)\n"
     ]
    }
   ],
   "source": [
    "T1 = () #empty tuple\n",
    "print(T1)\n",
    "T2 = (1,2,3,4,5) #homogenous tuple\n",
    "print(T2)\n",
    "T3 = (\"a\", True,6.9, None) #heterogenous\n",
    "print(T3)\n",
    "T4 = (1,2,3,('anay',69)) #2D Tuple\n",
    "print(T4)\n",
    "T5 = ((1,2,(3,4)),('anay',7,('wasssup','nigga'))) #3D tuple\n",
    "print(T5)\n",
    "T6 = (1)\n",
    "type(T6) #int\n",
    "T7 = ('anay')\n",
    "type(T7) #str\n",
    "T8 = (1,)\n",
    "type(T8) #tuple\n",
    "T9 = tuple('Yashi')\n",
    "print(T9)\n",
    "T10 = tuple([1,2,3,4,5])\n",
    "print(T10)"
   ]
  },
  {
   "cell_type": "code",
   "execution_count": 42,
   "id": "afa2a942-da43-4e3e-96ec-71deb845d35f",
   "metadata": {},
   "outputs": [
    {
     "name": "stdout",
     "output_type": "stream",
     "text": [
      "1\n",
      "('a', True)\n",
      "anay\n",
      "nigga\n"
     ]
    }
   ],
   "source": [
    "print(T2[0])\n",
    "print(T3[:2])\n",
    "print(T4[-1][-2])\n",
    "print(T5[1][2][1])"
   ]
  },
  {
   "cell_type": "code",
   "execution_count": 50,
   "id": "e3ec7977-8352-4b07-8978-c882b1270770",
   "metadata": {},
   "outputs": [
    {
     "name": "stdout",
     "output_type": "stream",
     "text": [
      "(1, 2, 3, 4, 5, 'a', True, 6.9, None)\n",
      "(1, 2, 3, 4, 5, 1, 2, 3, 4, 5, 1, 2, 3, 4, 5)\n",
      "a\n",
      "True\n",
      "6.9\n",
      "None\n",
      "False\n"
     ]
    }
   ],
   "source": [
    "# operations\n",
    "print(T2+T3)\n",
    "print(T2*3)\n",
    "for i in T3:\n",
    "    print(i)\n",
    "print(69 in T3)"
   ]
  },
  {
   "cell_type": "code",
   "execution_count": 52,
   "id": "b7c2c6a2-321e-43e2-80a5-738dcdd687fe",
   "metadata": {},
   "outputs": [
    {
     "name": "stdout",
     "output_type": "stream",
     "text": [
      "5\n",
      "1\n",
      "5\n",
      "[1, 2, 3, 4, 5]\n",
      "[5, 4, 3, 2, 1]\n"
     ]
    }
   ],
   "source": [
    "print(len(T2))\n",
    "print(min(T2))\n",
    "print(max(T2))\n",
    "print(sorted(T2))\n",
    "print(sorted(T2,reverse=True))"
   ]
  },
  {
   "cell_type": "code",
   "execution_count": null,
   "id": "f68d0b16-33e0-45d3-8e04-7020a04c31c1",
   "metadata": {},
   "outputs": [],
   "source": []
  }
 ],
 "metadata": {
  "kernelspec": {
   "display_name": "Python 3 (ipykernel)",
   "language": "python",
   "name": "python3"
  },
  "language_info": {
   "codemirror_mode": {
    "name": "ipython",
    "version": 3
   },
   "file_extension": ".py",
   "mimetype": "text/x-python",
   "name": "python",
   "nbconvert_exporter": "python",
   "pygments_lexer": "ipython3",
   "version": "3.12.7"
  }
 },
 "nbformat": 4,
 "nbformat_minor": 5
}
