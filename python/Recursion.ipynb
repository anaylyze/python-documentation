{
 "cells": [
  {
   "cell_type": "code",
   "execution_count": 2,
   "id": "4d3d5231-41e6-4144-9e8a-a74c0040667e",
   "metadata": {},
   "outputs": [
    {
     "name": "stdout",
     "output_type": "stream",
     "text": [
      "12\n"
     ]
    }
   ],
   "source": [
    "def mul(a,b):\n",
    "\n",
    "    if b == 1:\n",
    "        return a \n",
    "    else:\n",
    "        return a+mul(a,b-1)\n",
    "\n",
    "print(mul(3,4))"
   ]
  },
  {
   "cell_type": "code",
   "execution_count": 6,
   "id": "72a5663b-4f65-49d1-833e-dde25dc4b085",
   "metadata": {},
   "outputs": [
    {
     "name": "stdout",
     "output_type": "stream",
     "text": [
      "120\n"
     ]
    }
   ],
   "source": [
    "def fact(number):\n",
    "\n",
    "    if number == 1:\n",
    "        return 1\n",
    "\n",
    "    else:\n",
    "        return number*fact(number-1) #5!=5*4!\n",
    "\n",
    "print(fact(5))"
   ]
  },
  {
   "cell_type": "code",
   "execution_count": 32,
   "id": "41009e9d-dcab-49fd-8fcd-b90c710de22d",
   "metadata": {},
   "outputs": [
    {
     "name": "stdout",
     "output_type": "stream",
     "text": [
      "It is a palindrome.\n",
      "sex\n",
      "It is a palindrome.\n",
      "sex\n",
      "It is a palindrome.\n",
      "sex\n"
     ]
    }
   ],
   "source": [
    "def palin(text):\n",
    "    if len(text)==1:\n",
    "        print (\"It is a palindrome.\")\n",
    "    else:\n",
    "        if text[0]==text[-1]:\n",
    "            palin(text[1:-1])\n",
    "        else:\n",
    "            print(\"Not a palindrome.\")\n",
    "\n",
    "\n",
    "print(palin(\"madam\")) \n",
    "print(palin(\"naman\")) \n",
    "print(palin(\"malayalam\")) \n",
    "# this is for odd numbered palindrome but in the case of even numbered it will\n",
    "# give an error as at the end it will return an empty string\n",
    "# for an even numbered palindrom we will have to change len(text)<=1"
   ]
  },
  {
   "cell_type": "code",
   "execution_count": 24,
   "id": "1abbdf09-bc3c-40b7-99e6-824397ab1f8e",
   "metadata": {},
   "outputs": [
    {
     "name": "stdout",
     "output_type": "stream",
     "text": [
      "It is a palindrome.\n",
      "None\n"
     ]
    }
   ],
   "source": [
    "def palin(text):\n",
    "    if len(text)<=1:\n",
    "        print (\"It is a palindrome.\")\n",
    "    else:\n",
    "        if text[0]==text[-1]:\n",
    "            palin(text[1:-1])\n",
    "        else:\n",
    "            print(\"Not a palindrome.\")\n",
    "\n",
    "print(palin(\"anna\"))"
   ]
  },
  {
   "cell_type": "code",
   "execution_count": 10,
   "id": "1cd67bde-4ee5-42b3-b28a-9577dae1d92f",
   "metadata": {},
   "outputs": [
    {
     "name": "stdout",
     "output_type": "stream",
     "text": [
      "24157817\n",
      "4.026396751403809\n"
     ]
    }
   ],
   "source": [
    "# rabbit problem\n",
    "import time\n",
    "def fib(m):\n",
    "    if m==0 or m==1:\n",
    "        return 1\n",
    "    else:\n",
    "        return fib(m-1) + fib(m-2)\n",
    "\n",
    "start = time.time()\n",
    "print(fib(36))\n",
    "print(time.time()-start)"
   ]
  },
  {
   "cell_type": "code",
   "execution_count": 22,
   "id": "1e310cfa-b499-4128-978a-3be1875d6787",
   "metadata": {},
   "outputs": [
    {
     "name": "stdout",
     "output_type": "stream",
     "text": [
      "225591516161936330872512695036072072046011324913758190588638866418474627738686883405015987052796968498626\n",
      "0.0\n"
     ]
    }
   ],
   "source": [
    "''' Doing the rabbit problem more efficiently/ faster by storing the already-found\n",
    "factorials in a dict by memorization.\n",
    "'''\n",
    "import time\n",
    "def memo(m,d):\n",
    "    if m in d:\n",
    "        return d[m]\n",
    "    else:\n",
    "        d[m] = memo(m-1,d) + memo(m-2,d)\n",
    "        return d[m]\n",
    "start = time.time()\n",
    "d = {0:1,1:1}\n",
    "print(memo(500,d))\n",
    "print(time.time()-start)\n",
    "# print(d)"
   ]
  },
  {
   "cell_type": "code",
   "execution_count": null,
   "id": "7f140d66-17c3-4e82-918d-f1ea6f11b9fe",
   "metadata": {},
   "outputs": [],
   "source": [
    "# write the power set of [1,2,3]\n",
    "# {1,2,3} = {{} + {1} + {2} + {3} + {1,2} + {2,3} + {1,3} + {1,2,3}}\n"
   ]
  }
 ],
 "metadata": {
  "kernelspec": {
   "display_name": "Python 3 (ipykernel)",
   "language": "python",
   "name": "python3"
  },
  "language_info": {
   "codemirror_mode": {
    "name": "ipython",
    "version": 3
   },
   "file_extension": ".py",
   "mimetype": "text/x-python",
   "name": "python",
   "nbconvert_exporter": "python",
   "pygments_lexer": "ipython3",
   "version": "3.12.7"
  }
 },
 "nbformat": 4,
 "nbformat_minor": 5
}
