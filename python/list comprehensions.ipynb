{
 "cells": [
  {
   "cell_type": "code",
   "execution_count": 8,
   "id": "c6a60818-8133-4307-b4d8-229ee79f68c6",
   "metadata": {},
   "outputs": [
    {
     "name": "stdout",
     "output_type": "stream",
     "text": [
      "[2, 4, 6, 8, 10, 12, 14, 16, 18, 20]\n"
     ]
    }
   ],
   "source": [
    "# normal expression\n",
    "doubles =[]\n",
    "for x in range(1,11):\n",
    "    doubles.append(x*2)\n",
    "\n",
    "print(doubles)"
   ]
  },
  {
   "cell_type": "code",
   "execution_count": 10,
   "id": "af145b9e-6ea3-4726-9fd8-30a9eeadf55f",
   "metadata": {},
   "outputs": [
    {
     "name": "stdout",
     "output_type": "stream",
     "text": [
      "[2, 4, 6, 8, 10, 12, 14, 16, 18, 20]\n"
     ]
    }
   ],
   "source": [
    "# list comprehension\n",
    "# formula --> list = [expression for value in iterable if condition]\n",
    "\n",
    "doubles = [x*2 for x in range (1,11)]\n",
    "print(doubles)"
   ]
  },
  {
   "cell_type": "code",
   "execution_count": 12,
   "id": "8948d577-f8cd-45da-a003-8029bf880fe8",
   "metadata": {},
   "outputs": [
    {
     "name": "stdout",
     "output_type": "stream",
     "text": [
      "[3, 6, 9, 12, 15, 18, 21, 24, 27, 30, 33, 36, 39, 42, 45, 48, 51, 54, 57, 60, 63]\n"
     ]
    }
   ],
   "source": [
    "triples = [y*3 for y in range(1,22)]\n",
    "print(triples)"
   ]
  },
  {
   "cell_type": "code",
   "execution_count": 14,
   "id": "33c42eef-07ef-46cb-9baa-4383ca5e66d4",
   "metadata": {},
   "outputs": [
    {
     "name": "stdout",
     "output_type": "stream",
     "text": [
      "[1, 4, 9, 16, 25, 36, 49, 64, 81, 100]\n"
     ]
    }
   ],
   "source": [
    "squares = [z**2 for z in range (1,11)]\n",
    "print(squares)"
   ]
  },
  {
   "cell_type": "code",
   "execution_count": 22,
   "id": "7be99eeb-8c02-435f-9691-eef24045408b",
   "metadata": {},
   "outputs": [
    {
     "name": "stdout",
     "output_type": "stream",
     "text": [
      "['ORANGE', 'MANGO', 'GUAVA', 'KIWI', 'BANANA', 'APPLE']\n"
     ]
    }
   ],
   "source": [
    "# strings\n",
    "fruits = [\"orange\",\"mango\",\"guava\",\"kiwi\",\"banana\",\"apple\"]\n",
    "fruits = [ fruit.upper() for fruit in fruits]\n",
    "print(fruits)"
   ]
  },
  {
   "cell_type": "code",
   "execution_count": 26,
   "id": "eed87fb8-97bb-498d-96e3-0cca4e133b40",
   "metadata": {},
   "outputs": [
    {
     "name": "stdout",
     "output_type": "stream",
     "text": [
      "['o', 'm', 'g', 'k', 'b', 'a']\n"
     ]
    }
   ],
   "source": [
    "fruits = [\"orange\",\"mango\",\"guava\",\"kiwi\",\"banana\",\"apple\"]\n",
    "frooti = [i[0] for i in fruits]\n",
    "print(frooti)"
   ]
  },
  {
   "cell_type": "code",
   "execution_count": 36,
   "id": "f4526cea-bc77-4a0c-bb17-d19b1845ea5b",
   "metadata": {},
   "outputs": [
    {
     "name": "stdout",
     "output_type": "stream",
     "text": [
      "[1, 3, 5, 7, 9, 0]\n",
      "[-2, -4, -6, -8, -10]\n",
      "[-2, -4, -6, -8, -10, 0]\n",
      "[1, 3, 5, 7, 9]\n"
     ]
    }
   ],
   "source": [
    "numbers = [1,-2,3,-4,5,-6,7,-8,9,-10,0]\n",
    "\n",
    "positive = [num for num in numbers if num>=0]\n",
    "print(positive)\n",
    "\n",
    "negative = [num for num in numbers if num<0]\n",
    "print(negative)\n",
    "\n",
    "even = [i for i in numbers if i%2==0]\n",
    "print(even)\n",
    "\n",
    "odd = [i for i in numbers if i%2!=0]\n",
    "print(odd)"
   ]
  },
  {
   "cell_type": "code",
   "execution_count": 40,
   "id": "854719b6-73de-4e30-a6a4-af54b8919cd5",
   "metadata": {},
   "outputs": [
    {
     "name": "stdout",
     "output_type": "stream",
     "text": [
      "[75, 88, 97, 47, 53, 69]\n"
     ]
    }
   ],
   "source": [
    "grades = [75,88,32,97,12,47,53,69,24,3]\n",
    "passed = [marks for marks in grades if marks>=33]\n",
    "print(passed)"
   ]
  },
  {
   "cell_type": "code",
   "execution_count": 44,
   "id": "d9b0e104-3cd3-4315-aaa8-4159b1d34958",
   "metadata": {},
   "outputs": [
    {
     "name": "stdout",
     "output_type": "stream",
     "text": [
      "[88, 60]\n",
      "[20, 88, 60, 53, 42]\n"
     ]
    }
   ],
   "source": [
    "age = [20,88,60,5,10,53,42]\n",
    "\n",
    "retired = [i for i in age if i>=60]\n",
    "print(retired)\n",
    "\n",
    "adult = [i for i in age if i>=18]\n",
    "print(adult)"
   ]
  },
  {
   "cell_type": "code",
   "execution_count": null,
   "id": "aff410e9-0b0b-4fcb-8bb6-42710369c825",
   "metadata": {},
   "outputs": [],
   "source": []
  }
 ],
 "metadata": {
  "kernelspec": {
   "display_name": "Python 3 (ipykernel)",
   "language": "python",
   "name": "python3"
  },
  "language_info": {
   "codemirror_mode": {
    "name": "ipython",
    "version": 3
   },
   "file_extension": ".py",
   "mimetype": "text/x-python",
   "name": "python",
   "nbconvert_exporter": "python",
   "pygments_lexer": "ipython3",
   "version": "3.12.7"
  }
 },
 "nbformat": 4,
 "nbformat_minor": 5
}
