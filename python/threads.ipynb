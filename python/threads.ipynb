{
 "cells": [
  {
   "cell_type": "code",
   "execution_count": 4,
   "id": "7d40598a-ca05-4975-ae6f-7b0c37694f4b",
   "metadata": {},
   "outputs": [
    {
     "name": "stdout",
     "output_type": "stream",
     "text": [
      "Hello\n",
      "Hello\n",
      "Hello\n",
      "Hello\n",
      "Hello\n",
      "Hi\n",
      "Hi\n",
      "Hi\n",
      "Hi\n",
      "Hi\n"
     ]
    }
   ],
   "source": [
    "# Let's print hello and hii concurrently-\n",
    "# we want to print hello and hi simultaneously\n",
    "from threading import *\n",
    "class Hello(Thread):\n",
    "    def run(self):\n",
    "        for i in range(5):\n",
    "            print(\"Hello\")\n",
    "\n",
    "\n",
    "class Hi(Thread):\n",
    "    def run(self):\n",
    "        for i in range(5):\n",
    "            print(\"Hi\")\n",
    "\n",
    "t1 = Hello()\n",
    "t2 = Hi()\n",
    "\n",
    "t1.run()\n",
    "t2.run() # but printing hello and hi simultaneously is not possible "
   ]
  },
  {
   "cell_type": "code",
   "execution_count": 20,
   "id": "952852fa-d16c-455d-84f3-409aac4cea12",
   "metadata": {},
   "outputs": [
    {
     "name": "stdout",
     "output_type": "stream",
     "text": [
      "Hi\n",
      "Hello\n"
     ]
    }
   ],
   "source": [
    "# from threading import *\n",
    "# class Hello(Thread):\n",
    "#     def run(self):\n",
    "#         for i in range(500):\n",
    "#             print(\"Hello\")\n",
    "\n",
    "\n",
    "# class Hi(Thread):\n",
    "#     def run(self):\n",
    "#         for i in range(500):\n",
    "#             print(\"Hi\")\n",
    "\n",
    "# t1 = Hello()\n",
    "# t2 = Hi()\n",
    "\n",
    "# t1.start() # is used to execute func from two diff threads\n",
    "# t2.start() "
   ]
  },
  {
   "cell_type": "code",
   "execution_count": 1,
   "id": "b6a922b1-bcb7-4a81-b29d-246ec0edc6b8",
   "metadata": {},
   "outputs": [
    {
     "name": "stdout",
     "output_type": "stream",
     "text": [
      "Hello\n",
      "Hello\n",
      "Hi\n"
     ]
    }
   ],
   "source": [
    "from time import sleep\n",
    "from threading import *\n",
    "\n",
    "class Hello(Thread):\n",
    "    def run(self):\n",
    "        for i in range(500):\n",
    "            print(\"Hello\")\n",
    "            sleep(1)\n",
    "\n",
    "\n",
    "class Hi(Thread):\n",
    "    def run(self):\n",
    "        for i in range(500):\n",
    "            print(\"Hi\")\n",
    "            sleep(1)\n",
    "\n",
    "t1 = Hello()\n",
    "t2 = Hi()\n",
    "\n",
    "t1.start() \n",
    "sleep(1)\n",
    "t2.start()"
   ]
  },
  {
   "cell_type": "code",
   "execution_count": 7,
   "id": "7b13396e-f30e-47be-925e-116ac7cda6b9",
   "metadata": {},
   "outputs": [
    {
     "name": "stdout",
     "output_type": "stream",
     "text": [
      "You finish walking the dog\n",
      "You took out the trash\n",
      "You took the mail from the mailbox\n"
     ]
    }
   ],
   "source": [
    "# normal threading--> execution through main thread\n",
    "\n",
    "import threading\n",
    "import time\n",
    "\n",
    "def walk_dog():\n",
    "    time.sleep(8)\n",
    "    print(\"You finish walking the dog\")\n",
    "\n",
    "def trash():\n",
    "    time.sleep(2)\n",
    "    print(\"You took out the trash\")\n",
    "\n",
    "def mail():\n",
    "    time.sleep(4)\n",
    "    print(\"You took the mail from the mailbox\")\n",
    "\n",
    "walk_dog()\n",
    "trash()\n",
    "mail()"
   ]
  },
  {
   "cell_type": "code",
   "execution_count": null,
   "id": "1eaca3c3-f57f-4793-ba1e-8d62e47d8eaf",
   "metadata": {},
   "outputs": [],
   "source": [
    "# multithreading --> execution after creating three diff threads\n",
    "import threading\n",
    "import time\n",
    "\n",
    "def walk_dog(name,surname):\n",
    "    time.sleep(8)\n",
    "    print(f\"You took out {name} {surname} for a walk\")\n",
    "\n",
    "def trash():\n",
    "    time.sleep(2)\n",
    "    print(\"You took out the trash\")\n",
    "\n",
    "def mail():\n",
    "    time.sleep(4)\n",
    "    print(\"You get the mail\")\n",
    "\n",
    "thread1 = threading.Thread(target=walk_dog, args=(\"Bruno\",\"the dog\"))\n",
    "thread1.start()\n",
    "\n",
    "thread2 = threading.Thread(target=trash)\n",
    "thread2.start()\n",
    "\n",
    "thread3 = threading.Thread(target=mail)\n",
    "thread3.start()\n",
    "\n",
    "thread1.join()\n",
    "thread2.join()\n",
    "thread3.join() \n",
    "\n",
    "print(\"All tasks completed duhh!!\")"
   ]
  }
 ],
 "metadata": {
  "kernelspec": {
   "display_name": "Python 3 (ipykernel)",
   "language": "python",
   "name": "python3"
  },
  "language_info": {
   "codemirror_mode": {
    "name": "ipython",
    "version": 3
   },
   "file_extension": ".py",
   "mimetype": "text/x-python",
   "name": "python",
   "nbconvert_exporter": "python",
   "pygments_lexer": "ipython3",
   "version": "3.12.7"
  }
 },
 "nbformat": 4,
 "nbformat_minor": 5
}
