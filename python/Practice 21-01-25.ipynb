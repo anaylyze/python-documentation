{
 "cells": [
  {
   "cell_type": "code",
   "execution_count": 18,
   "id": "005e3f89-654c-42b3-a17d-13951d94cb3a",
   "metadata": {},
   "outputs": [
    {
     "name": "stdin",
     "output_type": "stream",
     "text": [
      "Enter the first number here:  69\n",
      "Enter the second number here:  7\n",
      "Enter an operator here (+,-,*,/,**,%):  /\n"
     ]
    },
    {
     "name": "stdout",
     "output_type": "stream",
     "text": [
      "9.85714\n"
     ]
    }
   ],
   "source": [
    "# lets make a fucking calculator\n",
    "\n",
    "num1 = float(input(\"Enter the first number here: \"))\n",
    "num2 = float(input(\"Enter the second number here: \"))\n",
    "sign = input(\"Enter an operator here (+,-,*,/,**,%): \")\n",
    "\n",
    "if sign == '+':\n",
    "    print(num1+num2)\n",
    "elif sign == '-':\n",
    "    print(num1-num2)\n",
    "elif sign == '*':\n",
    "    print(num1*num2)\n",
    "elif sign == '/':\n",
    "    print(round(num1/num2,5)) # we can add round func for rounding off the answer and a number in result for how many places we can have decimals for\n",
    "elif sign == '**':\n",
    "    print(num1**num2)\n",
    "elif sign == '%':\n",
    "    print(num1%num2)\n",
    "else:\n",
    "    print(\"PLEASE ENTER VALID INPUT\")"
   ]
  },
  {
   "cell_type": "code",
   "execution_count": 20,
   "id": "fd7507f0-6ce1-4e3e-802d-f787b0d68bae",
   "metadata": {},
   "outputs": [
    {
     "name": "stdin",
     "output_type": "stream",
     "text": [
      "Enter the number:  69\n",
      "Enter the number:  7\n"
     ]
    },
    {
     "name": "stdout",
     "output_type": "stream",
     "text": [
      "Sum of the two numbers is 76\n",
      "Difference of the two numbers is 62\n",
      "Product of the two numbers is 483\n",
      "Quotient of the two numbers is 6\n"
     ]
    }
   ],
   "source": [
    "# Write a Python program to calculate the sum, difference, product, and quotient of two numbers entered by the user.\n",
    "\n",
    "a = float(input(\"Enter the number: \"))\n",
    "b = float(input(\"Enter the number: \"))\n",
    "print(f\"Sum of the two numbers is {a+b}\")\n",
    "print(f\"Difference of the two numbers is {a-b}\")\n",
    "print(f\"Product of the two numbers is {a*b}\")\n",
    "print(f\"Quotient of the two numbers is {a%b}\")"
   ]
  },
  {
   "cell_type": "code",
   "execution_count": 26,
   "id": "25040381-3ae4-4ed6-b98e-8342968fcedb",
   "metadata": {},
   "outputs": [
    {
     "name": "stdin",
     "output_type": "stream",
     "text": [
      "Enter the value of radius:  5\n"
     ]
    },
    {
     "name": "stdout",
     "output_type": "stream",
     "text": [
      "The area of circle is 78.53982\n"
     ]
    }
   ],
   "source": [
    "# Write a Python program to compute the area of a circle using the formula 𝜋.𝑟^2, where 𝑟 is entered by the user.\n",
    "import math\n",
    "r = float(input(\"Enter the value of radius: \"))\n",
    "print(f\"The area of circle is {round(math.pi * (r**2),5)}\")"
   ]
  },
  {
   "cell_type": "code",
   "execution_count": 44,
   "id": "14557142-6926-4d4a-97d7-c0e5e63a92be",
   "metadata": {},
   "outputs": [
    {
     "name": "stdin",
     "output_type": "stream",
     "text": [
      "Enter the initial principal balance:  799\n",
      "Enter the interest rate:  6\n",
      "Enter the number of times interest applied per time period:  12\n",
      "Enter the number of time periods elapsed:  2\n"
     ]
    },
    {
     "name": "stdout",
     "output_type": "stream",
     "text": [
      "THE FINAL AMOUNT IS 13450455.644626558\n"
     ]
    }
   ],
   "source": [
    "# Create a program that calculates the compound interest using the formula: 𝐴=𝑃(1+𝑟/𝑛)^𝑛𝑡.\n",
    "P = int(input(\"Enter the initial principal balance: \"))\n",
    "r = float(input(\"Enter the interest rate: \"))\n",
    "n = int(input(\"Enter the number of times interest applied per time period: \"))\n",
    "t = int(input(\"Enter the number of time periods elapsed: \"))\n",
    "A = P*(1+(r/n))**(n*t)\n",
    "print(f\"THE FINAL AMOUNT IS {A}\")"
   ]
  },
  {
   "cell_type": "code",
   "execution_count": 46,
   "id": "92f420a8-a551-4946-8f73-a65702c0caa0",
   "metadata": {},
   "outputs": [
    {
     "name": "stdin",
     "output_type": "stream",
     "text": [
      "Enter the number:  69\n",
      "Enter the number:  7732173\n"
     ]
    },
    {
     "name": "stdout",
     "output_type": "stream",
     "text": [
      "B IS GREATER\n"
     ]
    }
   ],
   "source": [
    "# Write a program to compare two numbers and print whether the first number is greater, smaller, or equal to the second number.\n",
    "\n",
    "a = float(input(\"Enter the number: \"))\n",
    "b = float(input(\"Enter the number: \"))\n",
    "\n",
    "if a>b:\n",
    "    print(\"A IS GREATER\")\n",
    "elif b>a:\n",
    "    print(\"B IS GREATER\")\n",
    "elif a==b:\n",
    "    print(\"A IS EQUAL TO B\")\n",
    "else:\n",
    "    print(\"Enter valid input\")"
   ]
  },
  {
   "cell_type": "code",
   "execution_count": 50,
   "id": "d2393c82-e3c4-4f63-9253-9bce8af4912c",
   "metadata": {},
   "outputs": [
    {
     "name": "stdin",
     "output_type": "stream",
     "text": [
      "Enter your age:  39\n"
     ]
    },
    {
     "name": "stdout",
     "output_type": "stream",
     "text": [
      "You're eligible to vote my dear\n"
     ]
    }
   ],
   "source": [
    "# Ask the user to input their age, and check if they are eligible to vote (age >= 18).\n",
    "age = int(input(\"Enter your age: \"))\n",
    "if age>=18:\n",
    "    print(\"You're eligible to vote my dear\")\n",
    "else:\n",
    "    print(\"Lund khada hota nhi aaye bada modi modi karne\")"
   ]
  },
  {
   "cell_type": "code",
   "execution_count": 56,
   "id": "37e0769e-f5ad-438c-a2bb-6104eb0b79ca",
   "metadata": {},
   "outputs": [
    {
     "name": "stdin",
     "output_type": "stream",
     "text": [
      "Enter number here:  -5\n",
      "Enter number here:  0\n",
      "Enter number here:  32\n"
     ]
    },
    {
     "name": "stdout",
     "output_type": "stream",
     "text": [
      "SHIT NOT COOL\n"
     ]
    }
   ],
   "source": [
    "# Write a program that takes three numbers and checks if all of them are positive.\n",
    "num1 = int(input(\"Enter number here: \"))\n",
    "num2 = int(input(\"Enter number here: \"))\n",
    "num3 = int(input(\"Enter number here: \"))\n",
    "\n",
    "if num1>0 and num2> 0  and num3>0 :\n",
    "    print(\"ALL OF THEM ARE POSITIVE\")\n",
    "else:\n",
    "    print(\"SHIT NOT COOL\")"
   ]
  },
  {
   "cell_type": "code",
   "execution_count": 64,
   "id": "577c9e8f-555e-4120-bd30-a904fa23e70a",
   "metadata": {},
   "outputs": [
    {
     "name": "stdin",
     "output_type": "stream",
     "text": [
      "Enter your number here:  33\n"
     ]
    },
    {
     "name": "stdout",
     "output_type": "stream",
     "text": [
      "hoth raseele tere hoth raseele\n"
     ]
    }
   ],
   "source": [
    "# Check if a user-entered number is divisible by both 3 and 5.\n",
    "num = int(input(\"Enter your number here: \"))\n",
    "if num%3==0 and num%5==0:\n",
    "    print(\"Number is completely divisible by 3 and 5\")\n",
    "else:\n",
    "    print(\"hoth raseele tere hoth raseele\")"
   ]
  },
  {
   "cell_type": "code",
   "execution_count": 70,
   "id": "03d2b4d8-cf4a-42f8-afb9-a616d6d0cc4f",
   "metadata": {},
   "outputs": [
    {
     "name": "stdin",
     "output_type": "stream",
     "text": [
      "Enter your leap year:  2022\n"
     ]
    },
    {
     "name": "stdout",
     "output_type": "stream",
     "text": [
      "Mera yasu yasu \n"
     ]
    }
   ],
   "source": [
    "# Write a program to check if a given year is a leap year.\n",
    "year = int(input(\"Enter your leap year: \"))\n",
    "if year%4==0:\n",
    "    print(\"Halleluah Its a leap year\")\n",
    "else:\n",
    "    print(\"Mera yasu yasu \")"
   ]
  },
  {
   "cell_type": "code",
   "execution_count": 75,
   "id": "3bdda3f1-7439-4495-b9c5-4355dbe5dc84",
   "metadata": {},
   "outputs": [
    {
     "name": "stdin",
     "output_type": "stream",
     "text": [
      "Enter your number here:  10\n",
      "Enter your number here:  4\n"
     ]
    },
    {
     "name": "stdout",
     "output_type": "stream",
     "text": [
      "14\n"
     ]
    }
   ],
   "source": [
    "# Write a Python program to swap two numbers using bitwise XOR.\n",
    "num1 = int(input(\"Enter your number here: \"))\n",
    "num2 = int(input(\"Enter your number here: \"))\n",
    "print(num1 ^ num2)"
   ]
  },
  {
   "cell_type": "code",
   "execution_count": 79,
   "id": "cec9e7e3-6cc1-4733-9601-5175cc853be3",
   "metadata": {},
   "outputs": [
    {
     "name": "stdin",
     "output_type": "stream",
     "text": [
      "Enter your number here:  7\n",
      "Enter your number here:  4\n"
     ]
    },
    {
     "name": "stdout",
     "output_type": "stream",
     "text": [
      "4\n",
      "7\n",
      "3\n"
     ]
    }
   ],
   "source": [
    "# Write a program to calculate the bitwise AND, OR, and XOR of two integers entered by the user.\n",
    "num1 = int(input(\"Enter your number here: \"))\n",
    "num2 = int(input(\"Enter your number here: \"))\n",
    "\n",
    "print(num1&num2)\n",
    "print(num1|num2)\n",
    "print(num1^num2)"
   ]
  },
  {
   "cell_type": "code",
   "execution_count": 87,
   "id": "5c3f7a08-4bd3-4b05-a978-a07f421b580f",
   "metadata": {},
   "outputs": [
    {
     "name": "stdin",
     "output_type": "stream",
     "text": [
      "Enter your number:  4\n"
     ]
    },
    {
     "name": "stdout",
     "output_type": "stream",
     "text": [
      "10\n",
      "1\n",
      "20\n",
      "0\n"
     ]
    }
   ],
   "source": [
    "# Write a program that initializes a variable with a value, then modifies it step-by-step using assignment operators.\n",
    "n = int(input(\"Enter your number: \"))\n",
    "n+=6\n",
    "print(n)\n",
    "n-=9\n",
    "print(n)\n",
    "n*=20\n",
    "print(n)\n",
    "n&=32\n",
    "print(n)"
   ]
  },
  {
   "cell_type": "code",
   "execution_count": 89,
   "id": "93ee7999-2ee7-44ff-b731-403332dcda81",
   "metadata": {},
   "outputs": [
    {
     "name": "stdout",
     "output_type": "stream",
     "text": [
      "True\n",
      "False\n",
      "False\n"
     ]
    }
   ],
   "source": [
    "# Write a program to check if a given letter exists in a user-provided string.\n",
    "user_input = \"Hi I am Raphinha and I am going to win ballon d'or this year. Muchas Gracias\"\n",
    "print(\"Raphinha\" in user_input)\n",
    "print(\"Brazil\" in user_input)\n",
    "print(\"muchas\" in user_input)"
   ]
  },
  {
   "cell_type": "code",
   "execution_count": 99,
   "id": "08e861e9-797e-4af8-b440-82293a38aaea",
   "metadata": {},
   "outputs": [
    {
     "name": "stdout",
     "output_type": "stream",
     "text": [
      "False\n",
      "True\n",
      "False\n"
     ]
    }
   ],
   "source": [
    "# Use the is operator to verify if two strings are identical in memory.\n",
    "name = \"Anay\"\n",
    "age = 20\n",
    "nickname = \"anay\"\n",
    "GirlsCallMe = \"Anay\"\n",
    "HomiesCallMe = \"Tonight\"\n",
    "print (name is HomiesCallMe)\n",
    "print (name is GirlsCallMe)\n",
    "print (name is nickname)"
   ]
  },
  {
   "cell_type": "code",
   "execution_count": 103,
   "id": "f7fa8a74-1bb4-4941-aae7-b2b87cd7bed1",
   "metadata": {},
   "outputs": [
    {
     "name": "stdin",
     "output_type": "stream",
     "text": [
      "Enter your weight here fat ass:  71\n",
      "Unit bhi daalde bhai (kgs or lbs):  kgs\n"
     ]
    },
    {
     "name": "stdout",
     "output_type": "stream",
     "text": [
      "Your weight is 156.6 lbs.\n"
     ]
    }
   ],
   "source": [
    "# weight converter program\n",
    "weight = float(input(\"Enter your weight here fat ass: \"))\n",
    "unit = input (\"Unit bhi daalde bhai (kgs or lbs): \")\n",
    "\n",
    "if unit == \"kgs\":\n",
    "    weight = weight * 2.205\n",
    "    unit = \"lbs\"\n",
    "    print(f\"Your weight is {round(weight,1)} {unit}.\")\n",
    "\n",
    "elif unit == \"lbs\":\n",
    "    weight = weight/2.205\n",
    "    unit = \"kgs\"\n",
    "    print(f\"Your weight is {round(weight,1)} {unit}.\")\n",
    "\n",
    "else:\n",
    "    print(\"Please enter valid input\")"
   ]
  },
  {
   "cell_type": "code",
   "execution_count": 113,
   "id": "17920800-6868-40b4-bc0d-d8cade667fc0",
   "metadata": {},
   "outputs": [
    {
     "name": "stdin",
     "output_type": "stream",
     "text": [
      "Enter the temperature here:  212\n",
      "Can you please specify the unit (C or F) F\n"
     ]
    },
    {
     "name": "stdout",
     "output_type": "stream",
     "text": [
      "Your temperature is 100°C.\n"
     ]
    }
   ],
   "source": [
    "# temp conversion program\n",
    "temp  = float(input(\"Enter the temperature here: \"))\n",
    "unit = input(\"Can you please specify the unit (C or F)\")\n",
    "\n",
    "if unit == \"C\":\n",
    "    temp = round((9*temp)/5 + 32, 1)\n",
    "    unit = \"F\" \n",
    "    print(f\"Your temperature is: {temp}°{unit}.\")\n",
    "elif unit == \"F\":\n",
    "    temp = round((temp-32) * 5/9)\n",
    "    unit = \"C\"\n",
    "    print(f\"Your temperature is {temp}°{unit}.\")\n",
    "else:\n",
    "    print(\"Enter a valid unit for measurement\")"
   ]
  },
  {
   "cell_type": "code",
   "execution_count": null,
   "id": "e0a9c27a-a387-4a23-a5e6-61bce6f2f7e4",
   "metadata": {},
   "outputs": [],
   "source": [
    "#  "
   ]
  }
 ],
 "metadata": {
  "kernelspec": {
   "display_name": "Python 3 (ipykernel)",
   "language": "python",
   "name": "python3"
  },
  "language_info": {
   "codemirror_mode": {
    "name": "ipython",
    "version": 3
   },
   "file_extension": ".py",
   "mimetype": "text/x-python",
   "name": "python",
   "nbconvert_exporter": "python",
   "pygments_lexer": "ipython3",
   "version": "3.12.7"
  }
 },
 "nbformat": 4,
 "nbformat_minor": 5
}
