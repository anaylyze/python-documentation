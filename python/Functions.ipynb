{
 "cells": [
  {
   "cell_type": "code",
   "execution_count": 36,
   "id": "4ea1533e-f17c-4bb0-b55f-bc6643eba3a4",
   "metadata": {},
   "outputs": [],
   "source": [
    "def is_even(number):\n",
    "    \"\"\"\n",
    "    This function is created to check if the given integer is even/odd\n",
    "    Input= even/odd\n",
    "    Output = even/odd\n",
    "    Created by Anay\n",
    "    Date -> 28/12/2024\n",
    "    \"\"\"\n",
    "    if type(number) == int:\n",
    "        if number%2 == 0:\n",
    "            print(\"Even\")\n",
    "            \n",
    "        else:\n",
    "            print(\"Odd\")\n",
    "            \n",
    "    else:\n",
    "        print(\"Not allowed\")\n",
    "        return 0"
   ]
  },
  {
   "cell_type": "code",
   "execution_count": 26,
   "id": "3ca90030-d754-4355-b823-4860b8d2ccfb",
   "metadata": {},
   "outputs": [
    {
     "name": "stdout",
     "output_type": "stream",
     "text": [
      "type(object) -> the object's type\n",
      "type(name, bases, dict, **kwds) -> a new type\n"
     ]
    }
   ],
   "source": [
    "print(type.__doc__)"
   ]
  },
  {
   "cell_type": "code",
   "execution_count": 46,
   "id": "9c016d03-5f47-43df-9958-435c6a3a9448",
   "metadata": {},
   "outputs": [
    {
     "name": "stdout",
     "output_type": "stream",
     "text": [
      "Odd\n",
      "None\n"
     ]
    }
   ],
   "source": [
    "print(is_even(69))"
   ]
  },
  {
   "cell_type": "code",
   "execution_count": 4,
   "id": "02c1a26b-eb3e-4336-97ef-d97e641701ab",
   "metadata": {},
   "outputs": [
    {
     "data": {
      "text/plain": [
       "8"
      ]
     },
     "execution_count": 4,
     "metadata": {},
     "output_type": "execute_result"
    }
   ],
   "source": [
    "def power(a=1 , b=1):\n",
    "     return a**b\n",
    "\n",
    "power(2,3)\n",
    "power(2)"
   ]
  },
  {
   "cell_type": "code",
   "execution_count": 10,
   "id": "cc118d76-b098-40c6-b0eb-0106f7f63c4c",
   "metadata": {},
   "outputs": [
    {
     "name": "stdout",
     "output_type": "stream",
     "text": [
      "362880\n"
     ]
    }
   ],
   "source": [
    "def factorial(*number):\n",
    "    product = 1\n",
    "    # print(number)\n",
    "    # print(type(number))\n",
    "    for i in number:\n",
    "            product = product*i\n",
    "    print(product)\n",
    "\n",
    "factorial(1,2,3,4,5,6,7,8,9)"
   ]
  },
  {
   "cell_type": "code",
   "execution_count": 12,
   "id": "079cfc4e-9cf6-45e0-b10f-0dc5787cdb48",
   "metadata": {},
   "outputs": [
    {
     "name": "stdout",
     "output_type": "stream",
     "text": [
      "81\n",
      "36\n"
     ]
    },
    {
     "ename": "NameError",
     "evalue": "name 'f' is not defined",
     "output_type": "error",
     "traceback": [
      "\u001b[1;31m---------------------------------------------------------------------------\u001b[0m",
      "\u001b[1;31mNameError\u001b[0m                                 Traceback (most recent call last)",
      "Cell \u001b[1;32mIn[12], line 10\u001b[0m\n\u001b[0;32m      8\u001b[0m \u001b[38;5;28mprint\u001b[39m(x(\u001b[38;5;241m6\u001b[39m))\n\u001b[0;32m      9\u001b[0m \u001b[38;5;28;01mdel\u001b[39;00m f\n\u001b[1;32m---> 10\u001b[0m \u001b[38;5;28mprint\u001b[39m(f(\u001b[38;5;241m4\u001b[39m))\n\u001b[0;32m     11\u001b[0m \u001b[38;5;28mprint\u001b[39m(x(\u001b[38;5;241m4\u001b[39m))\n",
      "\u001b[1;31mNameError\u001b[0m: name 'f' is not defined"
     ]
    }
   ],
   "source": [
    "# functions as objects\n",
    "def f(num):\n",
    "    return num**2\n",
    "\n",
    "print(f(9))\n",
    "# after aliasing\n",
    "x=f\n",
    "print(x(6))\n",
    "del f\n",
    "print(f(4))"
   ]
  },
  {
   "cell_type": "code",
   "execution_count": 14,
   "id": "8a158f5f-9a4c-4163-90f9-c3626d476aa8",
   "metadata": {},
   "outputs": [
    {
     "name": "stdout",
     "output_type": "stream",
     "text": [
      "16\n"
     ]
    }
   ],
   "source": [
    "print(x(4))"
   ]
  },
  {
   "cell_type": "code",
   "execution_count": 16,
   "id": "8fa8e093-688c-4594-a639-f0428dda353f",
   "metadata": {},
   "outputs": [
    {
     "data": {
      "text/plain": [
       "function"
      ]
     },
     "execution_count": 16,
     "metadata": {},
     "output_type": "execute_result"
    }
   ],
   "source": [
    "type(x)"
   ]
  },
  {
   "cell_type": "code",
   "execution_count": 18,
   "id": "d2d04413-2761-4fbe-8cfd-dc514b4ed943",
   "metadata": {},
   "outputs": [
    {
     "name": "stdout",
     "output_type": "stream",
     "text": [
      "[1, 2, 3, 4, <function f at 0x0000017F95BC7C40>]\n"
     ]
    }
   ],
   "source": [
    "L = [1,2,3,4,x]\n",
    "print(L)"
   ]
  },
  {
   "cell_type": "code",
   "execution_count": 20,
   "id": "12ecd2f2-4b44-479c-b07a-a8605c05b8e2",
   "metadata": {},
   "outputs": [
    {
     "data": {
      "text/plain": [
       "81"
      ]
     },
     "execution_count": 20,
     "metadata": {},
     "output_type": "execute_result"
    }
   ],
   "source": [
    "L[-1](9)"
   ]
  },
  {
   "cell_type": "code",
   "execution_count": 24,
   "id": "72e5b1ea-ae1e-4163-b6f0-def7fd2950b5",
   "metadata": {},
   "outputs": [
    {
     "name": "stdout",
     "output_type": "stream",
     "text": [
      "[1, 2, 3, 81]\n"
     ]
    }
   ],
   "source": [
    "L = [1,2,3,x(9)]\n",
    "print(L)"
   ]
  },
  {
   "cell_type": "code",
   "execution_count": 14,
   "id": "4bcecc81-c11c-4952-a7e4-1c37a3fb2555",
   "metadata": {},
   "outputs": [
    {
     "name": "stdin",
     "output_type": "stream",
     "text": [
      "Enter your number here:  4\n"
     ]
    },
    {
     "name": "stdout",
     "output_type": "stream",
     "text": [
      "16\n"
     ]
    }
   ],
   "source": [
    "# Write a func to calculate and return the square of a number.\n",
    "\n",
    "def square(num): #here num is a parameter\n",
    "    return num**2\n",
    "\n",
    "num = int(input('Enter your number here: '))\n",
    "result = square(num)\n",
    "\n",
    "print(result)"
   ]
  },
  {
   "cell_type": "code",
   "execution_count": 12,
   "id": "ec16ff62-d5db-4ada-aa48-3fba6dd4492d",
   "metadata": {},
   "outputs": [
    {
     "name": "stdin",
     "output_type": "stream",
     "text": [
      "enter first number here:  69\n",
      "enter second number here:  31\n"
     ]
    },
    {
     "name": "stdout",
     "output_type": "stream",
     "text": [
      "100\n"
     ]
    }
   ],
   "source": [
    "# func with multiple parameter\n",
    "# Create a func that takes two numbers as parameters and returns their sum\n",
    "\n",
    "def add(num1,num2):\n",
    "    return num1+num2\n",
    "\n",
    "num1 = int(input('enter first number here: '))\n",
    "num2 = int(input('enter second number here: '))\n",
    "result = add(num1,num2)\n",
    "print(result)"
   ]
  },
  {
   "cell_type": "code",
   "execution_count": 16,
   "id": "cb579153-a90c-46ee-b037-272576af76b7",
   "metadata": {},
   "outputs": [
    {
     "name": "stdout",
     "output_type": "stream",
     "text": [
      "54\n",
      "sx sx sx sx sx sx \n"
     ]
    }
   ],
   "source": [
    "# polymorphism\n",
    "# write a function multiply that multiplies two numbers, but can also accept and multiply strings.\n",
    "\n",
    "def multiply(a,b):\n",
    "    return a*b\n",
    "\n",
    "print(multiply(6,9))\n",
    "\n",
    "print(multiply(6,'sx '))"
   ]
  },
  {
   "cell_type": "code",
   "execution_count": 24,
   "id": "731f3c85-b42b-438f-9708-2438815a67f9",
   "metadata": {},
   "outputs": [
    {
     "name": "stdin",
     "output_type": "stream",
     "text": [
      "Enter the value of radius here:  7\n"
     ]
    },
    {
     "name": "stdout",
     "output_type": "stream",
     "text": [
      "Area: 153.93804002589985 \n",
      "Circumference: 43.982297150257104\n",
      "Area: 154 \n",
      "Circumference: 44\n"
     ]
    }
   ],
   "source": [
    "# func returning multiple values\n",
    "# Create a func that returns both the area and circumference of the circle given its radius\n",
    "import math\n",
    "\n",
    "def circle(radius):\n",
    "    area =  math.pi*(radius**2)\n",
    "    circum = 2*math.pi*radius\n",
    "    return area,circum\n",
    "\n",
    "radius = int(input('Enter the value of radius here: '))\n",
    "area,circum = circle(radius)\n",
    "print('Area:', area, '\\nCircumference:',circum)\n",
    "print('Area:', round(area), '\\nCircumference:',round(circum)) #this rounds off the value\n"
   ]
  },
  {
   "cell_type": "code",
   "execution_count": 46,
   "id": "daa29d83-db5e-4658-ac58-70886811b101",
   "metadata": {},
   "outputs": [
    {
     "name": "stdout",
     "output_type": "stream",
     "text": [
      "Hello, Namaste Anay !\n",
      "Hello, Namaste Messi babu !\n"
     ]
    }
   ],
   "source": [
    "# default parameter value\n",
    "# Write a func that greets a user. If no name is provided, it should greet with a default name\n",
    "\n",
    "def greet(name='Messi babu'): # name='Messi babu' here is a default argument, used in case when no argument is given\n",
    "    return f'Hello, Namaste {name} !'\n",
    "\n",
    "print(greet('Anay'))\n",
    "print(greet())"
   ]
  },
  {
   "cell_type": "code",
   "execution_count": 48,
   "id": "208d0e83-7a4b-4961-afb3-336c362e981f",
   "metadata": {},
   "outputs": [
    {
     "name": "stdout",
     "output_type": "stream",
     "text": [
      "729\n"
     ]
    }
   ],
   "source": [
    "# lambda function\n",
    "# Create a lambda function to compute the cube of a number.\n",
    "\n",
    "cube = lambda x: x**3 #lambda is used to perform functions faster and it is mainly used in frameworks\n",
    "print(cube(9))"
   ]
  },
  {
   "cell_type": "code",
   "execution_count": 50,
   "id": "8a727642-8ca9-47b6-968b-5fe369fa04bb",
   "metadata": {},
   "outputs": [
    {
     "name": "stdout",
     "output_type": "stream",
     "text": [
      "(1, 2, 3, 4)\n",
      "2\n",
      "4\n",
      "6\n",
      "8\n",
      "10\n"
     ]
    }
   ],
   "source": [
    "# functions with *arguments\n",
    "# Write a function that takes a variable number of arguments and returns their sum.\n",
    "\n",
    "# concept of arbitrary arguments\n",
    "def sum_all(*args):\n",
    "    print(args) #this tells ki the numbers are inside a tuple\n",
    "    for i in args:\n",
    "        print(i*2)\n",
    "    return sum(args) #hum bina sum ka use kare bhi loop use karke sum nikal sakte hain\n",
    "\n",
    "print(sum_all(1,2,3,4))"
   ]
  },
  {
   "cell_type": "code",
   "execution_count": 52,
   "id": "8194b05b-9868-4198-9665-ecbf8e8bb692",
   "metadata": {},
   "outputs": [
    {
     "name": "stdout",
     "output_type": "stream",
     "text": [
      "Name: anay\n",
      "GOAT: messi\n",
      "power: Chill guy\n"
     ]
    }
   ],
   "source": [
    "# functions with **kwargs\n",
    "# Create a function that accepts any number of keyword arguments and print them in the format key:value.\n",
    "\n",
    "def print_kwargs(**kwargs):\n",
    "    for key, value in kwargs.items():\n",
    "        print(f'{key}: {value}')\n",
    "\n",
    "print_kwargs(Name='anay', GOAT='messi', power='Chill guy')"
   ]
  },
  {
   "cell_type": "code",
   "execution_count": 10,
   "id": "e81a1e04-1d04-4847-9984-80d183ec502a",
   "metadata": {},
   "outputs": [
    {
     "name": "stdout",
     "output_type": "stream",
     "text": [
      "2\n",
      "4\n",
      "6\n",
      "8\n",
      "10\n"
     ]
    }
   ],
   "source": [
    "# Generator function with yield\n",
    "# Write a generator function that yields even numbers up to a specific limit.\n",
    "\n",
    "# def even_gen(limit):\n",
    "#     for i in range(2,limit+1,2):\n",
    "#         print(i)\n",
    "\n",
    "# print(even_gen(10)) #iss case mei toh none aayega result k baad jo ki nhi chahiye\n",
    "\n",
    "\n",
    "\n",
    "# def even_gen(limit):\n",
    "#     for i in range(2,limit+1,2):\n",
    "#         return(i)\n",
    "\n",
    "# print(even_gen(10)) #iss case mei i ki sirf ek value aayegi 2 bcs woh return hone k baad function closed\n",
    "\n",
    "\n",
    "\n",
    "# def even_gen(limit):\n",
    "#     for i in range(2,limit+1,2):\n",
    "#         return i \n",
    "\n",
    "# for num in even_gen(10):\n",
    "#     print(num) #isme error aayega bcs int iterable he nhi hai\n",
    "\n",
    "\n",
    "\n",
    "def even_gen(limit):\n",
    "    for i in range(2,limit+1,2):\n",
    "        yield i \n",
    "\n",
    "for num in even_gen(10):\n",
    "    print(num) #yield is diff from return as it not returns the value but generates it and also remembers where was it when last value was generated\n",
    "\n"
   ]
  },
  {
   "cell_type": "code",
   "execution_count": 12,
   "id": "923d71f1-fc01-470b-8951-249d45a5d0c0",
   "metadata": {},
   "outputs": [
    {
     "name": "stdout",
     "output_type": "stream",
     "text": [
      "120\n"
     ]
    }
   ],
   "source": [
    "# recursive function\n",
    "# Create the recursive function to calculate the factorial of a number.\n",
    "\n",
    "def fact(n):\n",
    "    if n==0: # this is the exit strategy for exiting the recursive func\n",
    "        return 1\n",
    "    else:\n",
    "        return n*fact(n-1) #this is the recursive statement\n",
    "\n",
    "print(fact(5))"
   ]
  },
  {
   "cell_type": "code",
   "execution_count": null,
   "id": "56c1d9a1-9c75-4bba-88ab-322e6579c2e4",
   "metadata": {},
   "outputs": [],
   "source": []
  }
 ],
 "metadata": {
  "kernelspec": {
   "display_name": "Python 3 (ipykernel)",
   "language": "python",
   "name": "python3"
  },
  "language_info": {
   "codemirror_mode": {
    "name": "ipython",
    "version": 3
   },
   "file_extension": ".py",
   "mimetype": "text/x-python",
   "name": "python",
   "nbconvert_exporter": "python",
   "pygments_lexer": "ipython3",
   "version": "3.12.7"
  }
 },
 "nbformat": 4,
 "nbformat_minor": 5
}
