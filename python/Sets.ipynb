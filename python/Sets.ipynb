{
 "cells": [
  {
   "cell_type": "code",
   "execution_count": 8,
   "id": "984b2e17-da5c-4e14-ba15-8ae3fa5b0cc6",
   "metadata": {},
   "outputs": [
    {
     "name": "stdout",
     "output_type": "stream",
     "text": [
      "<class 'dict'>\n",
      "<class 'set'>\n"
     ]
    }
   ],
   "source": [
    "S1 = {}\n",
    "print(type(S1)) \n",
    "# So to print an empty set \n",
    "S2 = set()\n",
    "print(type(S2))"
   ]
  },
  {
   "cell_type": "code",
   "execution_count": 14,
   "id": "452b63d4-2c46-4de5-ad8e-243ff5902d1f",
   "metadata": {},
   "outputs": [
    {
     "name": "stdout",
     "output_type": "stream",
     "text": [
      "{1, 2, 3, 4, 5}\n",
      "{None, 1, False, 4.5, 'hello'}\n"
     ]
    }
   ],
   "source": [
    "S3 = {1,2,3,4,5} #homogenous sets\n",
    "print(S3)\n",
    "S4 = {'hello',1,4.5,None,False} #heterogenous sets\n",
    "print(S4)"
   ]
  },
  {
   "cell_type": "code",
   "execution_count": 16,
   "id": "04749453-6fc8-446f-9580-a29e4c2bf8d7",
   "metadata": {},
   "outputs": [
    {
     "name": "stdout",
     "output_type": "stream",
     "text": [
      "{1, 2, 3, 4}\n"
     ]
    }
   ],
   "source": [
    "S5 = {1,1,2,3,4,2,3,1,2,3}\n",
    "print(S5) \n",
    "# therefore sets do not allow duplicates."
   ]
  },
  {
   "cell_type": "code",
   "execution_count": 20,
   "id": "5c33e203-e435-478a-a3ff-54fcc39cf477",
   "metadata": {},
   "outputs": [
    {
     "ename": "TypeError",
     "evalue": "unhashable type: 'list'",
     "output_type": "error",
     "traceback": [
      "\u001b[1;31m---------------------------------------------------------------------------\u001b[0m",
      "\u001b[1;31mTypeError\u001b[0m                                 Traceback (most recent call last)",
      "Cell \u001b[1;32mIn[20], line 1\u001b[0m\n\u001b[1;32m----> 1\u001b[0m S6 \u001b[38;5;241m=\u001b[39m {[\u001b[38;5;241m1\u001b[39m,\u001b[38;5;241m2\u001b[39m,\u001b[38;5;241m3\u001b[39m],\u001b[38;5;124m'\u001b[39m\u001b[38;5;124manay\u001b[39m\u001b[38;5;124m'\u001b[39m}\n\u001b[0;32m      2\u001b[0m \u001b[38;5;28mprint\u001b[39m(S6)\n",
      "\u001b[1;31mTypeError\u001b[0m: unhashable type: 'list'"
     ]
    }
   ],
   "source": [
    "S6 = {[1,2,3],'anay'}\n",
    "print(S6) # sets do not allow list inside itself"
   ]
  },
  {
   "cell_type": "code",
   "execution_count": 27,
   "id": "570176fd-6e66-491a-a2f2-6d2f38e2a5ae",
   "metadata": {},
   "outputs": [
    {
     "name": "stdout",
     "output_type": "stream",
     "text": [
      "{(1, 2, 3), 'hello'}\n"
     ]
    }
   ],
   "source": [
    "S7 = {(1,2,3),\"hello\"}\n",
    "print(S7) #but does allow tuple therefore, sets do not allow mutable data types."
   ]
  },
  {
   "cell_type": "code",
   "execution_count": 31,
   "id": "6e07fb7b-521f-4dc1-9735-7bb5a8b554b2",
   "metadata": {},
   "outputs": [
    {
     "ename": "TypeError",
     "evalue": "unhashable type: 'set'",
     "output_type": "error",
     "traceback": [
      "\u001b[1;31m---------------------------------------------------------------------------\u001b[0m",
      "\u001b[1;31mTypeError\u001b[0m                                 Traceback (most recent call last)",
      "Cell \u001b[1;32mIn[31], line 1\u001b[0m\n\u001b[1;32m----> 1\u001b[0m S8 \u001b[38;5;241m=\u001b[39m {{\u001b[38;5;241m1\u001b[39m,\u001b[38;5;241m2\u001b[39m},{\u001b[38;5;241m3\u001b[39m,\u001b[38;5;241m4\u001b[39m}}\n\u001b[0;32m      2\u001b[0m \u001b[38;5;28mprint\u001b[39m(S8)\n",
      "\u001b[1;31mTypeError\u001b[0m: unhashable type: 'set'"
     ]
    }
   ],
   "source": [
    "S8 = {{1,2},{3,4}}\n",
    "print(S8)"
   ]
  },
  {
   "cell_type": "code",
   "execution_count": 33,
   "id": "e65e2ada-e90c-44f5-88d8-ac63b23b7b97",
   "metadata": {},
   "outputs": [
    {
     "name": "stdout",
     "output_type": "stream",
     "text": [
      "{1, 2, 3, 4, 5}\n"
     ]
    }
   ],
   "source": [
    "print(S3)"
   ]
  },
  {
   "cell_type": "code",
   "execution_count": 35,
   "id": "aa6eda78-8dfa-4501-ac72-e182d35092f5",
   "metadata": {},
   "outputs": [
    {
     "ename": "TypeError",
     "evalue": "'set' object is not subscriptable",
     "output_type": "error",
     "traceback": [
      "\u001b[1;31m---------------------------------------------------------------------------\u001b[0m",
      "\u001b[1;31mTypeError\u001b[0m                                 Traceback (most recent call last)",
      "Cell \u001b[1;32mIn[35], line 1\u001b[0m\n\u001b[1;32m----> 1\u001b[0m S3[\u001b[38;5;241m0\u001b[39m:\u001b[38;5;241m2\u001b[39m]\n",
      "\u001b[1;31mTypeError\u001b[0m: 'set' object is not subscriptable"
     ]
    }
   ],
   "source": [
    "S3[0:2]"
   ]
  },
  {
   "cell_type": "code",
   "execution_count": 37,
   "id": "aa4dbdb6-0bea-48e2-9399-b963032ae50b",
   "metadata": {},
   "outputs": [
    {
     "name": "stdout",
     "output_type": "stream",
     "text": [
      "{1, 2, 3, 4, 5}\n"
     ]
    }
   ],
   "source": [
    "print(S3)"
   ]
  },
  {
   "cell_type": "code",
   "execution_count": 52,
   "id": "3b2bc5b3-7216-43ff-bac6-e07f500aee76",
   "metadata": {},
   "outputs": [
    {
     "name": "stdout",
     "output_type": "stream",
     "text": [
      "{4, 5, 69}\n"
     ]
    }
   ],
   "source": [
    "S3.add(69)\n",
    "print(S3)"
   ]
  },
  {
   "cell_type": "code",
   "execution_count": 49,
   "id": "2b384a7e-407f-4a5c-a226-6ba1da61f80d",
   "metadata": {},
   "outputs": [
    {
     "name": "stdout",
     "output_type": "stream",
     "text": [
      "{4, 5, 69}\n"
     ]
    }
   ],
   "source": []
  },
  {
   "cell_type": "code",
   "execution_count": 58,
   "id": "c7e716fc-a5f9-4fb1-9d9f-4b27649c5d71",
   "metadata": {},
   "outputs": [
    {
     "name": "stdout",
     "output_type": "stream",
     "text": [
      "6\n",
      "7\n",
      "99\n",
      "211\n",
      "[7, 10, 18, 32, 45, 99]\n",
      "[99, 45, 32, 18, 10, 7]\n"
     ]
    }
   ],
   "source": [
    "s1 = {99,45,18,7,10,32}\n",
    "print(len(s1))\n",
    "print(min(s1))\n",
    "print(max(s1))\n",
    "print(sum(s1))\n",
    "print(sorted(s1))\n",
    "print(sorted(s1,reverse = True))"
   ]
  },
  {
   "cell_type": "code",
   "execution_count": 66,
   "id": "dd863068-fd2a-42f8-8746-866b4544ba1d",
   "metadata": {},
   "outputs": [
    {
     "name": "stdout",
     "output_type": "stream",
     "text": [
      "{1, 2, 3, 4, 5, 6, 7}\n",
      "{3, 4, 5}\n",
      "{1, 2}\n",
      "{6, 7}\n",
      "{1, 2, 6, 7}\n",
      "False\n",
      "False\n",
      "False\n"
     ]
    }
   ],
   "source": [
    "s1 = {1,2,3,4,5}\n",
    "s2 = {3,4,5,6,7}\n",
    "print(s1.union(s2))\n",
    "print(s1.intersection(s2))\n",
    "print(s1.difference(s2)) #woh items jo s1 mei hain but s2 mei nhi\n",
    "print(s2.difference(s1)) #woh items jo s2 mei hain but s1 mei nhi\n",
    "print(s1.symmetric_difference(s2)) #common elements minus ho jaate hain\n",
    "print(s1.isdisjoint(s2)) #when  they have no element in common\n",
    "print(s1.issubset(s2)) #s1 is subset of s2 or not\n",
    "print(s1.issuperset(s2)) #s1 is superset of s2 or not"
   ]
  },
  {
   "cell_type": "code",
   "execution_count": null,
   "id": "d03b85b7-2386-4406-97fc-8ca5135fd351",
   "metadata": {},
   "outputs": [],
   "source": []
  }
 ],
 "metadata": {
  "kernelspec": {
   "display_name": "Python 3 (ipykernel)",
   "language": "python",
   "name": "python3"
  },
  "language_info": {
   "codemirror_mode": {
    "name": "ipython",
    "version": 3
   },
   "file_extension": ".py",
   "mimetype": "text/x-python",
   "name": "python",
   "nbconvert_exporter": "python",
   "pygments_lexer": "ipython3",
   "version": "3.12.7"
  }
 },
 "nbformat": 4,
 "nbformat_minor": 5
}
