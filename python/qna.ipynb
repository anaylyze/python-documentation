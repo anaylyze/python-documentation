{
 "cells": [
  {
   "cell_type": "code",
   "execution_count": 6,
   "id": "100efc38-7a2e-4e62-885e-341cb452d41d",
   "metadata": {},
   "outputs": [
    {
     "name": "stdin",
     "output_type": "stream",
     "text": [
      "Enter the number here:  10\n"
     ]
    },
    {
     "name": "stdout",
     "output_type": "stream",
     "text": [
      "1 2 3 4 5 6 7 8 9 10 "
     ]
    }
   ],
   "source": [
    "# q1\n",
    "N = int(input('Enter the number here: '))\n",
    "for i in range (1, N+1):\n",
    "    print(i,end=' ')\n",
    "    i=i+1"
   ]
  },
  {
   "cell_type": "code",
   "execution_count": 20,
   "id": "c4becf1e-4b5b-477d-bfe1-b4fb4f1737c3",
   "metadata": {},
   "outputs": [
    {
     "name": "stdin",
     "output_type": "stream",
     "text": [
      "Enter the number here:  6\n"
     ]
    },
    {
     "name": "stdout",
     "output_type": "stream",
     "text": [
      "21\n"
     ]
    }
   ],
   "source": [
    "#q2\n",
    "N = int(input('Enter the number here: '))\n",
    "i = 1\n",
    "s = 0\n",
    "while i < N+1:\n",
    "    s = s+i\n",
    "    i=i+1\n",
    "\n",
    "print(s)"
   ]
  },
  {
   "cell_type": "code",
   "execution_count": 28,
   "id": "e9b5914f-48e0-499f-a58d-c8831f269901",
   "metadata": {},
   "outputs": [
    {
     "name": "stdin",
     "output_type": "stream",
     "text": [
      "Enter your number here:  26\n"
     ]
    },
    {
     "name": "stdout",
     "output_type": "stream",
     "text": [
      "26 X 1 = 26\n",
      "26 X 2 = 52\n",
      "26 X 3 = 78\n",
      "26 X 4 = 104\n",
      "26 X 5 = 130\n",
      "26 X 6 = 156\n",
      "26 X 7 = 182\n",
      "26 X 8 = 208\n",
      "26 X 9 = 234\n",
      "26 X 10 = 260\n"
     ]
    }
   ],
   "source": [
    "# Q3\n",
    "N = int(input('Enter your number here: '))\n",
    "for i in range(1,11):\n",
    "    print(f'{N} X {i} = {N*i}')"
   ]
  },
  {
   "cell_type": "code",
   "execution_count": 32,
   "id": "39342d9d-3a69-4c21-849b-94f460e427bc",
   "metadata": {},
   "outputs": [
    {
     "name": "stdin",
     "output_type": "stream",
     "text": [
      "Enter your number here:  2\n",
      "Enter your number here:  12\n"
     ]
    },
    {
     "name": "stdout",
     "output_type": "stream",
     "text": [
      "4 6 8 10 "
     ]
    }
   ],
   "source": [
    "# Q4\n",
    "start = int(input('Enter your number here: '))\n",
    "end = int(input('Enter your number here: '))\n",
    "\n",
    "for i in range(start+1,end):\n",
    "    if i%2==0:\n",
    "        print(i,end=' ')\n",
    "    else:\n",
    "        continue"
   ]
  },
  {
   "cell_type": "code",
   "execution_count": 48,
   "id": "80ff1296-768d-4cfc-b053-af3de3006ea6",
   "metadata": {},
   "outputs": [
    {
     "name": "stdin",
     "output_type": "stream",
     "text": [
      "Enter your number here:  10\n"
     ]
    },
    {
     "name": "stdout",
     "output_type": "stream",
     "text": [
      "3628800\n"
     ]
    }
   ],
   "source": [
    "# Q5\n",
    "num = int(input('Enter your number here: '))\n",
    "i=1\n",
    "fact=1\n",
    "while i<num:\n",
    "    i=i+1\n",
    "    fact=fact*i\n",
    "\n",
    "print(fact)"
   ]
  },
  {
   "cell_type": "code",
   "execution_count": 50,
   "id": "beb5f19b-2478-4e12-8337-1b7d09c25c54",
   "metadata": {},
   "outputs": [
    {
     "name": "stdin",
     "output_type": "stream",
     "text": [
      "Enter the number here:  12345\n"
     ]
    },
    {
     "name": "stdout",
     "output_type": "stream",
     "text": [
      "54321\n"
     ]
    }
   ],
   "source": [
    "# q6\n",
    "n = int(input('Enter the number here: '))\n",
    "reverse = 0\n",
    "\n",
    "while n>0:\n",
    "    last_digit = n%10\n",
    "    reverse = reverse*10 + last_digit\n",
    "    n//=10\n",
    "\n",
    "print(reverse)"
   ]
  },
  {
   "cell_type": "code",
   "execution_count": 52,
   "id": "4a3ce234-8ab8-495d-8b0a-bcd729f22e87",
   "metadata": {},
   "outputs": [
    {
     "name": "stdin",
     "output_type": "stream",
     "text": [
      "Enter your term:  5\n"
     ]
    },
    {
     "name": "stdout",
     "output_type": "stream",
     "text": [
      "0 1 1 2 3 "
     ]
    }
   ],
   "source": [
    "# Q7\n",
    "num = int(input('Enter your term: '))\n",
    "a,b = 0,1\n",
    "\n",
    "for i in range(num):\n",
    "    print(a,end=' ')\n",
    "    a,b=b,a+b"
   ]
  },
  {
   "cell_type": "code",
   "execution_count": 58,
   "id": "21570cce-0890-489c-8aeb-11c282908cb0",
   "metadata": {},
   "outputs": [
    {
     "name": "stdin",
     "output_type": "stream",
     "text": [
      "Enter the number:  4\n"
     ]
    },
    {
     "name": "stdout",
     "output_type": "stream",
     "text": [
      "\n",
      "*\n",
      "**\n",
      "***\n",
      "****\n"
     ]
    }
   ],
   "source": [
    "# Q10\n",
    "num = int(input('Enter the number: '))\n",
    "\n",
    "for i in range(0,num+1):\n",
    "    print('*'*i)\n",
    "    i=i+1"
   ]
  },
  {
   "cell_type": "code",
   "execution_count": null,
   "id": "e5c793c0-f852-4c42-a748-5af563aa1e1e",
   "metadata": {},
   "outputs": [],
   "source": [
    "# Q9\n"
   ]
  }
 ],
 "metadata": {
  "kernelspec": {
   "display_name": "Python 3 (ipykernel)",
   "language": "python",
   "name": "python3"
  },
  "language_info": {
   "codemirror_mode": {
    "name": "ipython",
    "version": 3
   },
   "file_extension": ".py",
   "mimetype": "text/x-python",
   "name": "python",
   "nbconvert_exporter": "python",
   "pygments_lexer": "ipython3",
   "version": "3.12.7"
  }
 },
 "nbformat": 4,
 "nbformat_minor": 5
}
