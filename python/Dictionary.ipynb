{
 "cells": [
  {
   "cell_type": "code",
   "execution_count": 2,
   "id": "449f4bb9-df79-4896-ba04-aeec6b1af50d",
   "metadata": {},
   "outputs": [
    {
     "name": "stdout",
     "output_type": "stream",
     "text": [
      "{}\n"
     ]
    }
   ],
   "source": []
  },
  {
   "cell_type": "code",
   "execution_count": 4,
   "id": "19089e28-697d-48dd-954d-7e202035523e",
   "metadata": {},
   "outputs": [
    {
     "ename": "TypeError",
     "evalue": "unhashable type: 'list'",
     "output_type": "error",
     "traceback": [
      "\u001b[1;31m---------------------------------------------------------------------------\u001b[0m",
      "\u001b[1;31mTypeError\u001b[0m                                 Traceback (most recent call last)",
      "Cell \u001b[1;32mIn[4], line 1\u001b[0m\n\u001b[1;32m----> 1\u001b[0m D1 \u001b[38;5;241m=\u001b[39m {[\u001b[38;5;124m'\u001b[39m\u001b[38;5;124mname\u001b[39m\u001b[38;5;124m'\u001b[39m]:\u001b[38;5;124m'\u001b[39m\u001b[38;5;124manay\u001b[39m\u001b[38;5;124m'\u001b[39m}\n\u001b[0;32m      2\u001b[0m \u001b[38;5;28mprint\u001b[39m(D1)\n",
      "\u001b[1;31mTypeError\u001b[0m: unhashable type: 'list'"
     ]
    }
   ],
   "source": [
    "D1 = {['name']:'anay'}\n",
    "print(D1)"
   ]
  },
  {
   "cell_type": "code",
   "execution_count": 6,
   "id": "36bf177e-6353-4196-8a1c-71fde269ccd3",
   "metadata": {},
   "outputs": [
    {
     "name": "stdout",
     "output_type": "stream",
     "text": [
      "{'Name': 'anay'}\n"
     ]
    }
   ],
   "source": [
    "D2 = {('Name'):'anay'}\n",
    "print(D2)"
   ]
  },
  {
   "cell_type": "code",
   "execution_count": 8,
   "id": "c2cebabe-bfff-4eed-aca8-6ffa142beb20",
   "metadata": {},
   "outputs": [
    {
     "name": "stdout",
     "output_type": "stream",
     "text": [
      "{'name': 'messi'}\n"
     ]
    }
   ],
   "source": [
    "d = {'name':'anay','name':'messi'}\n",
    "print(d) #python uses the recent value of the key as it thinks the value got updated"
   ]
  },
  {
   "cell_type": "code",
   "execution_count": 10,
   "id": "60fb3748-abc6-4e07-995d-8612fa349413",
   "metadata": {},
   "outputs": [
    {
     "name": "stdout",
     "output_type": "stream",
     "text": [
      "{}\n"
     ]
    }
   ],
   "source": [
    "D = {}\n",
    "print(D) #empty dict"
   ]
  },
  {
   "cell_type": "code",
   "execution_count": 18,
   "id": "aae1714b-1aba-4ec3-8ccb-312b93b5aca3",
   "metadata": {},
   "outputs": [
    {
     "name": "stdout",
     "output_type": "stream",
     "text": [
      "{'name': 'anay', 'age': 20, 'college': 'IIT-BHU', 'marks': {'physics': 89, 'chemistry': 94, 'maths': 79}}\n"
     ]
    }
   ],
   "source": [
    "# Multi-dimensional dict\n",
    "d1 = {'name':'anay','age':20,'college':'IIT-BHU','marks':{'physics':89,'chemistry':94,'maths':79}}\n",
    "print(d1)"
   ]
  },
  {
   "cell_type": "code",
   "execution_count": 20,
   "id": "be2829f5-0af9-49b8-b03d-04589748bca3",
   "metadata": {},
   "outputs": [
    {
     "name": "stdout",
     "output_type": "stream",
     "text": [
      "IIT-BHU\n",
      "79\n"
     ]
    }
   ],
   "source": [
    "print(d1['college'])\n",
    "print(d1['marks']['maths'])"
   ]
  },
  {
   "cell_type": "code",
   "execution_count": 22,
   "id": "3547e61e-5f70-4cbb-9232-2f82b9e2b528",
   "metadata": {},
   "outputs": [
    {
     "name": "stdout",
     "output_type": "stream",
     "text": [
      "{'name': 'anay', 'age': 20, 'college': 'IIT-BHU', 'marks': {'physics': 89, 'chemistry': 94, 'maths': 99}}\n"
     ]
    }
   ],
   "source": [
    "d1 ['marks']['maths'] = 99\n",
    "print(d1)"
   ]
  },
  {
   "cell_type": "code",
   "execution_count": 24,
   "id": "9335b2e1-8fa4-44df-b066-05ba5e4ea29f",
   "metadata": {},
   "outputs": [
    {
     "name": "stdout",
     "output_type": "stream",
     "text": [
      "{'name': 'anay', 'age': 20}\n"
     ]
    }
   ],
   "source": [
    "d2 = {'name':'anay','age':20}\n",
    "print(d2)"
   ]
  },
  {
   "cell_type": "code",
   "execution_count": 26,
   "id": "ca694408-f24c-4100-aa4e-ba8759f2f9d4",
   "metadata": {},
   "outputs": [
    {
     "name": "stdout",
     "output_type": "stream",
     "text": [
      "{'name': 'anay', 'age': 20, 'gender': 'male'}\n"
     ]
    }
   ],
   "source": [
    "d2['gender'] = 'male'\n",
    "print(d2)"
   ]
  },
  {
   "cell_type": "code",
   "execution_count": 38,
   "id": "8a49dc7e-14a6-408a-ae85-9eb56c9d97f6",
   "metadata": {},
   "outputs": [
    {
     "name": "stdout",
     "output_type": "stream",
     "text": [
      "dict_keys(['name', 'age', 'college', 'marks'])\n",
      "dict_values(['anay', 20, 'IIT-BHU', {'physics': 89, 'chemistry': 94, 'maths': 99}])\n",
      "age\n",
      "name\n",
      "['age', 'college', 'marks', 'name']\n",
      "['name', 'marks', 'college', 'age']\n"
     ]
    }
   ],
   "source": [
    "print(d1.keys())\n",
    "print(d1.values())\n",
    "print(min(d1))\n",
    "print(max(d1))\n",
    "print(sorted(d1))\n",
    "print(sorted(d1,reverse=True))"
   ]
  },
  {
   "cell_type": "code",
   "execution_count": null,
   "id": "3c1750d9-2f19-440b-b5c2-2d3601a72b0d",
   "metadata": {},
   "outputs": [],
   "source": []
  }
 ],
 "metadata": {
  "kernelspec": {
   "display_name": "Python 3 (ipykernel)",
   "language": "python",
   "name": "python3"
  },
  "language_info": {
   "codemirror_mode": {
    "name": "ipython",
    "version": 3
   },
   "file_extension": ".py",
   "mimetype": "text/x-python",
   "name": "python",
   "nbconvert_exporter": "python",
   "pygments_lexer": "ipython3",
   "version": "3.12.7"
  }
 },
 "nbformat": 4,
 "nbformat_minor": 5
}
