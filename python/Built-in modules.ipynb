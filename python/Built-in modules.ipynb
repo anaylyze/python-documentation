{
 "cells": [
  {
   "cell_type": "code",
   "execution_count": 3,
   "id": "23605939-4316-4742-9b6f-fa793a1f4831",
   "metadata": {},
   "outputs": [],
   "source": [
    "import math"
   ]
  },
  {
   "cell_type": "code",
   "execution_count": 10,
   "id": "90783dbb-d5dc-4d78-b853-422526ea3367",
   "metadata": {},
   "outputs": [
    {
     "name": "stdout",
     "output_type": "stream",
     "text": [
      "7.0\n",
      "3.141592653589793\n",
      "6\n",
      "6\n",
      "24\n",
      "2.718281828459045\n"
     ]
    }
   ],
   "source": [
    "print(math.sqrt(49))\n",
    "print(math.pi)\n",
    "print(math.ceil(5.2))\n",
    "print(math.floor(6.7))\n",
    "print(math.factorial(4))\n",
    "print(math.e)"
   ]
  },
  {
   "cell_type": "code",
   "execution_count": 12,
   "id": "97298f40-cd03-46d2-a433-3c10c5a7d96c",
   "metadata": {},
   "outputs": [],
   "source": [
    "import random"
   ]
  },
  {
   "cell_type": "code",
   "execution_count": 17,
   "id": "a70032b6-323b-4a6e-a09d-8780245eea1e",
   "metadata": {},
   "outputs": [
    {
     "data": {
      "text/plain": [
       "42"
      ]
     },
     "execution_count": 17,
     "metadata": {},
     "output_type": "execute_result"
    }
   ],
   "source": [
    "random.randint(1,100) #generates random number"
   ]
  },
  {
   "cell_type": "code",
   "execution_count": 25,
   "id": "2043c3d6-f7c8-48fd-a507-ff4286879e2e",
   "metadata": {},
   "outputs": [
    {
     "name": "stdout",
     "output_type": "stream",
     "text": [
      "[5, 9, 1, 3, 2]\n"
     ]
    }
   ],
   "source": [
    "a = [1,2,3,5,9]\n",
    "random.shuffle(a) #shuffles the variable everytime the code is run\n",
    "print(a)"
   ]
  },
  {
   "cell_type": "code",
   "execution_count": 27,
   "id": "85de976a-143c-473e-b0d6-9e9bce6437d5",
   "metadata": {},
   "outputs": [],
   "source": [
    "import time"
   ]
  },
  {
   "cell_type": "code",
   "execution_count": 33,
   "id": "0f9ebeb4-5233-4535-ad27-7bdfe00c4372",
   "metadata": {},
   "outputs": [
    {
     "data": {
      "text/plain": [
       "1734803846.0707724"
      ]
     },
     "execution_count": 33,
     "metadata": {},
     "output_type": "execute_result"
    }
   ],
   "source": [
    "time.time() # gives the time stamp from 1/1/1970 to this date"
   ]
  },
  {
   "cell_type": "code",
   "execution_count": 37,
   "id": "76ca66d8-a167-493c-a0c8-387cf91ded6a",
   "metadata": {},
   "outputs": [
    {
     "data": {
      "text/plain": [
       "'Sat Dec 21 23:28:28 2024'"
      ]
     },
     "execution_count": 37,
     "metadata": {},
     "output_type": "execute_result"
    }
   ],
   "source": [
    "time.ctime() #device ki current location k hisaab se time bata deta hai"
   ]
  },
  {
   "cell_type": "code",
   "execution_count": 39,
   "id": "0896b6af-4e16-48b5-bc72-24ccf8800d17",
   "metadata": {},
   "outputs": [
    {
     "name": "stdout",
     "output_type": "stream",
     "text": [
      "Hello\n",
      "Anay\n"
     ]
    }
   ],
   "source": [
    "print(\"Hello\")\n",
    "time.sleep(5 #delay kardeta h next function ko for that particular time\n",
    "print(\"Anay\")"
   ]
  },
  {
   "cell_type": "code",
   "execution_count": 41,
   "id": "3ae0997a-89a7-4547-a4be-ea724ddbc7cf",
   "metadata": {},
   "outputs": [],
   "source": [
    "import os"
   ]
  },
  {
   "cell_type": "code",
   "execution_count": 45,
   "id": "40c31f03-d57b-4d46-a93e-76bbdc5e556a",
   "metadata": {},
   "outputs": [
    {
     "data": {
      "text/plain": [
       "'C:\\\\Users\\\\Anay\\\\python'"
      ]
     },
     "execution_count": 45,
     "metadata": {},
     "output_type": "execute_result"
    }
   ],
   "source": [
    "os.getcwd() #current working directory batata h"
   ]
  },
  {
   "cell_type": "code",
   "execution_count": 47,
   "id": "13f9dd7d-3a97-4d2e-9103-00e8e8bbc979",
   "metadata": {},
   "outputs": [
    {
     "data": {
      "text/plain": [
       "['.ipynb_checkpoints',\n",
       " 'Break, Continue and Pass Statements .ipynb',\n",
       " 'Built-in functions.ipynb',\n",
       " 'Built-in modules.ipynb',\n",
       " 'Comments and Variables.ipynb',\n",
       " 'Data-types.ipynb',\n",
       " 'Guessing-game.ipynb',\n",
       " 'If-Else.ipynb',\n",
       " 'Indentation.ipynb',\n",
       " 'Keywords and Identifiers.ipynb',\n",
       " 'Literals.ipynb',\n",
       " 'loops.ipynb',\n",
       " 'nested-loops.ipynb',\n",
       " 'Operators.ipynb',\n",
       " 'Print-function.ipynb',\n",
       " 'User Input and Type Conversion.ipynb']"
      ]
     },
     "execution_count": 47,
     "metadata": {},
     "output_type": "execute_result"
    }
   ],
   "source": [
    "os.listdir() #lists out the directory the user is in or was is."
   ]
  },
  {
   "cell_type": "code",
   "execution_count": null,
   "id": "4b73c586-3701-489b-af44-b0c62ac4e2c5",
   "metadata": {},
   "outputs": [],
   "source": []
  }
 ],
 "metadata": {
  "kernelspec": {
   "display_name": "Python 3 (ipykernel)",
   "language": "python",
   "name": "python3"
  },
  "language_info": {
   "codemirror_mode": {
    "name": "ipython",
    "version": 3
   },
   "file_extension": ".py",
   "mimetype": "text/x-python",
   "name": "python",
   "nbconvert_exporter": "python",
   "pygments_lexer": "ipython3",
   "version": "3.12.7"
  }
 },
 "nbformat": 4,
 "nbformat_minor": 5
}
