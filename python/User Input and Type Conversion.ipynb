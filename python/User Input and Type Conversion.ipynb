{
 "cells": [
  {
   "cell_type": "code",
   "execution_count": 6,
   "id": "b02ac0ab-f60e-4e94-af37-ed1f8bc6cd4c",
   "metadata": {},
   "outputs": [
    {
     "name": "stdin",
     "output_type": "stream",
     "text": [
      "Enter first number : 96\n",
      "Enter second number : 99\n",
      "Enter an emoticon :  🤭\n"
     ]
    }
   ],
   "source": [
    "# user input\n",
    "first_num = input(\"Enter first number :\")\n",
    "second_num = input(\"Enter second number :\")\n",
    "emoji = input(u\"Enter an emoticon : \")"
   ]
  },
  {
   "cell_type": "code",
   "execution_count": 8,
   "id": "1cee8bda-35c0-4a88-8641-d568b6f4b824",
   "metadata": {},
   "outputs": [
    {
     "name": "stdout",
     "output_type": "stream",
     "text": [
      "9699\n",
      "🤭\n"
     ]
    }
   ],
   "source": [
    "result = (first_num + second_num)\n",
    "print(result)\n",
    "print(emoji)"
   ]
  },
  {
   "cell_type": "code",
   "execution_count": 10,
   "id": "86db4825-2ca8-4028-b16a-2c76dd436b28",
   "metadata": {},
   "outputs": [
    {
     "name": "stdin",
     "output_type": "stream",
     "text": [
      "Enter the first number : 96\n",
      "Enter the second number : 99\n"
     ]
    },
    {
     "name": "stdout",
     "output_type": "stream",
     "text": [
      "195\n"
     ]
    }
   ],
   "source": [
    "num1 = int(input(\"Enter the first number :\"))\n",
    "num2 = int(input(\"Enter the second number :\"))\n",
    "result = (num1 + num2)\n",
    "print(result)"
   ]
  },
  {
   "cell_type": "code",
   "execution_count": 23,
   "id": "ea7393bd-0357-44a6-a202-4adee6eeb03d",
   "metadata": {},
   "outputs": [
    {
     "name": "stdout",
     "output_type": "stream",
     "text": [
      "<class 'int'>\n",
      "<class 'float'>\n",
      "<class 'str'>\n",
      "<class 'bool'>\n",
      "<class 'complex'>\n",
      "<class 'list'>\n",
      "<class 'tuple'>\n",
      "<class 'set'>\n",
      "<class 'dict'>\n"
     ]
    }
   ],
   "source": [
    "# type\n",
    "print(type(9))\n",
    "print(type(6.9))\n",
    "print(type('Anay'))\n",
    "print(type(True))\n",
    "print(type(4+3j))\n",
    "print(type(['Anay', False,4,9.11,]))\n",
    "print(type((1,2,'anay',)))\n",
    "print(type({9,8,0,2,6}))\n",
    "print(type({\"Anay\":4,\"Pihu\":30,\"Messi\":10}))"
   ]
  },
  {
   "cell_type": "code",
   "execution_count": 38,
   "id": "e4a02948-ee60-45f0-a588-346a99f72b81",
   "metadata": {},
   "outputs": [
    {
     "name": "stdout",
     "output_type": "stream",
     "text": [
      "10.9\n",
      "(15.5+3j)\n"
     ]
    }
   ],
   "source": [
    "# implicit type conversion\n",
    "print(4 + 6.9)\n",
    "print(4.5 + 11 + 3j)"
   ]
  },
  {
   "cell_type": "code",
   "execution_count": 42,
   "id": "41b57519-4cd4-4641-8941-b69f215d49f1",
   "metadata": {},
   "outputs": [
    {
     "name": "stdout",
     "output_type": "stream",
     "text": [
      "6\n",
      "99.0\n",
      "88\n",
      "False\n",
      "(13+0j)\n",
      "['h', 'e', 'l', 'l', 'o']\n"
     ]
    }
   ],
   "source": [
    "# explicit type conversion\n",
    "print(int(6.9))\n",
    "print(float(99))\n",
    "print(str(88))\n",
    "print(bool(0))\n",
    "print(complex(13))\n",
    "print(list(\"hello\"))"
   ]
  },
  {
   "cell_type": "code",
   "execution_count": null,
   "id": "aaac7097-d5d2-4bb8-a8df-0c2e29431a8c",
   "metadata": {},
   "outputs": [],
   "source": []
  }
 ],
 "metadata": {
  "kernelspec": {
   "display_name": "Python 3 (ipykernel)",
   "language": "python",
   "name": "python3"
  },
  "language_info": {
   "codemirror_mode": {
    "name": "ipython",
    "version": 3
   },
   "file_extension": ".py",
   "mimetype": "text/x-python",
   "name": "python",
   "nbconvert_exporter": "python",
   "pygments_lexer": "ipython3",
   "version": "3.12.7"
  }
 },
 "nbformat": 4,
 "nbformat_minor": 5
}
