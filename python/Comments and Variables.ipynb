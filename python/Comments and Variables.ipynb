{
 "cells": [
  {
   "cell_type": "code",
   "execution_count": 4,
   "id": "d0412144-12ba-4421-b47a-a7a651549dd9",
   "metadata": {},
   "outputs": [
    {
     "name": "stdout",
     "output_type": "stream",
     "text": [
      "Hello world, this is Anay.\n"
     ]
    }
   ],
   "source": [
    "# comments\n",
    "print(\"Hello world, this is Anay.\") #this is a comment."
   ]
  },
  {
   "cell_type": "code",
   "execution_count": 8,
   "id": "4c13db8b-46e7-4593-bd13-632922057e08",
   "metadata": {},
   "outputs": [
    {
     "name": "stdout",
     "output_type": "stream",
     "text": [
      "Anay\n",
      "<class 'str'>\n"
     ]
    }
   ],
   "source": [
    "# variables\n",
    "name = 'Anay'\n",
    "print (name)\n",
    "print (type(name)) #here name is variable "
   ]
  },
  {
   "cell_type": "code",
   "execution_count": 10,
   "id": "e143e135-f416-4f11-b1b7-675f2645f954",
   "metadata": {},
   "outputs": [
    {
     "name": "stdout",
     "output_type": "stream",
     "text": [
      "True\n"
     ]
    }
   ],
   "source": [
    "name = True\n",
    "print (name)"
   ]
  },
  {
   "cell_type": "code",
   "execution_count": 12,
   "id": "04f94fc5-05bc-4dda-a145-a2b895ca1052",
   "metadata": {},
   "outputs": [
    {
     "name": "stdout",
     "output_type": "stream",
     "text": [
      "69\n"
     ]
    }
   ],
   "source": [
    "name = 69\n",
    "print (name)"
   ]
  },
  {
   "cell_type": "code",
   "execution_count": 14,
   "id": "f7c4816e-c170-4941-9413-1cba4a810d3e",
   "metadata": {
    "scrolled": true
   },
   "outputs": [
    {
     "name": "stdout",
     "output_type": "stream",
     "text": [
      "Cristianooooooo\n"
     ]
    }
   ],
   "source": [
    "name = 'Cristianooooooo'\n",
    "print (name)"
   ]
  },
  {
   "cell_type": "code",
   "execution_count": 2,
   "id": "18f3f0e3-a629-41d8-9008-cfe5ea805521",
   "metadata": {},
   "outputs": [
    {
     "name": "stdout",
     "output_type": "stream",
     "text": [
      "84\n"
     ]
    }
   ],
   "source": [
    "a=6;b=9;c=69\n",
    "print(a+b+c)"
   ]
  },
  {
   "cell_type": "code",
   "execution_count": 4,
   "id": "fa189c16-dda3-493b-971d-5bca560d5b45",
   "metadata": {},
   "outputs": [
    {
     "name": "stdout",
     "output_type": "stream",
     "text": [
      "2.8484848484848486\n"
     ]
    }
   ],
   "source": [
    "a,b,c=6,88,33\n",
    "print((a+b)/c)"
   ]
  },
  {
   "cell_type": "code",
   "execution_count": null,
   "id": "8179c657-3e9d-494e-9e5d-ecd53d1367f5",
   "metadata": {},
   "outputs": [],
   "source": [
    "a,b,c=69,88,2\n",
    "print(type"
   ]
  }
 ],
 "metadata": {
  "kernelspec": {
   "display_name": "Python 3 (ipykernel)",
   "language": "python",
   "name": "python3"
  },
  "language_info": {
   "codemirror_mode": {
    "name": "ipython",
    "version": 3
   },
   "file_extension": ".py",
   "mimetype": "text/x-python",
   "name": "python",
   "nbconvert_exporter": "python",
   "pygments_lexer": "ipython3",
   "version": "3.12.7"
  }
 },
 "nbformat": 4,
 "nbformat_minor": 5
}
