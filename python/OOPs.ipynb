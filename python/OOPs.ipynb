{
 "cells": [
  {
   "cell_type": "code",
   "execution_count": 8,
   "id": "729674be-cd89-42b0-a589-b3db1ef241e1",
   "metadata": {},
   "outputs": [
    {
     "name": "stdout",
     "output_type": "stream",
     "text": [
      "Hilux\n",
      "Toyota\n",
      "Tata\n",
      "Nano\n"
     ]
    }
   ],
   "source": [
    "# basic class and object\n",
    "# Create a car class with attributes like brand and model. Then create an instance of the class.\n",
    "\n",
    "class Car(): # car is the class and __init__ is the method \n",
    "    def __init__(self, brand, model):# self is used to connect the func with the instances for calling the variables/attributes. \n",
    "        self.brand = brand #brand and model are variables.\n",
    "        self.model = model\n",
    "\n",
    "my_car = Car('Toyota', 'Hilux')\n",
    "print(my_car.model)\n",
    "print(my_car.brand)\n",
    "\n",
    "my_car1 = Car('Tata', 'Nano')\n",
    "print(my_car1.brand)\n",
    "print(my_car1.model)\n",
    "# my_car and my_car1 are instances of the class Car()"
   ]
  },
  {
   "cell_type": "code",
   "execution_count": 4,
   "id": "0af75b9d-6636-487c-968c-6b24afa605e5",
   "metadata": {},
   "outputs": [
    {
     "name": "stdout",
     "output_type": "stream",
     "text": [
      "Toyota Hilux\n",
      "<bound method Car.full_name of <__main__.Car object at 0x0000021DE7FE79B0>>\n"
     ]
    }
   ],
   "source": [
    "# class method(func) and self\n",
    "# Add a method to the car class that displays the full name of the car( brand and model ).\n",
    "\n",
    "class Car(): \n",
    "    def __init__(self, brand, model):\n",
    "        self.brand = brand \n",
    "        self.model = model\n",
    "\n",
    "    def full_name(self):\n",
    "        return f'{self.brand} {self.model}' #self.brand/model he use karenge tabhi attribute call hoga\n",
    "\n",
    "my_car = Car('Toyota', 'Hilux')\n",
    "print(my_car.full_name()) # idhr parenthesis () use hoga bcs we are adding functionality using a func and not calling an attribute.\n",
    "\n",
    "my_car1 = Car('Tata', 'Nano')\n",
    "print(my_car1.full_name)"
   ]
  },
  {
   "cell_type": "code",
   "execution_count": 9,
   "id": "35fbb9dd-d3e4-465b-9349-a548dbb9121f",
   "metadata": {},
   "outputs": [
    {
     "name": "stdout",
     "output_type": "stream",
     "text": [
      "122.3kWh\n",
      "CyberTruck Modified\n"
     ]
    }
   ],
   "source": [
    "# inheritance\n",
    "# create an ElectricCar class that inherits from the car class and has an additional attribute battery_size\n",
    "\n",
    "class Car(): \n",
    "    def __init__(self, brand, model):\n",
    "        self.brand = brand \n",
    "        self.model = model\n",
    "\n",
    "    def full_name(self):\n",
    "        return f'{self.brand} {self.model}' \n",
    "\n",
    "\n",
    "class ElectricCar(Car): #(Car) is used so that ElectircCar inherits the functionality of class Car\n",
    "    def __init__(self, brand, model, battery_size):\n",
    "        super().__init__(brand, model) #super keyword is used when some attributes are already made in the above class and we can access the functions\n",
    "        self.battery_size = battery_size # in the above class with its help.\n",
    "        \n",
    "my_tesla = ElectricCar('CyberTruck','Modified','122.3kWh')\n",
    "print(my_tesla.battery_size)\n",
    "print(my_tesla.full_name()) # the below class will have access of all the functions of its inheritance."
   ]
  },
  {
   "cell_type": "code",
   "execution_count": 6,
   "id": "afba4031-54e8-482f-bcf4-0d5217faa8f0",
   "metadata": {
    "scrolled": true
   },
   "outputs": [
    {
     "name": "stdout",
     "output_type": "stream",
     "text": [
      "CyberTruck !\n"
     ]
    }
   ],
   "source": [
    "# Encapsulation\n",
    "# Modify the car class to encapsulate the brand attribute, making it private, and provide a getter method for it.\n",
    "\n",
    "# private -> attribute can still be accessed in class but any object can not access it.\n",
    "\n",
    "class Car(): \n",
    "    def __init__(self, brand, model):\n",
    "        self.__brand = brand  # adding __ infront of an attribute makes it private so that only another getter method can access the attribute. \n",
    "        self.model = model\n",
    "\n",
    "    def get_brand(self): # this is a getter method provided to access the brand\n",
    "        return self.__brand + ' !'\n",
    "\n",
    "    def full_name(self):\n",
    "        return f'{self.__brand} {self.model}' \n",
    "\n",
    "\n",
    "class ElectricCar(Car): \n",
    "    def __init__(self, brand, model, battery_size):\n",
    "        super().__init__(brand, model) \n",
    "        self.battery_size = battery_size \n",
    "        \n",
    "my_tesla = ElectricCar('CyberTruck','Modified','122.3kWh')\n",
    "print(my_tesla.get_brand())\n",
    "# print(my_tesla.__brand) gives error as attribute is private"
   ]
  },
  {
   "cell_type": "code",
   "execution_count": 6,
   "id": "3ed2a6c8-2e16-4c47-b29a-634746baf303",
   "metadata": {},
   "outputs": [
    {
     "ename": "SyntaxError",
     "evalue": "cannot assign to expression here. Maybe you meant '==' instead of '='? (969932656.py, line 32)",
     "output_type": "error",
     "traceback": [
      "\u001b[1;36m  Cell \u001b[1;32mIn[6], line 32\u001b[1;36m\u001b[0m\n\u001b[1;33m    'an'+'ay' = 'anay'\u001b[0m\n\u001b[1;37m    ^\u001b[0m\n\u001b[1;31mSyntaxError\u001b[0m\u001b[1;31m:\u001b[0m cannot assign to expression here. Maybe you meant '==' instead of '='?\n"
     ]
    }
   ],
   "source": [
    "# Polymorphism  \n",
    "# Demonstrate polymorphism by defining a method fuel_type in both Car and ElectricCar classes, but with diff behaviors.\n",
    "\n",
    "class Car(): \n",
    "    def __init__(self, brand, model):\n",
    "        self.__brand = brand  \n",
    "        self.model = model\n",
    "\n",
    "    def get_brand(self): \n",
    "        return self.__brand + ' !'\n",
    "\n",
    "    def full_name(self):\n",
    "        return f'{self.__brand} {self.model}' \n",
    "\n",
    "    def fuel_type(self): # here polymorphism means ki ek he functions k do alag alag outcomes hain jese fuel_type  \n",
    "        return 'petrol or diesel'\n",
    "\n",
    "class ElectricCar(Car): \n",
    "    def __init__(self, brand, model, battery_size):\n",
    "        super().__init__(brand, model) \n",
    "        self.battery_size = battery_size \n",
    "\n",
    "    def fuel_type(self):\n",
    "        return 'electric charge'\n",
    "    \n",
    "my_tesla = ElectricCar('Tesla','model S','95kWh')\n",
    "print(my_tesla.fuel_type())\n",
    "my_car = Car('Honda','civic')\n",
    "print(my_car.fuel_type())\n",
    "\n",
    "# polymorphism can also depend upon the inputs we give jese concatenation k case mei if we give a string toh the outcome is diff than an integer\n",
    "# 'an'+'ay' = 'anay'\n",
    "# 1+2 = 3"
   ]
  },
  {
   "cell_type": "code",
   "execution_count": 10,
   "id": "1d3d02e0-e515-43f1-b8ed-96eedfea19c1",
   "metadata": {},
   "outputs": [
    {
     "name": "stdout",
     "output_type": "stream",
     "text": [
      "The total number of cars are  4\n"
     ]
    }
   ],
   "source": [
    "# class variable\n",
    "# Add a class variable to the Car that keeps track of the number of cars created.\n",
    "\n",
    "class Car(): \n",
    "    total_car = 0 # The class variable will always be added outside of the func and in the class \n",
    "    \n",
    "    def __init__(self, brand, model):\n",
    "        self.__brand = brand  \n",
    "        self.model = model\n",
    "        Car.total_car += 1 #this line adds the total number of cars in the Car class\n",
    "\n",
    "    def get_brand(self): \n",
    "        return self.__brand + ' !'\n",
    "\n",
    "    def full_name(self):\n",
    "        return f'{self.__brand} {self.model}' \n",
    "\n",
    "    def fuel_type(self):  \n",
    "        return 'petrol or diesel'\n",
    "\n",
    "class ElectricCar(Car): \n",
    "    def __init__(self, brand, model, battery_size):\n",
    "        super().__init__(brand, model) \n",
    "        self.battery_size = battery_size \n",
    "\n",
    "    def fuel_type(self):\n",
    "        return 'electric charge'\n",
    "\n",
    "Car('Toyota','Safari')\n",
    "Car('Mahindra','Bolero')\n",
    "Car('Mercedes','S-Class')\n",
    "ElectricCar('Kia','Seltos','85kWh')\n",
    "\n",
    "print('The total number of cars are ', Car.total_car) # The output will give the sum of all cars inside the Car class and the ElectricCar class."
   ]
  },
  {
   "cell_type": "code",
   "execution_count": 14,
   "id": "3c949091-d569-420f-80c5-54ab05b131d5",
   "metadata": {},
   "outputs": [
    {
     "name": "stdout",
     "output_type": "stream",
     "text": [
      "I love cars\n",
      "I love cars\n"
     ]
    }
   ],
   "source": [
    "# static method -> is a method that belongs to a class(Car) rather than an instance(my_tesla or my_car)\n",
    "\n",
    "# Add a static method to the Car that returns a general description of a car.\n",
    "\n",
    "class Car(): \n",
    "    total_car = 0 \n",
    "    \n",
    "    def __init__(self, brand, model):\n",
    "        self.__brand = brand  \n",
    "        self.model = model\n",
    "        Car.total_car += 1 \n",
    "\n",
    "    def get_brand(self): \n",
    "        return self.__brand + ' !'\n",
    "\n",
    "    def full_name(self):\n",
    "        return f'{self.__brand} {self.model}' \n",
    "\n",
    "    def fuel_type(self):  \n",
    "        return 'petrol or diesel'\n",
    "\n",
    "    @staticmethod # This is a decorator\n",
    "    def car_des():\n",
    "        return 'I love cars'\n",
    "\n",
    "class ElectricCar(Car): \n",
    "    def __init__(self, brand, model, battery_size):\n",
    "        super().__init__(brand, model) \n",
    "        self.battery_size = battery_size \n",
    "\n",
    "    def fuel_type(self):\n",
    "        return 'electric charge'\n",
    "\n",
    "my_car = Car('Tata','Nexon')\n",
    "print(my_car.car_des()) #instance is able to access static method functions but...\n",
    "print(Car.car_des()) # class can also access the function\n",
    "# @staticmethod  means it does not require an instance of the class to be called\n",
    "# if we need to hide then we do print(Car.car_des())"
   ]
  },
  {
   "cell_type": "code",
   "execution_count": 56,
   "id": "5cc336ed-6c01-4780-85a9-4108c15d0cb5",
   "metadata": {},
   "outputs": [
    {
     "name": "stdout",
     "output_type": "stream",
     "text": [
      "Nexon\n"
     ]
    }
   ],
   "source": [
    "# property decorators -> used when I intentionally want to hide a prop and if someone wants to access then they can only do it via my method.\n",
    "# to avoid overwriting any method.\n",
    "\n",
    "# use a property decorator in the car class to make the model attribute read-only.\n",
    "\n",
    "class Car(): \n",
    "    total_car = 0 \n",
    "    \n",
    "    def __init__(self, brand, model):\n",
    "        self.__brand = brand  \n",
    "        self.__model = model #first step is to private the attribute\n",
    "        Car.total_car += 1 \n",
    "\n",
    "    def get_brand(self): \n",
    "        return self.__brand + ' !'\n",
    "\n",
    "    def full_name(self):\n",
    "        return f'{self.__brand} {self.__model}' \n",
    "\n",
    "    def fuel_type(self):  \n",
    "        return 'petrol or diesel'\n",
    "\n",
    "    @staticmethod \n",
    "    def car_des():\n",
    "        return 'I love cars'\n",
    "\n",
    "    @property\n",
    "    def model(self):\n",
    "        return self.__model\n",
    "        \n",
    "class ElectricCar(Car): \n",
    "    def __init__(self, brand, model, battery_size):\n",
    "        super().__init__(brand, model) \n",
    "        self.battery_size = battery_size \n",
    "\n",
    "    def fuel_type(self):\n",
    "        return 'electric charge'\n",
    "\n",
    "my_car = Car('Tata','Nexon')\n",
    "# my_car.model = 'Nano' # This changes the value of the attribute externally to avoid this we will first private the attribute and use the property decorator \n",
    "# the above calling will not be able to rename the model bcs of the use of the property decorator.\n",
    "\n",
    "print(my_car.model) # and after the use of prop dec we will get the same model name  and it is read-only(immutable)."
   ]
  },
  {
   "cell_type": "code",
   "execution_count": 58,
   "id": "e5cd2b3d-558d-4619-853d-0db0709b746d",
   "metadata": {},
   "outputs": [
    {
     "name": "stdout",
     "output_type": "stream",
     "text": [
      "True\n",
      "True\n"
     ]
    }
   ],
   "source": [
    "# class inheritance and isinstance() function\n",
    "\n",
    "# Demonstrate the use of isinstance() to check if my_tesla is an instance of car and ElectricCar\n",
    "\n",
    "\n",
    "class Car(): \n",
    "    total_car = 0 \n",
    "    \n",
    "    def __init__(self, brand, model):\n",
    "        self.__brand = brand  \n",
    "        self.__model = model \n",
    "        Car.total_car += 1 \n",
    "\n",
    "    def get_brand(self): \n",
    "        return self.__brand + ' !'\n",
    "\n",
    "    def full_name(self):\n",
    "        return f'{self.__brand} {self.__model}' \n",
    "\n",
    "    def fuel_type(self):  \n",
    "        return 'petrol or diesel'\n",
    "\n",
    "    @staticmethod \n",
    "    def car_des():\n",
    "        return 'I love cars'\n",
    "\n",
    "    @property\n",
    "    def model(self):\n",
    "        return self.__model\n",
    "        \n",
    "class ElectricCar(Car): \n",
    "    def __init__(self, brand, model, battery_size):\n",
    "        super().__init__(brand, model) \n",
    "        self.battery_size = battery_size \n",
    "\n",
    "    def fuel_type(self):\n",
    "        return 'electric charge'\n",
    "\n",
    "my_tesla = ElectricCar('Tesla','s-model','125kWh')\n",
    "\n",
    "print(isinstance(my_tesla,Car))\n",
    "print(isinstance(my_tesla,ElectricCar))\n",
    "# isinstance() func is used to find if an instance lies inside a class or inherited class or not"
   ]
  },
  {
   "cell_type": "code",
   "execution_count": 68,
   "id": "0607c4f9-57a0-46f1-ad2d-21c02c83229f",
   "metadata": {},
   "outputs": [
    {
     "name": "stdout",
     "output_type": "stream",
     "text": [
      "This Electric Car has a battery.\n",
      "This Electric Car has an engine.\n"
     ]
    }
   ],
   "source": [
    "# ṃultiple inheritance\n",
    "# Create two classes battery and engine, and let the ElectricCar class inherit from both, demonstrating multiple inheritance\n",
    "\n",
    "class Car(): \n",
    "    total_car = 0 \n",
    "    \n",
    "    def __init__(self, brand, model):\n",
    "        self.__brand = brand  \n",
    "        self.__model = model \n",
    "        Car.total_car += 1 \n",
    "\n",
    "    def get_brand(self): \n",
    "        return self.__brand + ' !'\n",
    "\n",
    "    def full_name(self):\n",
    "        return f'{self.__brand} {self.__model}' \n",
    "\n",
    "    def fuel_type(self):  \n",
    "        return 'petrol or diesel'\n",
    "\n",
    "    @staticmethod \n",
    "    def car_des():\n",
    "        return 'I love cars'\n",
    "\n",
    "    @property\n",
    "    def model(self):\n",
    "        return self.__model\n",
    "\n",
    "class Battery(): #class battery is created\n",
    "    def battery_info(self):\n",
    "        return 'This Electric Car has a battery.'\n",
    "\n",
    "class Engine(): #class engine is created\n",
    "    def engine_info(self):\n",
    "        return 'This Electric Car has an engine.' \n",
    "\n",
    "class ElectricCar(Car, Battery, Engine): # class ElectricCar inherits classes Car, Battery, Engine showcasing multiple inheritance\n",
    "    def __init__(self, brand, model, battery_size):\n",
    "        super().__init__(brand, model) \n",
    "        self.battery_size = battery_size \n",
    "\n",
    "    def fuel_type(self):\n",
    "        return 'electric charge'\n",
    "my_tesla = ElectricCar('Tesla', 'S-model','99kWh')\n",
    "print(my_tesla.battery_info())\n",
    "print(my_tesla.engine_info())\n",
    "# The result proves that multiple inheritance is possible "
   ]
  },
  {
   "cell_type": "code",
   "execution_count": null,
   "id": "849311fc-c62a-48ef-a256-204bb8e4ed3f",
   "metadata": {},
   "outputs": [],
   "source": []
  }
 ],
 "metadata": {
  "kernelspec": {
   "display_name": "Python 3 (ipykernel)",
   "language": "python",
   "name": "python3"
  },
  "language_info": {
   "codemirror_mode": {
    "name": "ipython",
    "version": 3
   },
   "file_extension": ".py",
   "mimetype": "text/x-python",
   "name": "python",
   "nbconvert_exporter": "python",
   "pygments_lexer": "ipython3",
   "version": "3.12.7"
  }
 },
 "nbformat": 4,
 "nbformat_minor": 5
}
