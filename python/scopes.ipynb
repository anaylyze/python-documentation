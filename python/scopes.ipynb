{
 "cells": [
  {
   "cell_type": "code",
   "execution_count": 1,
   "id": "2513ae3c-5948-4ee8-a8db-48db4736895b",
   "metadata": {},
   "outputs": [
    {
     "name": "stdout",
     "output_type": "stream",
     "text": [
      "100\n"
     ]
    }
   ],
   "source": [
    "x = 99\n",
    "def func(y):\n",
    "    z = x+y # here z will take the value of x from global variable\n",
    "    return z\n",
    "result = func(1)\n",
    "print(result)"
   ]
  },
  {
   "cell_type": "code",
   "execution_count": 11,
   "id": "cfa17487-8f3b-4221-b5d7-3bd23a9a9e7c",
   "metadata": {},
   "outputs": [
    {
     "name": "stdout",
     "output_type": "stream",
     "text": [
      "12\n"
     ]
    }
   ],
   "source": [
    "x = 99\n",
    "def func():\n",
    "    global x #using the global keyword we can manipulate the value of global variable but this is not a good practice\n",
    "    x = 12\n",
    "func()\n",
    "print(x)"
   ]
  },
  {
   "cell_type": "code",
   "execution_count": 13,
   "id": "93af36e3-a10e-4872-8fc7-3ea86d1cd090",
   "metadata": {},
   "outputs": [
    {
     "name": "stdout",
     "output_type": "stream",
     "text": [
      "12\n"
     ]
    }
   ],
   "source": [
    "x = 99\n",
    "def f1():\n",
    "    x = 12\n",
    "    def f2():\n",
    "        print(x) # If we declare a local variable in first-order func then it will overwrite the global variable in second-order otherwise the global\n",
    "    f2() # variable will have the highest position in any order until it is manipulated locally.\n",
    "f1()"
   ]
  },
  {
   "cell_type": "code",
   "execution_count": 15,
   "id": "861e1452-8997-4dd0-a0b0-74adc10f7c9c",
   "metadata": {},
   "outputs": [
    {
     "name": "stdout",
     "output_type": "stream",
     "text": [
      "88\n"
     ]
    }
   ],
   "source": [
    "x = 99\n",
    "def f1():\n",
    "    x = 88\n",
    "    def f2():\n",
    "        print(x)\n",
    "    return f2\n",
    "result = f1() #idhar jab hum f1 ko call dete hain toh woh badle sirf x ki value dene ki jagah poora f2 func ko he return kar deta h bcs of return f2 \n",
    "result() # line."
   ]
  },
  {
   "cell_type": "code",
   "execution_count": 21,
   "id": "18be9500-a6ab-4c85-8d64-7a0511112b03",
   "metadata": {},
   "outputs": [
    {
     "name": "stdout",
     "output_type": "stream",
     "text": [
      "15\n"
     ]
    }
   ],
   "source": [
    " def outer_function(x): #Takes an argument x and defines inner_function.Returns inner_function as a result.\n",
    "    def inner_function(y): #Uses the variable x from the enclosing outer_function.\n",
    "        return x + y\n",
    "    return inner_function\n",
    "\n",
    "# Create a closure\n",
    "closure = outer_function(10) # It returns the inner_function with x=10 \"closed over.\" \n",
    "# The returned function (closure) retains access to x=10 even though outer_function has completed execution.\n",
    "\n",
    "# Use the closure\n",
    "print(closure(5))  # Output: 15"
   ]
  },
  {
   "cell_type": "code",
   "execution_count": 31,
   "id": "0743b0d1-2f63-4369-96d1-f9ec03ddc089",
   "metadata": {},
   "outputs": [
    {
     "name": "stdout",
     "output_type": "stream",
     "text": [
      "<function anay.<locals>.Messi at 0x000001B508378860>\n",
      "25\n"
     ]
    }
   ],
   "source": [
    "def anay(x):\n",
    "    def Messi(y):\n",
    "        return x**y\n",
    "    return Messi\n",
    "\n",
    "dior = anay(5) # this sets the value of x=5\n",
    "\n",
    "print(dior)\n",
    "print(dior(2))"
   ]
  },
  {
   "cell_type": "code",
   "execution_count": 4,
   "id": "109cb695-9ced-4bbe-9d9c-993704293fc4",
   "metadata": {},
   "outputs": [
    {
     "name": "stdout",
     "output_type": "stream",
     "text": [
      "10\n",
      "15\n"
     ]
    }
   ],
   "source": [
    "# What will be the output of the following code?\n",
    "def make_multiplier(n):\n",
    "    def multiplier(x):\n",
    "        return x*n\n",
    "    return multiplier\n",
    "\n",
    "double = make_multiplier(2)\n",
    "triple = make_multiplier(3)\n",
    "\n",
    "print(double(5))\n",
    "print(triple(5))"
   ]
  },
  {
   "cell_type": "code",
   "execution_count": 35,
   "id": "d415f643-17c3-4b43-9d74-9648e055a6f5",
   "metadata": {},
   "outputs": [
    {
     "name": "stdout",
     "output_type": "stream",
     "text": [
      "15\n"
     ]
    }
   ],
   "source": [
    "# Identify the free variable(s) in the following code and explain its role:\n",
    "def adder(value):\n",
    "    def add_to(x):\n",
    "        return x+value\n",
    "    return add_to\n",
    "add_five = adder(5)\n",
    "print(add_five(10))"
   ]
  },
  {
   "cell_type": "code",
   "execution_count": 57,
   "id": "560d99c2-2e64-4354-94a8-b932ec896faa",
   "metadata": {},
   "outputs": [
    {
     "name": "stdout",
     "output_type": "stream",
     "text": [
      "1\n",
      "2\n",
      "3\n"
     ]
    }
   ],
   "source": [
    "def create_counter():\n",
    "    count = 0\n",
    "    def counter():\n",
    "        nonlocal count \n",
    "        count += 1 #The line count += 1 causes an UnboundLocalError because\n",
    "        # Python assumes count is a local variable (due to the += operator).\n",
    "        return count\n",
    "    return counter\n",
    "\n",
    "counter = create_counter()\n",
    "print(counter())\n",
    "print(counter())\n",
    "print(counter())\n",
    "# The line count += 1 causes an UnboundLocalError because Python assumes\n",
    "# count is a local variable (due to the += operator)."
   ]
  },
  {
   "cell_type": "code",
   "execution_count": 63,
   "id": "372a7ca1-eb76-468e-901d-921388011735",
   "metadata": {},
   "outputs": [
    {
     "name": "stdout",
     "output_type": "stream",
     "text": [
      "1\n",
      "2\n",
      "3\n",
      "4\n",
      "5\n",
      "6\n",
      "7\n"
     ]
    }
   ],
   "source": [
    "# Write a closure that acts as a counter. Each time the inner function is called,\n",
    "# it should return the next number in sequence, starting from 1.\n",
    "\n",
    "\n",
    "def create_counter():\n",
    "    count = 0\n",
    "    def counter():\n",
    "        nonlocal count\n",
    "        count+=1\n",
    "        return count\n",
    "    return counter\n",
    "\n",
    "counter = create_counter()\n",
    "print(counter())\n",
    "print(counter())\n",
    "print(counter())\n",
    "print(counter())\n",
    "print(counter())\n",
    "print(counter())\n",
    "print(counter())"
   ]
  },
  {
   "cell_type": "code",
   "execution_count": 65,
   "id": "aad2a4f2-8cd3-49b5-ba81-238e17b7a086",
   "metadata": {},
   "outputs": [
    {
     "name": "stdout",
     "output_type": "stream",
     "text": [
      "16\n",
      "8\n"
     ]
    }
   ],
   "source": [
    "# What will the following code output? Explain why.\n",
    "def make_power(n):\n",
    "    def power(x):\n",
    "        return x**n\n",
    "    return power\n",
    "square = make_power(2)\n",
    "cube = make_power(3)\n",
    "\n",
    "print(square(4))\n",
    "print(cube(2))"
   ]
  },
  {
   "cell_type": "code",
   "execution_count": 69,
   "id": "0a4b3334-a9bd-415b-8db3-656fab06fe8d",
   "metadata": {},
   "outputs": [
    {
     "name": "stdout",
     "output_type": "stream",
     "text": [
      "[10]\n",
      "[10, 20]\n"
     ]
    }
   ],
   "source": [
    "# What will the output of the following code be, and why?\n",
    "\n",
    "def create_list_appender():\n",
    "    my_list = []\n",
    "    def appender(value):\n",
    "        my_list.append(value)\n",
    "        return my_list\n",
    "    return appender\n",
    "\n",
    "append_to_list = create_list_appender()\n",
    "print(append_to_list(10))\n",
    "print(append_to_list(20))"
   ]
  },
  {
   "cell_type": "code",
   "execution_count": 83,
   "id": "c937a123-5505-4c71-8060-f8b39a5269b7",
   "metadata": {},
   "outputs": [
    {
     "name": "stdout",
     "output_type": "stream",
     "text": [
      "Hello!\n",
      "Hello!\n",
      "Hello!\n",
      "Hello!\n",
      "Hello!\n",
      "Limit Reached\n"
     ]
    }
   ],
   "source": [
    "# Write a closure that allows a function to be called at most n times. After n \n",
    "# calls, the function should print \"Limit reached\".\n",
    "\n",
    "def limit_calls(n):\n",
    "    def decorator(func):\n",
    "        count = 0\n",
    "        def wrapper(*args,**kwargs):\n",
    "            nonlocal count\n",
    "            if count<n:\n",
    "                count+=1\n",
    "                return func(*args,**kwargs)\n",
    "            else:\n",
    "                print('Limit Reached')\n",
    "        return wrapper\n",
    "    return decorator\n",
    "\n",
    "@limit_calls(5)\n",
    "def say_hello():\n",
    "    print('Hello!')\n",
    "\n",
    "say_hello()\n",
    "say_hello()\n",
    "say_hello()\n",
    "say_hello()\n",
    "say_hello()\n",
    "say_hello()"
   ]
  },
  {
   "cell_type": "code",
   "execution_count": 87,
   "id": "37f69452-c1c6-4697-b09b-635be9d3af97",
   "metadata": {},
   "outputs": [
    {
     "name": "stdout",
     "output_type": "stream",
     "text": [
      "15\n",
      "5\n"
     ]
    }
   ],
   "source": [
    "# What will be the output of the following code? Explain.\n",
    "\n",
    "def offset_adder(offset=0):\n",
    "    def adder(x):\n",
    "        return x+offset\n",
    "    return adder\n",
    "\n",
    "add_10 = offset_adder(10)\n",
    "add_default = offset_adder()\n",
    "\n",
    "print(add_10(5))\n",
    "print(add_default(5))"
   ]
  },
  {
   "cell_type": "code",
   "execution_count": null,
   "id": "51d125f3-8a05-4d0b-b6f6-abe96ec38cb0",
   "metadata": {},
   "outputs": [],
   "source": []
  }
 ],
 "metadata": {
  "kernelspec": {
   "display_name": "Python 3 (ipykernel)",
   "language": "python",
   "name": "python3"
  },
  "language_info": {
   "codemirror_mode": {
    "name": "ipython",
    "version": 3
   },
   "file_extension": ".py",
   "mimetype": "text/x-python",
   "name": "python",
   "nbconvert_exporter": "python",
   "pygments_lexer": "ipython3",
   "version": "3.12.7"
  }
 },
 "nbformat": 4,
 "nbformat_minor": 5
}
