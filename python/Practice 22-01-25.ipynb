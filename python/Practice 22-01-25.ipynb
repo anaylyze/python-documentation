{
 "cells": [
  {
   "cell_type": "code",
   "execution_count": 8,
   "id": "4e4fc543-e794-464a-95cf-dd89f93330d0",
   "metadata": {},
   "outputs": [
    {
     "name": "stdout",
     "output_type": "stream",
     "text": [
      "[1, 2, 3, 4, 5, 6, 7, 8, 9, 10]\n",
      "[1, 2, 3, 4, 5, 6, 7, 8, 9, 10, 11]\n",
      "[1, 2, 3, 4, 6, 7, 8, 9, 10, 11]\n"
     ]
    }
   ],
   "source": [
    "# Write a program to:\n",
    "# Create a list with numbers from 1 to 10.\n",
    "# Append the number 11 to the list.\n",
    "# Remove the number 5 from the list.\n",
    "# Print the final list.\n",
    "\n",
    "list = [1,2,3,4,5,6,7,8,9,10]\n",
    "print(list)\n",
    "list.append(11)\n",
    "print(list)\n",
    "list.remove(5)\n",
    "print(list)"
   ]
  },
  {
   "cell_type": "code",
   "execution_count": 16,
   "id": "fc710e09-313d-4f2d-ac1d-009a553273b2",
   "metadata": {},
   "outputs": [
    {
     "name": "stdout",
     "output_type": "stream",
     "text": [
      "Sum is 15.\n",
      "Nigga your average is 3.0.\n"
     ]
    }
   ],
   "source": [
    "# Write a program to calculate the sum and average of all elements in a given list.\n",
    "list = [1,2,3,4,5]\n",
    "i = 1\n",
    "sum = 0\n",
    "for i in list:\n",
    "    sum = sum+i\n",
    "    i=i+1\n",
    "print(f\"Sum is {sum}.\")\n",
    "avg = sum/(len(list))\n",
    "print(f\"Nigga your average is {avg}.\")"
   ]
  },
  {
   "cell_type": "code",
   "execution_count": 20,
   "id": "de5cda74-b967-4f95-a456-7c4336b822d5",
   "metadata": {},
   "outputs": [
    {
     "name": "stdout",
     "output_type": "stream",
     "text": [
      "[2, 4, 6, 8]\n",
      "[1, 3, 5, 7]\n"
     ]
    }
   ],
   "source": [
    "# Create a program that separates the odd and even numbers from a list and stores them in two separate lists.\n",
    "list = [1,2,3,4,5,6,7,8]\n",
    "list_odd = []\n",
    "list_even = []\n",
    "\n",
    "for i in list:\n",
    "    if i%2==0:\n",
    "        list_even.append(i)\n",
    "    elif i%2!=0:\n",
    "        list_odd.append(i)\n",
    "print(list_even)\n",
    "print(list_odd)\n"
   ]
  },
  {
   "cell_type": "code",
   "execution_count": 30,
   "id": "9a8dd83c-4d3b-4365-a3a9-e18fedf62157",
   "metadata": {},
   "outputs": [
    {
     "name": "stdout",
     "output_type": "stream",
     "text": [
      "Original List: [1, 2, 3, 4, 5]\n",
      "Reversed List: [5, 4, 3, 2, 1]\n"
     ]
    }
   ],
   "source": [
    "# Write a program to reverse a list without using the reverse() method or slicing.\n",
    "def reverse_list(lst):\n",
    "    # Initialize two pointers\n",
    "    left = 0\n",
    "    right = len(lst) - 1\n",
    "    \n",
    "    # Swap elements until the pointers meet\n",
    "    while left < right:\n",
    "        lst[left], lst[right] = lst[right], lst[left]\n",
    "        left += 1\n",
    "        right -= 1\n",
    "    \n",
    "    return lst\n",
    "\n",
    "# Example usage\n",
    "original_list = [1, 2, 3, 4, 5]\n",
    "reversed_list = reverse_list(original_list.copy())\n",
    "print(\"Original List:\", original_list)\n",
    "print(\"Reversed List:\", reversed_list)\n",
    "\n",
    "    "
   ]
  },
  {
   "cell_type": "code",
   "execution_count": 28,
   "id": "5f67e6ab-783a-4cc8-b753-b23483d03a9a",
   "metadata": {},
   "outputs": [
    {
     "name": "stdout",
     "output_type": "stream",
     "text": [
      "30 is the goat\n",
      "23 is the soat\n"
     ]
    }
   ],
   "source": [
    "# Write a program to find the largest and smallest numbers in a given list without using built-in functions.\n",
    "def find_max_min(lst):\n",
    "    if not lst:  # Handle the case of an empty list\n",
    "        return None, None\n",
    "    \n",
    "    # Initialize max and min with the first element of the list\n",
    "    max_value = lst[0]\n",
    "    min_value = lst[0]\n",
    "    \n",
    "    # Iterate through the list to find the max and min\n",
    "    for num in lst:\n",
    "        if num > max_value:\n",
    "            max_value = num\n",
    "        if num < min_value:\n",
    "            min_value = num\n",
    "    \n",
    "    return max_value, min_value\n",
    "\n",
    "# Example usage\n",
    "numbers = [3, 1, 4, 1, 5, 9, 2, 6, 5, 3, 5]\n",
    "maximum, minimum = find_max_min(numbers)\n",
    "print(\"Maximum:\", maximum)\n",
    "print(\"Minimum:\", minimum)\n"
   ]
  },
  {
   "cell_type": "code",
   "execution_count": 76,
   "id": "739ed386-4c32-48d1-a7ec-bd5256660c1c",
   "metadata": {},
   "outputs": [
    {
     "name": "stdout",
     "output_type": "stream",
     "text": [
      "[1, 4, 9, 16, 25, 36, 49, 64, 81, 100]\n",
      "[9, 36, 81]\n"
     ]
    }
   ],
   "source": [
    "# Write a one-liner using list comprehension to:\n",
    "# Create a list of squares for numbers 1 to 10.\n",
    "# Filter all numbers divisible by 3 from a given list.\n",
    "\n",
    "list = []\n",
    "squares = [x**2 for x in range(1,11)]\n",
    "print(squares)\n",
    "for x in squares:\n",
    "    if x%3==0:\n",
    "        list.append(x)\n",
    "print(list)"
   ]
  },
  {
   "cell_type": "code",
   "execution_count": 82,
   "id": "296a14a2-c53c-47b4-8b2f-5eae437cee2d",
   "metadata": {},
   "outputs": [
    {
     "name": "stdout",
     "output_type": "stream",
     "text": [
      "[1, 2, 3, 4, 5]\n"
     ]
    }
   ],
   "source": [
    "# Write a program to remove duplicate elements from a list while maintaining the order.\n",
    "list = [1,2,2,3,3,3,4,4,4,4,5,5,5,5,5]\n",
    "l = []\n",
    "for i in list:\n",
    "    if i not in l:\n",
    "        l.append(i)\n",
    "print(l)"
   ]
  },
  {
   "cell_type": "code",
   "execution_count": 90,
   "id": "176b5421-82a0-4261-b625-c2fc7989fd33",
   "metadata": {},
   "outputs": [
    {
     "name": "stdin",
     "output_type": "stream",
     "text": [
      "Enter your email here:  jhbhudkC@JDAJHK\n"
     ]
    },
    {
     "name": "stdout",
     "output_type": "stream",
     "text": [
      "jhbhudkC\n",
      "JDAJHK\n"
     ]
    }
   ],
   "source": [
    "# email slicer\n",
    "email = input(\"Enter your email here: \")\n",
    "index = email.find(\"@\")\n",
    "\n",
    "username = email[0:index]\n",
    "domain = email[index + 1:]\n",
    "print(username)\n",
    "print(domain)"
   ]
  },
  {
   "cell_type": "code",
   "execution_count": 106,
   "id": "9d8de963-02c6-4233-b72e-de09916aceac",
   "metadata": {},
   "outputs": [
    {
     "name": "stdout",
     "output_type": "stream",
     "text": [
      "The count of vowels is  23\n",
      "The count is consonants is  34\n"
     ]
    }
   ],
   "source": [
    "# Write a program to count the number of vowels and consonants in a given string.\n",
    "string = \"Anay is a good boy, he loves roasting her but the catch is there is no her\"\n",
    "\n",
    "vowels = string.count('a') + string.count('e') + string.count('i') + string.count('o') + string.count('u') + string.count('A') + string.count('E') + string.count('I') + string.count('O') + string.count('U')\n",
    "print(\"The count of vowels is \",vowels)\n",
    "consonant = len(string) - (vowels+string.count(\" \")+string.count(','))\n",
    "print(\"The count is consonants is \",consonant)"
   ]
  },
  {
   "cell_type": "code",
   "execution_count": 110,
   "id": "596d333a-08ea-4ce6-a02f-e18863f2d347",
   "metadata": {},
   "outputs": [
    {
     "ename": "TypeError",
     "evalue": "unsupported operand type(s) for +: 'int' and 'str'",
     "output_type": "error",
     "traceback": [
      "\u001b[1;31m---------------------------------------------------------------------------\u001b[0m",
      "\u001b[1;31mTypeError\u001b[0m                                 Traceback (most recent call last)",
      "Cell \u001b[1;32mIn[110], line 6\u001b[0m\n\u001b[0;32m      4\u001b[0m i\u001b[38;5;241m=\u001b[39m\u001b[38;5;241m1\u001b[39m\n\u001b[0;32m      5\u001b[0m \u001b[38;5;28;01mfor\u001b[39;00m i \u001b[38;5;129;01min\u001b[39;00m string:\n\u001b[1;32m----> 6\u001b[0m     \u001b[38;5;28msum\u001b[39m \u001b[38;5;241m=\u001b[39m \u001b[38;5;28msum\u001b[39m\u001b[38;5;241m+\u001b[39mi\n\u001b[0;32m      7\u001b[0m     i \u001b[38;5;241m=\u001b[39m i\u001b[38;5;241m+\u001b[39m\u001b[38;5;241m1\u001b[39m\n\u001b[0;32m      8\u001b[0m \u001b[38;5;28mprint\u001b[39m(\u001b[38;5;28msum\u001b[39m)\n",
      "\u001b[1;31mTypeError\u001b[0m: unsupported operand type(s) for +: 'int' and 'str'"
     ]
    }
   ],
   "source": [
    "# Implement a function to calculate the length of a string without using the built-in len() function.\n",
    "string = 'Anay04'\n"
   ]
  },
  {
   "cell_type": "code",
   "execution_count": 122,
   "id": "64c8352f-39fb-4cdb-a2cf-b5841458608e",
   "metadata": {},
   "outputs": [
    {
     "name": "stdin",
     "output_type": "stream",
     "text": [
      "Enter your name:  himanshu\n"
     ]
    },
    {
     "name": "stdout",
     "output_type": "stream",
     "text": [
      "{'i', 'n', 'h', 'm', 'a', 'u', 's'}\n"
     ]
    }
   ],
   "source": [
    "def func():\n",
    "    name = input(\"Enter your name: \")\n",
    "    set1 = set(name)\n",
    "    print(set1)\n",
    "func()"
   ]
  },
  {
   "cell_type": "code",
   "execution_count": 2,
   "id": "f363d40e-4068-4cbc-b42a-51d5cd1bc0fd",
   "metadata": {},
   "outputs": [
    {
     "name": "stdout",
     "output_type": "stream",
     "text": [
      "{1, 2, 6, 9}\n"
     ]
    }
   ],
   "source": [
    "# Write a program to create a set of unique first elements from a list of tuples like [(1, 2), (1, 3), (2, 4)].\n",
    "\n",
    "list = [(1,2),(1,3),(2,4),(6,9),(9,5)]\n",
    "set1 = set()\n",
    "for i in list:\n",
    "    if i[0] not in set1:\n",
    "        set1.add(i[0])\n",
    "print(set1)"
   ]
  },
  {
   "cell_type": "code",
   "execution_count": 16,
   "id": "2300a01a-18f8-4b8d-a091-6877909312f8",
   "metadata": {},
   "outputs": [
    {
     "name": "stdin",
     "output_type": "stream",
     "text": [
      "Enter your principle amount:  43500\n",
      "Enter your interest rate:  16\n",
      "Enter your time in years:  1\n"
     ]
    },
    {
     "name": "stdout",
     "output_type": "stream",
     "text": [
      "Your balance after 1.0 year/s: 50460.00\n"
     ]
    }
   ],
   "source": [
    "# compund interest calculator\n",
    "principle = 0\n",
    "rate = 0\n",
    "time = 0\n",
    "\n",
    "while principle <=0:\n",
    "    principle = float(input(\"Enter your principle amount: \"))\n",
    "    if principle <=0:\n",
    "        print(\"The principle amount can not be less than or equal to zero.\")\n",
    "\n",
    "while rate <=0:\n",
    "    rate = float(input(\"Enter your interest rate: \"))\n",
    "    if rate<=0:\n",
    "        print(\"Interest rate can not be less than or equal to zero\")\n",
    "\n",
    "while time <=0:\n",
    "    time = float(input(\"Enter your time in years: \"))\n",
    "    if time<=0:\n",
    "        print(\"Your time cannot be 0 or in negative\")\n",
    "\n",
    "total = principle*((1+(rate/100))**time)\n",
    "print(f\"Your balance after {time} year/s: {total:.2f}\") #:.2f is format specifier which allows us to show two decimals after the number."
   ]
  },
  {
   "cell_type": "code",
   "execution_count": null,
   "id": "860bbef5-6664-4b44-93e1-b3a8c60316bb",
   "metadata": {},
   "outputs": [],
   "source": [
    "# "
   ]
  }
 ],
 "metadata": {
  "kernelspec": {
   "display_name": "Python 3 (ipykernel)",
   "language": "python",
   "name": "python3"
  },
  "language_info": {
   "codemirror_mode": {
    "name": "ipython",
    "version": 3
   },
   "file_extension": ".py",
   "mimetype": "text/x-python",
   "name": "python",
   "nbconvert_exporter": "python",
   "pygments_lexer": "ipython3",
   "version": "3.12.7"
  }
 },
 "nbformat": 4,
 "nbformat_minor": 5
}
