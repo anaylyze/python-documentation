{
 "cells": [
  {
   "cell_type": "code",
   "execution_count": 4,
   "id": "7a9f646b-24a1-48e1-816e-8183c03f5061",
   "metadata": {},
   "outputs": [
    {
     "name": "stdin",
     "output_type": "stream",
     "text": [
      "Username:  sx\n"
     ]
    },
    {
     "name": "stdout",
     "output_type": "stream",
     "text": [
      "Invalid Username\n"
     ]
    }
   ],
   "source": [
    "name = input('Username: ')\n",
    "try:\n",
    "    num = int(name)\n",
    "    print(num)\n",
    "except:\n",
    "    print('Invalid Username')"
   ]
  },
  {
   "cell_type": "code",
   "execution_count": 32,
   "id": "1da139fb-c575-46a7-b8df-1a893df715ef",
   "metadata": {},
   "outputs": [
    {
     "name": "stdin",
     "output_type": "stream",
     "text": [
      "Enter the number here:  3\n",
      "Enter the number here:  3\n"
     ]
    },
    {
     "name": "stdout",
     "output_type": "stream",
     "text": [
      "1.0\n"
     ]
    }
   ],
   "source": [
    "# Write a program that asks the user to input two numbers and divide the first number by the second. \n",
    "# Use a try/except block to catch division by zero errors.\n",
    "\n",
    "try:\n",
    "    num1 = int(input('Enter the number here: '))\n",
    "    num2 = int(input('Enter the number here: '))\n",
    "    result = num1/num2\n",
    "    print(result)\n",
    "\n",
    "except ZeroDivisionError:\n",
    "        print('Division by zero is not allowed') #for avoiding zero error\n",
    "\n",
    "except ValueError:\n",
    "        print('Please enter a valid number') #for valid input"
   ]
  },
  {
   "cell_type": "code",
   "execution_count": 38,
   "id": "70d06b58-8945-4d70-82b3-f9e81f0b2e4f",
   "metadata": {},
   "outputs": [
    {
     "name": "stdin",
     "output_type": "stream",
     "text": [
      "Enter a number here:  se\n"
     ]
    },
    {
     "name": "stdout",
     "output_type": "stream",
     "text": [
      "Please enter an integer\n"
     ]
    }
   ],
   "source": [
    "# Ask the user to input a number. Use a try/except block to handle cases where the user inputs something that isn't an integer.\n",
    "\n",
    "num = input('Enter a number here: ')\n",
    "\n",
    "try:\n",
    "    number = int(num)\n",
    "    print(f'Your number is {num}')\n",
    "\n",
    "except ValueError:\n",
    "        print('Please enter an integer')"
   ]
  },
  {
   "cell_type": "code",
   "execution_count": 36,
   "id": "f5d141f9-6724-4936-9263-6f73573b59a7",
   "metadata": {},
   "outputs": [
    {
     "name": "stdin",
     "output_type": "stream",
     "text": [
      "Enter the name of the file here:  jkdsnjank\n"
     ]
    },
    {
     "name": "stdout",
     "output_type": "stream",
     "text": [
      "Your file is jkdsnjank\n"
     ]
    }
   ],
   "source": [
    "# Write a program that tries to open a file specified by the user. Use a try/except block to handle cases where the file doesn't exist.\n",
    "\n",
    "try:\n",
    "    file = input('Enter the name of the file here: ')\n",
    "    print(f'Your file is {file}')\n",
    "\n",
    "except FileNotFoundError:\n",
    "    print('The file does not exist')\n",
    "    "
   ]
  },
  {
   "cell_type": "code",
   "execution_count": 6,
   "id": "db1ac38f-16dd-450b-8c60-2abc28c778fe",
   "metadata": {},
   "outputs": [
    {
     "name": "stdout",
     "output_type": "stream",
     "text": [
      "division by zero\n",
      "cleaning up...\n"
     ]
    }
   ],
   "source": [
    "try:\n",
    "    a = 5/0\n",
    "    b = a+4\n",
    "except ZeroDivisionError as e:\n",
    "    print(e)\n",
    "\n",
    "except TypeError as e:\n",
    "    print(e)\n",
    "\n",
    "else:\n",
    "    print('Everything is fine')\n",
    "\n",
    "finally:\n",
    "    print('cleaning up...')"
   ]
  },
  {
   "cell_type": "code",
   "execution_count": 52,
   "id": "27196334-b412-4001-8705-ce9bccf62677",
   "metadata": {},
   "outputs": [
    {
     "ename": "ValueTooHighError",
     "evalue": "Value is too high",
     "output_type": "error",
     "traceback": [
      "\u001b[1;31m---------------------------------------------------------------------------\u001b[0m",
      "\u001b[1;31mValueTooHighError\u001b[0m                         Traceback (most recent call last)",
      "Cell \u001b[1;32mIn[52], line 8\u001b[0m\n\u001b[0;32m      5\u001b[0m     \u001b[38;5;28;01mif\u001b[39;00m x\u001b[38;5;241m>\u001b[39m\u001b[38;5;241m100\u001b[39m:\n\u001b[0;32m      6\u001b[0m         \u001b[38;5;28;01mraise\u001b[39;00m ValueTooHighError(\u001b[38;5;124m'\u001b[39m\u001b[38;5;124mValue is too high\u001b[39m\u001b[38;5;124m'\u001b[39m)\n\u001b[1;32m----> 8\u001b[0m test_value(\u001b[38;5;241m290\u001b[39m)\n",
      "Cell \u001b[1;32mIn[52], line 6\u001b[0m, in \u001b[0;36mtest_value\u001b[1;34m(x)\u001b[0m\n\u001b[0;32m      4\u001b[0m \u001b[38;5;28;01mdef\u001b[39;00m \u001b[38;5;21mtest_value\u001b[39m(x):\n\u001b[0;32m      5\u001b[0m     \u001b[38;5;28;01mif\u001b[39;00m x\u001b[38;5;241m>\u001b[39m\u001b[38;5;241m100\u001b[39m:\n\u001b[1;32m----> 6\u001b[0m         \u001b[38;5;28;01mraise\u001b[39;00m ValueTooHighError(\u001b[38;5;124m'\u001b[39m\u001b[38;5;124mValue is too high\u001b[39m\u001b[38;5;124m'\u001b[39m)\n",
      "\u001b[1;31mValueTooHighError\u001b[0m: Value is too high"
     ]
    }
   ],
   "source": [
    "class ValueTooHighError(Exception):\n",
    "    pass\n",
    "\n",
    "def test_value(x):\n",
    "    if x>100:\n",
    "        raise ValueTooHighError('Value is too high')\n",
    "\n",
    "test_value(290)"
   ]
  },
  {
   "cell_type": "code",
   "execution_count": 54,
   "id": "adfcce7a-2254-418f-9684-0bdad9fbf716",
   "metadata": {},
   "outputs": [
    {
     "name": "stdout",
     "output_type": "stream",
     "text": [
      "Value is too high\n"
     ]
    }
   ],
   "source": [
    "class ValueTooHighError(Exception):\n",
    "    pass\n",
    "\n",
    "def test_value(x):\n",
    "    if x>100:\n",
    "        raise ValueTooHighError('Value is too high')\n",
    "\n",
    "try:\n",
    "    test_value(299)\n",
    "except ValueTooHighError as e:\n",
    "    print(e)"
   ]
  },
  {
   "cell_type": "code",
   "execution_count": 16,
   "id": "3b1522d7-c658-4365-a54a-e99a6eb36f8a",
   "metadata": {},
   "outputs": [
    {
     "name": "stdout",
     "output_type": "stream",
     "text": [
      "Value is too small and is  4\n"
     ]
    }
   ],
   "source": [
    "class ValueTooHighError(Exception):\n",
    "    pass\n",
    "class ValueTooLowError(Exception):\n",
    "    def __init__(self, message, value):\n",
    "        self.message = message\n",
    "        self.value = value\n",
    "\n",
    "def test_value(x):\n",
    "    if x>100:\n",
    "        raise ValueTooHighError('Value is too high')\n",
    "    if x<7:\n",
    "        raise ValueTooLowError('Value is too small and is ',x)\n",
    "\n",
    "try:\n",
    "    test_value(4)\n",
    "except ValueTooHighError as e:\n",
    "    print(e)\n",
    "except ValueTooLowError as e:\n",
    "    print(e.message,e.value)"
   ]
  },
  {
   "cell_type": "code",
   "execution_count": null,
   "id": "fd90452f-4241-4f39-9bd9-2009b1da02bf",
   "metadata": {},
   "outputs": [],
   "source": []
  }
 ],
 "metadata": {
  "kernelspec": {
   "display_name": "Python 3 (ipykernel)",
   "language": "python",
   "name": "python3"
  },
  "language_info": {
   "codemirror_mode": {
    "name": "ipython",
    "version": 3
   },
   "file_extension": ".py",
   "mimetype": "text/x-python",
   "name": "python",
   "nbconvert_exporter": "python",
   "pygments_lexer": "ipython3",
   "version": "3.12.7"
  }
 },
 "nbformat": 4,
 "nbformat_minor": 5
}
