{
 "cells": [
  {
   "cell_type": "code",
   "execution_count": 2,
   "id": "e46f9253-484e-4153-86e9-671d57920f38",
   "metadata": {},
   "outputs": [
    {
     "name": "stdout",
     "output_type": "stream",
     "text": [
      "10 100 200 300\n",
      "10.5 150.0 0.0015\n",
      "3.14j 3.14 0.0\n"
     ]
    }
   ],
   "source": [
    "# Numeric Literals\n",
    "a = 0b1010 #binary literals\n",
    "b = 100 #decimal literals\n",
    "c = 0o310 #Octal literals\n",
    "d = 0x12c #hexadecimal literals\n",
    "\n",
    "#float literals\n",
    "f1 = 10.5\n",
    "f2 = 1.5e2\n",
    "f3 = 1.5e-3\n",
    "\n",
    "#complex literals\n",
    "x = 3.14j\n",
    "\n",
    "print(a,b,c,d)\n",
    "print(f1,f2,f3)\n",
    "print(x, x.imag, x.real)"
   ]
  },
  {
   "cell_type": "code",
   "execution_count": 10,
   "id": "1d71f8f0-6772-430d-9c8f-d51eecb31bb2",
   "metadata": {},
   "outputs": [
    {
     "name": "stdout",
     "output_type": "stream",
     "text": [
      "Anay\n",
      "Many Anay\n",
      "A\n",
      "This is a multi-line string and I don't know what to write but\n",
      "I am still writing because I don't know.\n",
      "😀😆🤣\n",
      "Raw string is used jab humko html codes chahiye hote hain in our code with speacial characters like \\n, \\t\n"
     ]
    }
   ],
   "source": [
    "# String Literals\n",
    "string = 'Anay'\n",
    "strings = \"Many Anay\"\n",
    "char = \"A\"\n",
    "multiline_string = \"\"\"This is a multi-line string and I don't know what to write but\n",
    "I am still writing because I don't know.\"\"\"\n",
    "unicode = u\"\\U0001f600\\U0001F606\\U0001F923\"\n",
    "raw_string = r\"Raw string is used jab humko html codes chahiye hote hain in our code with speacial characters like \\n, \\t\"\n",
    "print(string)\n",
    "print(strings)\n",
    "print(char)\n",
    "print(multiline_string)\n",
    "print(unicode)\n",
    "print(raw_string)"
   ]
  },
  {
   "cell_type": "code",
   "execution_count": 12,
   "id": "86bae7d4-e78a-417d-b6d2-e88a68892f84",
   "metadata": {},
   "outputs": [
    {
     "name": "stdout",
     "output_type": "stream",
     "text": [
      "a: 69\n",
      "b: 69\n"
     ]
    }
   ],
   "source": [
    "# Boolean Literal\n",
    "a = True + 68\n",
    "b = 69 - False\n",
    "print(\"a:\",a)\n",
    "print(\"b:\",b)"
   ]
  },
  {
   "cell_type": "code",
   "execution_count": 14,
   "id": "984f6cf4-ae19-4ac7-9cb2-47fe8d9a6b74",
   "metadata": {},
   "outputs": [
    {
     "name": "stdout",
     "output_type": "stream",
     "text": [
      "None\n"
     ]
    }
   ],
   "source": [
    "c = None\n",
    "print(c)"
   ]
  },
  {
   "cell_type": "code",
   "execution_count": 10,
   "id": "74980c0b-2aa4-43a6-bb0a-cd5738bcc3df",
   "metadata": {},
   "outputs": [
    {
     "name": "stdout",
     "output_type": "stream",
     "text": [
      "U+1F92D\n"
     ]
    }
   ],
   "source": [
    "code = u\"U+1F92D\"\n",
    "print(code)"
   ]
  },
  {
   "cell_type": "code",
   "execution_count": null,
   "id": "4f371a83-39c4-45ec-87fb-0ce4057e2dc2",
   "metadata": {},
   "outputs": [],
   "source": []
  }
 ],
 "metadata": {
  "kernelspec": {
   "display_name": "Python 3 (ipykernel)",
   "language": "python",
   "name": "python3"
  },
  "language_info": {
   "codemirror_mode": {
    "name": "ipython",
    "version": 3
   },
   "file_extension": ".py",
   "mimetype": "text/x-python",
   "name": "python",
   "nbconvert_exporter": "python",
   "pygments_lexer": "ipython3",
   "version": "3.12.7"
  }
 },
 "nbformat": 4,
 "nbformat_minor": 5
}
