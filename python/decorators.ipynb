{
 "cells": [
  {
   "cell_type": "code",
   "execution_count": 6,
   "id": "9456d499-cafb-497e-aa17-b6d094f423c3",
   "metadata": {},
   "outputs": [
    {
     "name": "stdout",
     "output_type": "stream",
     "text": [
      "example_func ran in 2.0006794929504395 seconds\n"
     ]
    }
   ],
   "source": [
    "# timing function execution\n",
    "# Write a decorator that measures the time a function takes to execute\n",
    "\n",
    "import time\n",
    "\n",
    "def timer(func):\n",
    "    def wrapper(*args, **kwargs): #used arbitary args and kw args to take  as many args as we can in this func \n",
    "        start = time.time() # to measure the time we have used start and end\n",
    "        result = func(*args, **kwargs)\n",
    "        end = time.time()\n",
    "        print(f\"{func.__name__} ran in {end-start} seconds\") #used this line to showcase the output\n",
    "        return result\n",
    "    return wrapper #same as we saw in closure\n",
    "\n",
    "@timer \n",
    "def example_func(n): # we will run this func and note it's time and as we have used timer decorator it will automatically pass from timer func.\n",
    "    time.sleep(n)\n",
    "\n",
    "example_func(2)"
   ]
  },
  {
   "cell_type": "code",
   "execution_count": 7,
   "id": "f0f70e92-b762-499a-8642-0392a9d4870a",
   "metadata": {},
   "outputs": [
    {
     "name": "stdout",
     "output_type": "stream",
     "text": [
      "calling: greet with args anay, Salam walekum and kwargs \n",
      "Salam walekum anay\n",
      "calling: hello with args  and kwargs \n",
      "Helluuu\n"
     ]
    }
   ],
   "source": [
    "# debugging function calls\n",
    "# Create a decorator to print the function name and the values of its arguments everytime the function is called.\n",
    "\n",
    "def debug(func):\n",
    "    def wrapper(*args, **kwargs):\n",
    "        args_value = ', '.join(str(arg) for arg in args) # .join method will give a list(iterateable) isiliye we will use a comprehension(reverse loops)\n",
    "        kwargs_value = ', '.join(f\"{k}={v}\" for k, v in kwargs.items())\n",
    "        print(f\"calling: {func.__name__} with args {args_value} and kwargs {kwargs_value}\")\n",
    "        return func(*args, **kwargs)\n",
    "    return wrapper\n",
    "\n",
    "@debug\n",
    "def hello():\n",
    "    print(\"Helluuu\")\n",
    "@debug\n",
    "def greet(name, greeting = 'Namaste'):\n",
    "    print(f\"{greeting} {name}\")\n",
    "\n",
    "greet('anay','Salam walekum')\n",
    "hello()"
   ]
  },
  {
   "cell_type": "code",
   "execution_count": 19,
   "id": "8e8b75d3-698d-4f50-a400-443def9b3ddb",
   "metadata": {},
   "outputs": [
    {
     "name": "stdout",
     "output_type": "stream",
     "text": [
      "{}\n"
     ]
    },
    {
     "data": {
      "text/plain": [
       "5"
      ]
     },
     "execution_count": 19,
     "metadata": {},
     "output_type": "execute_result"
    }
   ],
   "source": [
    "# cache return values\n",
    "# Implement a decorator that caches the return values of a function, so that when it's called with the same arguments,the cached value is \n",
    "# returned instead of re-executing the function.\n",
    "import time\n",
    "\n",
    "def cache(func):\n",
    "    cache_value = {} #cache value ko hum dict mei isiliye store karenge bcs access karna bht easy rehta h \n",
    "    print(cache_value)\n",
    "    def wrapper(*args):\n",
    "        if args in cache_value: #idhar condition ka use karenge taaki args ko cache_value dict mei store kar sakein\n",
    "            return cache_value[args] #agar toh woh already hai toh value return kardo\n",
    "        result = func(*args)\n",
    "        cache_value[args] = result # agar nhi hai toh fir dict mei value store kardo\n",
    "        return result\n",
    "    return wrapper\n",
    "\n",
    "@cache\n",
    "def long_running_func(a, b):\n",
    "    time.sleep(3)\n",
    "    return a+b\n",
    "\n",
    "long_running_func(2,3)\n",
    "long_running_func(2,3)"
   ]
  },
  {
   "cell_type": "code",
   "execution_count": null,
   "id": "17f15d73-6234-4b1d-8c23-79909ecdb607",
   "metadata": {},
   "outputs": [],
   "source": []
  }
 ],
 "metadata": {
  "kernelspec": {
   "display_name": "Python 3 (ipykernel)",
   "language": "python",
   "name": "python3"
  },
  "language_info": {
   "codemirror_mode": {
    "name": "ipython",
    "version": 3
   },
   "file_extension": ".py",
   "mimetype": "text/x-python",
   "name": "python",
   "nbconvert_exporter": "python",
   "pygments_lexer": "ipython3",
   "version": "3.12.7"
  }
 },
 "nbformat": 4,
 "nbformat_minor": 5
}
