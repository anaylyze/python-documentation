{
 "cells": [
  {
   "cell_type": "code",
   "execution_count": 3,
   "id": "536adedb-c04d-4d00-8ed8-d21cdffcf23e",
   "metadata": {},
   "outputs": [
    {
     "name": "stdout",
     "output_type": "stream",
     "text": [
      "1\n",
      "2\n",
      "3\n",
      "4\n"
     ]
    }
   ],
   "source": [
    "num = [1,2,3,4]\n",
    "for i in num:\n",
    "    print(i)"
   ]
  },
  {
   "cell_type": "code",
   "execution_count": 15,
   "id": "12657686-6fa1-4757-859a-7d0ceeb5ee19",
   "metadata": {},
   "outputs": [
    {
     "name": "stdout",
     "output_type": "stream",
     "text": [
      "920\n",
      "48\n"
     ]
    }
   ],
   "source": [
    "L = [x for x in range(1,100)]\n",
    "\n",
    "# for i in L:\n",
    "#     print(i*3) what is does is that it stores all the numbers in memory from 1 to 100.\n",
    "\n",
    "import sys\n",
    "print(sys.getsizeof(L))\n",
    "\n",
    "x = range(1,100)\n",
    "# for i in x:\n",
    "#     print(i*2) but what range does that is to give an iterator that takes one number at a time and does not store data in memory.\n",
    "\n",
    "print(sys.getsizeof(x))"
   ]
  },
  {
   "cell_type": "code",
   "execution_count": 21,
   "id": "3b47e24a-5f81-4a67-9bca-89d864e61975",
   "metadata": {},
   "outputs": [
    {
     "data": {
      "text/plain": [
       "list_iterator"
      ]
     },
     "execution_count": 21,
     "metadata": {},
     "output_type": "execute_result"
    }
   ],
   "source": [
    "L = [1,2,3,4]\n",
    "# L is an iterable\n",
    "iter(L) #this generates an iterator for iterable.\n",
    "type(iter(L))"
   ]
  },
  {
   "cell_type": "code",
   "execution_count": 24,
   "id": "ccec7e66-1c66-4749-b45e-2c0435bf8a29",
   "metadata": {},
   "outputs": [
    {
     "ename": "TypeError",
     "evalue": "'int' object is not iterable",
     "output_type": "error",
     "traceback": [
      "\u001b[1;31m---------------------------------------------------------------------------\u001b[0m",
      "\u001b[1;31mTypeError\u001b[0m                                 Traceback (most recent call last)",
      "Cell \u001b[1;32mIn[24], line 2\u001b[0m\n\u001b[0;32m      1\u001b[0m a \u001b[38;5;241m=\u001b[39m \u001b[38;5;241m69\u001b[39m\n\u001b[1;32m----> 2\u001b[0m \u001b[38;5;28;01mfor\u001b[39;00m i \u001b[38;5;129;01min\u001b[39;00m a:\n\u001b[0;32m      3\u001b[0m     \u001b[38;5;28mprint\u001b[39m(a)\n",
      "\u001b[1;31mTypeError\u001b[0m: 'int' object is not iterable"
     ]
    }
   ],
   "source": [
    "a = 69\n",
    "for i in a:\n",
    "    print(a)"
   ]
  },
  {
   "cell_type": "code",
   "execution_count": 32,
   "id": "6b976c99-9418-4cda-97b5-c28e8335ab5c",
   "metadata": {},
   "outputs": [
    {
     "data": {
      "text/plain": [
       "['__class__',\n",
       " '__delattr__',\n",
       " '__dir__',\n",
       " '__doc__',\n",
       " '__eq__',\n",
       " '__format__',\n",
       " '__ge__',\n",
       " '__getattribute__',\n",
       " '__getstate__',\n",
       " '__gt__',\n",
       " '__hash__',\n",
       " '__init__',\n",
       " '__init_subclass__',\n",
       " '__iter__',\n",
       " '__le__',\n",
       " '__length_hint__',\n",
       " '__lt__',\n",
       " '__ne__',\n",
       " '__new__',\n",
       " '__next__',\n",
       " '__reduce__',\n",
       " '__reduce_ex__',\n",
       " '__repr__',\n",
       " '__setattr__',\n",
       " '__setstate__',\n",
       " '__sizeof__',\n",
       " '__str__',\n",
       " '__subclasshook__']"
      ]
     },
     "execution_count": 32,
     "metadata": {},
     "output_type": "execute_result"
    }
   ],
   "source": [
    "a=[1,2,3]\n",
    "# a is not an iterator\n",
    "iter_L = iter(a)\n",
    "# iter_L is an iterator\n",
    "dir(iter_L)"
   ]
  },
  {
   "cell_type": "code",
   "execution_count": 42,
   "id": "c7a16d2e-be1c-488b-a0f7-2babffb0afae",
   "metadata": {},
   "outputs": [
    {
     "data": {
      "text/plain": [
       "3"
      ]
     },
     "execution_count": 42,
     "metadata": {},
     "output_type": "execute_result"
    }
   ],
   "source": [
    "# How a loop works\n",
    "\n",
    "num = [1,2,3]\n",
    "# step 1 fetch the iterator\n",
    "iter_num = iter(num)\n",
    "# step 2  using the __next__ method in move from one element to another inside the iterable\n",
    "next(iter_num) #1\n",
    "next(iter_num) #2\n",
    "next(iter_num) #3"
   ]
  },
  {
   "cell_type": "code",
   "execution_count": 62,
   "id": "e061604a-344c-4d17-97ed-7b93663ec773",
   "metadata": {},
   "outputs": [
    {
     "name": "stdout",
     "output_type": "stream",
     "text": [
      "1\n",
      "2\n",
      "3\n",
      "4\n",
      "5\n",
      "6\n",
      "7\n",
      "8\n",
      "9\n",
      "10\n"
     ]
    }
   ],
   "source": [
    "def mera_khudka_for_loop(iterable):\n",
    "    iterator = iter(iterable)\n",
    "\n",
    "    while True:\n",
    "        try:\n",
    "            print(next(iterator))\n",
    "        except StopIteration:\n",
    "            break\n",
    "\n",
    "a = [1,2,3]\n",
    "b = range(1,11)\n",
    "c = (1,2,3)\n",
    "d = {1,2,3,4,5}\n",
    "e = {0:1,1:2,2:3}\n",
    "# mera_khudka_for_loop(e)\n",
    "# mera_khudka_for_loop(d)\n",
    "# mera_khudka_for_loop(c)\n",
    "mera_khudka_for_loop(b)\n",
    "# mera_khudka_for_loop(a)"
   ]
  },
  {
   "cell_type": "code",
   "execution_count": 70,
   "id": "fdd094ed-774c-4624-887b-ab5195a02030",
   "metadata": {},
   "outputs": [
    {
     "name": "stdout",
     "output_type": "stream",
     "text": [
      "The address of first iterator is 2391023111760\n",
      "The address of second iterator is 2391023111760\n"
     ]
    }
   ],
   "source": [
    "num = [1,2,3]\n",
    "iter_obj1 = iter(num) # this will give us the iterator of iterable\n",
    "print(\"The address of first iterator is\",id(iter_obj1))\n",
    "iter_obj2 = iter(iter_obj1) #this will give us the iterator of iterator 1 as uske andar bhi __next__ method hai\n",
    "print(\"The address of second iterator is\",id(iter_obj2))\n",
    "# Both addresses are same this means ki jab hum iterator ka iterator nikalte hain toh it gives itself. "
   ]
  },
  {
   "cell_type": "code",
   "execution_count": 74,
   "id": "68102420-d3fc-4731-8d71-22ba21d79484",
   "metadata": {},
   "outputs": [],
   "source": [
    "class mera_range:\n",
    "    \n",
    "    def __init__(self,start,end):\n",
    "        self.start = start\n",
    "        self.end = end\n",
    "    \n",
    "    def __iter__(self):\n",
    "        return mera_range_iterator(self)"
   ]
  },
  {
   "cell_type": "code",
   "execution_count": 76,
   "id": "37404419-a38d-4fa5-8dd3-98ff44d971db",
   "metadata": {},
   "outputs": [],
   "source": [
    "class mera_range_iterator:\n",
    "    def __init__(self, iterable_obj): #when this func will be called by \"return mera_range_iterator(self)\" we will receive it by iterable_obj\n",
    "        self.iterable = iterable_obj\n",
    "    \n",
    "    def __iter__(self):\n",
    "        return self \n",
    "    \n",
    "    def __next__(self):\n",
    "        if self.iterable.start >= self.iterable.end:\n",
    "            raise StopIteration #conventional method\n",
    "        \n",
    "        current = self.iterable.start\n",
    "        self.iterable.start += 1\n",
    "        return current\n",
    "        "
   ]
  },
  {
   "cell_type": "code",
   "execution_count": 78,
   "id": "acb710e4-65d9-4a14-a971-145be9ff45fc",
   "metadata": {},
   "outputs": [
    {
     "name": "stdout",
     "output_type": "stream",
     "text": [
      "1\n",
      "2\n",
      "3\n",
      "4\n",
      "5\n",
      "6\n",
      "7\n",
      "8\n",
      "9\n",
      "10\n"
     ]
    }
   ],
   "source": [
    "for i in mera_range(1,11):\n",
    "    print(i)\n",
    "\n"
   ]
  },
  {
   "cell_type": "code",
   "execution_count": 88,
   "id": "75505656-d95f-41bc-a23d-19d1f1bd0b55",
   "metadata": {},
   "outputs": [
    {
     "name": "stdout",
     "output_type": "stream",
     "text": [
      "0 1 1 2 3 5 8 13 21 34 "
     ]
    }
   ],
   "source": [
    "# problem 1\n",
    "# Write a custom iterator to generate the first n numbers in the Fibonacci sequence.\n",
    "\n",
    "class Fibonacci:\n",
    "\n",
    "    def __init__(self,n):\n",
    "        self.n = n\n",
    "        self.current = 0\n",
    "        self.next = 1\n",
    "        self.count = 0\n",
    "\n",
    "    def __iter__(self):\n",
    "        return self\n",
    "\n",
    "    def __next__(self):\n",
    "        if self.count >= self.n:\n",
    "            raise StopIteration\n",
    "        value = self.current\n",
    "        self.current, self.next = self.next, self.current + self.next\n",
    "        self.count+=1\n",
    "        return value\n",
    "\n",
    "fib = Fibonacci(10)\n",
    "for i in fib:\n",
    "    print(i, end=' ')"
   ]
  },
  {
   "cell_type": "code",
   "execution_count": 94,
   "id": "d285f164-e461-47c4-91fd-b8d0cdf2cd6c",
   "metadata": {},
   "outputs": [
    {
     "name": "stdout",
     "output_type": "stream",
     "text": [
      "ihsay"
     ]
    }
   ],
   "source": [
    "# problem 2\n",
    "# Create an iterator that takes a string and returns its characters in reverse order.\n",
    "\n",
    "class ReverseString:\n",
    "    def __init__(self, string):\n",
    "        self.string = string\n",
    "        self.index = len(string)\n",
    "    def __iter__(self):\n",
    "        return self\n",
    "    def __next__(self):\n",
    "        if self.index == 0:\n",
    "            raise StopIteration\n",
    "        self.index -= 1\n",
    "        return self.string[self.index]\n",
    "\n",
    "string = ReverseString(\"yashi\")\n",
    "for i in string:\n",
    "    print(i,end='')"
   ]
  },
  {
   "cell_type": "code",
   "execution_count": 106,
   "id": "5941f18c-3c03-419e-a934-cd2f3df57218",
   "metadata": {},
   "outputs": [
    {
     "name": "stdout",
     "output_type": "stream",
     "text": [
      "1 2 3 4 5 6 7 8 9 10 "
     ]
    }
   ],
   "source": [
    "# problem 3\n",
    "# Implement an iterator that mimics Python's built-in range function.\n",
    "\n",
    "class my_range:\n",
    "    def __init__(self,start,end):\n",
    "        self.start = start\n",
    "        self.end = end\n",
    "    def __iter__(self):\n",
    "        return my_iterator(self)\n",
    "\n",
    "class my_iterator:\n",
    "    def __init__(self,iterable_obj):\n",
    "        self.iterable = iterable_obj\n",
    "    def __iter__(self):\n",
    "        return self\n",
    "    def __next__(self):\n",
    "        if self.iterable.start >= self.iterable.end:\n",
    "            raise StopIteration\n",
    "        current = self.iterable.start\n",
    "        self.iterable.start+=1\n",
    "        return current\n",
    "\n",
    "x=my_range(1,11)\n",
    "for i in x:\n",
    "    print(i,end=' ')"
   ]
  },
  {
   "cell_type": "code",
   "execution_count": 118,
   "id": "7bbda978-2aa9-419c-a3c2-3c69274abe9b",
   "metadata": {},
   "outputs": [
    {
     "name": "stdout",
     "output_type": "stream",
     "text": [
      "HeLlO wOrLd\n"
     ]
    }
   ],
   "source": [
    "# problem 4\n",
    "# Create an iterator that reads lines from a file one at a time. If you don’t have a file, create one for testing.\n",
    "\n",
    "class FileIterator:\n",
    "    def __init__(self,file_name):\n",
    "        self.file = open(file_name,'r')\n",
    "        \n",
    "    def __iter__(self):\n",
    "        return self\n",
    "        \n",
    "    def __next__(self):\n",
    "        line = self.file.readline()\n",
    "        if not line:\n",
    "            self.file.close()\n",
    "            raise StopIteration\n",
    "        return line.strip()\n",
    "\n",
    "with open ('file.txt','w') as f:\n",
    "    f.write(\"HeLlO wOrLd\")\n",
    "\n",
    "iteration = FileIterator('file.txt')\n",
    "for line in iteration:\n",
    "    print(line)"
   ]
  },
  {
   "cell_type": "code",
   "execution_count": 13,
   "id": "5a747c8b-b74a-4b61-9d8b-8f5399b99d53",
   "metadata": {},
   "outputs": [
    {
     "name": "stdout",
     "output_type": "stream",
     "text": [
      "2 3 5 7 11 13 17 19 "
     ]
    }
   ],
   "source": [
    "# problem 5\n",
    "# Write an iterator that generates prime numbers up to a given limit.\n",
    "\n",
    "class Primes:\n",
    "    def __init__(self, limit):\n",
    "        self.limit = limit   # The upper limit for prime numbers\n",
    "        self.current = 2     # Start checking for primes from 2\n",
    "\n",
    "    def __iter__(self):\n",
    "        return self          # The iterator returns itself\n",
    "\n",
    "    def __next__(self):\n",
    "        # Continue until the current number exceeds the limit\n",
    "        while self.current <= self.limit:\n",
    "            # Check if 'self.current' is a prime number\n",
    "            for i in range(2, int(self.current ** 0.5) + 1):\n",
    "                if self.current % i == 0:\n",
    "                    break  # Not a prime number\n",
    "            else:\n",
    "                # Found a prime number\n",
    "                prime = self.current\n",
    "                self.current += 1  # Move to the next number\n",
    "                return prime  # Return the prime number\n",
    "\n",
    "            # If not a prime, increment and check the next number\n",
    "            self.current += 1\n",
    "\n",
    "        # If no more primes are available, stop iteration\n",
    "        raise StopIteration\n",
    "\n",
    "for prime in Primes(20):\n",
    "    print(prime, end=\" \")"
   ]
  },
  {
   "cell_type": "code",
   "execution_count": null,
   "id": "0175b5e3-6e0e-48da-b538-d27e4f5e0ba6",
   "metadata": {},
   "outputs": [],
   "source": []
  }
 ],
 "metadata": {
  "kernelspec": {
   "display_name": "Python 3 (ipykernel)",
   "language": "python",
   "name": "python3"
  },
  "language_info": {
   "codemirror_mode": {
    "name": "ipython",
    "version": 3
   },
   "file_extension": ".py",
   "mimetype": "text/x-python",
   "name": "python",
   "nbconvert_exporter": "python",
   "pygments_lexer": "ipython3",
   "version": "3.12.7"
  }
 },
 "nbformat": 4,
 "nbformat_minor": 5
}
