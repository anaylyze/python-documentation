{
 "cells": [
  {
   "cell_type": "code",
   "execution_count": 16,
   "id": "8763ab83-cf09-456c-b081-1d157f44416e",
   "metadata": {},
   "outputs": [
    {
     "name": "stdout",
     "output_type": "stream",
     "text": [
      "[1, 2, 3, 4, 5]\n",
      "['goat', 1, 6.9, True, None]\n",
      "[1, 2, 3, ['anay', 69]]\n",
      "[[[1, 2], [3, 4]], [['anay', True], [6.2, None]]]\n",
      "['D', 'i', 'l', 'l', 'i', ' ', 's', 'e', ' ', 'h', 'a', 'i', ' ', 'b', 'e', 'h', 'e', 'n', 'c', 'h', 'o', 'd']\n"
     ]
    }
   ],
   "source": [
    "L = [] #empty list\n",
    "L1 = [1,2,3,4,5] #homogenous list\n",
    "print(L1)\n",
    "L2 = [\"goat\",1,6.9,True,None] #heterogenous list\n",
    "print(L2)\n",
    "# Multi dimensional list\n",
    "L3 = [1,2,3,['anay',69]] #2D List\n",
    "print(L3)\n",
    "L4 = [[[1,2],[3,4]],[['anay',True],[6.2,None]]] #3D list\n",
    "print(L4)\n",
    "L5 = list('Dilli se hai behenchod') #type conversion into a list\n",
    "print(L5)"
   ]
  },
  {
   "cell_type": "code",
   "execution_count": 18,
   "id": "0d2c3c45-4db0-414d-aa6e-64032ba7e05c",
   "metadata": {},
   "outputs": [
    {
     "name": "stdout",
     "output_type": "stream",
     "text": [
      "[[[1, 2], [3, 4]], [['anay', True], [6.2, None]]]\n"
     ]
    }
   ],
   "source": [
    "print(L4)"
   ]
  },
  {
   "cell_type": "code",
   "execution_count": 28,
   "id": "b8156dbb-b9c7-4f06-9690-13d8e46742e6",
   "metadata": {},
   "outputs": [
    {
     "data": {
      "text/plain": [
       "[['anay', True], [6.2, None]]"
      ]
     },
     "execution_count": 28,
     "metadata": {},
     "output_type": "execute_result"
    }
   ],
   "source": [
    "L4[1]"
   ]
  },
  {
   "cell_type": "code",
   "execution_count": 30,
   "id": "a864e68f-516a-4ae0-b94f-4a5a549da54d",
   "metadata": {},
   "outputs": [
    {
     "data": {
      "text/plain": [
       "['anay', True]"
      ]
     },
     "execution_count": 30,
     "metadata": {},
     "output_type": "execute_result"
    }
   ],
   "source": [
    "L4 [1] [0]  "
   ]
  },
  {
   "cell_type": "code",
   "execution_count": 32,
   "id": "1c2509cf-71c9-4839-b0e2-27355f1961cc",
   "metadata": {},
   "outputs": [
    {
     "data": {
      "text/plain": [
       "'anay'"
      ]
     },
     "execution_count": 32,
     "metadata": {},
     "output_type": "execute_result"
    }
   ],
   "source": [
    "L4 [1] [0] [0]"
   ]
  },
  {
   "cell_type": "code",
   "execution_count": 108,
   "id": "a241073f-0f28-4542-b06a-83006f447ce6",
   "metadata": {},
   "outputs": [
    {
     "name": "stdout",
     "output_type": "stream",
     "text": [
      "['Thumak', 'Uff', 6.9, False, 300, 'g', 'o', 'a', 'goat']\n"
     ]
    }
   ],
   "source": [
    "# lists in python are mutable\n",
    "# L1 = [1,2,3,4,5]\n",
    "L2[0] = 'Thumak'\n",
    "L2[1:4] = ['Uff',6.9,False]\n",
    "print(L2)"
   ]
  },
  {
   "cell_type": "code",
   "execution_count": 110,
   "id": "c8d39721-ae2f-4652-a17c-90c1e02c33b4",
   "metadata": {},
   "outputs": [
    {
     "name": "stdout",
     "output_type": "stream",
     "text": [
      "['Thumak', 'Uff', 6.9, False, 300, 'g', 'o', 'a', 'goat', 'goat']\n"
     ]
    }
   ],
   "source": [
    "L2.append('goat')\n",
    "print(L2)"
   ]
  },
  {
   "cell_type": "code",
   "execution_count": 114,
   "id": "6316b6c4-5333-4b9a-90a3-7c46b3121abf",
   "metadata": {},
   "outputs": [
    {
     "name": "stdout",
     "output_type": "stream",
     "text": [
      "['Thumak', 'Uff', 6.9, False, 300, 'g', 'o', 'nigga', 'a', 'goat', 'goat', 'bitch', True, 300, 'g', 'o', 'a']\n"
     ]
    }
   ],
   "source": [
    "L2.extend(['bitch',True,300])\n",
    "L2.extend('goa')\n",
    "print(L2)"
   ]
  },
  {
   "cell_type": "code",
   "execution_count": 112,
   "id": "8c8288ce-10c3-4a94-83f4-efc92fdb3f97",
   "metadata": {},
   "outputs": [
    {
     "name": "stdout",
     "output_type": "stream",
     "text": [
      "['Thumak', 'Uff', 6.9, False, 300, 'g', 'o', 'nigga', 'a', 'goat', 'goat']\n"
     ]
    }
   ],
   "source": [
    "L2.insert(7,'nigga')\n",
    "print(L2)"
   ]
  },
  {
   "cell_type": "code",
   "execution_count": 116,
   "id": "1608a08a-8e23-4046-85ba-71c3fb02f668",
   "metadata": {},
   "outputs": [
    {
     "name": "stdout",
     "output_type": "stream",
     "text": [
      "['Thumak', 'Uff', 6.9, False, 300, 'g', 'o', 'nigga', 'a', 'goat', 'goat', 'bitch', True, 300, 'g', 'o', 'a']\n"
     ]
    }
   ],
   "source": [
    "print(L2)"
   ]
  },
  {
   "cell_type": "code",
   "execution_count": 118,
   "id": "82a363c8-d5b1-499c-9f66-dde57ceec743",
   "metadata": {},
   "outputs": [
    {
     "name": "stdout",
     "output_type": "stream",
     "text": [
      "['Thumak', 'Uff', 6.9, False, 300, 'g', 'o', 'a', 'goat', 'goat', 'bitch', True, 300, 'g', 'o', 'a']\n"
     ]
    }
   ],
   "source": [
    "del L2[7]\n",
    "print(L2)"
   ]
  },
  {
   "cell_type": "code",
   "execution_count": 120,
   "id": "6c08235d-72ff-465b-aeac-ec703efb4843",
   "metadata": {},
   "outputs": [
    {
     "name": "stdout",
     "output_type": "stream",
     "text": [
      "['Thumak', 'Uff', 6.9, False, 300, 'g', 'o', 'a', 'goat', 'goat', 'bitch', True, 300]\n"
     ]
    }
   ],
   "source": [
    "del L2[-3:]\n",
    "print(L2)"
   ]
  },
  {
   "cell_type": "code",
   "execution_count": 124,
   "id": "c1283d3d-c6db-4e14-9e55-36aaa60dc460",
   "metadata": {},
   "outputs": [
    {
     "name": "stdout",
     "output_type": "stream",
     "text": [
      "['Thumak', 6.9, False, 300, 'g', 'o', 'a', 'goat', 'bitch', True, 300]\n"
     ]
    }
   ],
   "source": [
    "L2.remove('Uff')\n",
    "print(L2)"
   ]
  },
  {
   "cell_type": "code",
   "execution_count": 126,
   "id": "f621b288-1c11-4e81-85cc-cd8ee16f0952",
   "metadata": {},
   "outputs": [
    {
     "name": "stdout",
     "output_type": "stream",
     "text": [
      "['Thumak', 6.9, False, 300, 'g', 'o', 'a', 'goat', 'bitch', True]\n"
     ]
    }
   ],
   "source": [
    "L2.pop()\n",
    "print(L2)"
   ]
  },
  {
   "cell_type": "code",
   "execution_count": 138,
   "id": "193d351f-12e9-4417-ae5c-6cf0c893f906",
   "metadata": {},
   "outputs": [
    {
     "name": "stdout",
     "output_type": "stream",
     "text": [
      "['Thumak', 'Uff', 6.9, False, 5, 'duh', 'duh', [6, 9], 'duh', [6, 9], 'duh', [6, 9], 'goat', 'goat', 'goat', 'goat', 'goat', 'Thumak', 6.9, False, 300, 'g', 'o', 'a', 'goat', 'bitch', True]\n",
      "['Thumak', 'Uff', 6.9, False, 5, 'duh', 'duh', [6, 9], 'duh', [6, 9], 'duh', [6, 9], 'goat', 'goat', 'goat', 'goat', 'goat', 'Thumak', 'Uff', 6.9, False, 5, 'duh', 'duh', [6, 9], 'duh', [6, 9], 'duh', [6, 9], 'goat', 'goat', 'goat', 'goat', 'goat']\n"
     ]
    }
   ],
   "source": [
    "print(L1+L2)\n",
    "print(L1*2)"
   ]
  },
  {
   "cell_type": "code",
   "execution_count": 142,
   "id": "d790147e-f20e-4f5e-9300-0ea5c136fb95",
   "metadata": {},
   "outputs": [
    {
     "name": "stdout",
     "output_type": "stream",
     "text": [
      "True\n",
      "1\n",
      "2\n",
      "3\n",
      "['anay', 69]\n"
     ]
    }
   ],
   "source": [
    "print(6.9 in L2)\n",
    "for i in L3:\n",
    "    print(i) # L3 = [1,2,3,['anay',69]]"
   ]
  },
  {
   "cell_type": "code",
   "execution_count": 164,
   "id": "a478bba8-e69f-46cb-b65c-d5205e603484",
   "metadata": {},
   "outputs": [
    {
     "name": "stdout",
     "output_type": "stream",
     "text": [
      "6\n",
      "99\n",
      "1\n",
      "[1, 2, 12, 45, 69, 99]\n",
      "[99, 69, 45, 12, 2, 1]\n",
      "[1, 2, 12, 45, 69, 99]\n",
      "[99, 69, 45, 12, 2, 1]\n"
     ]
    }
   ],
   "source": [
    "l1 = [1,2,69,99,12,45]\n",
    "print(len(l1))\n",
    "print(max(l1))\n",
    "print(min(l1))\n",
    "print(sorted(l1))\n",
    "print(sorted(l1,reverse=True)) #this is not permanent \n",
    "l1.sort() #this is permanent \n",
    "print(l1)\n",
    "l1.sort(reverse=True)\n",
    "print(l1)"
   ]
  },
  {
   "cell_type": "code",
   "execution_count": 182,
   "id": "20208c36-467c-4a29-a1be-9052fbe5485f",
   "metadata": {},
   "outputs": [
    {
     "name": "stdout",
     "output_type": "stream",
     "text": [
      "['my', 'name', 'is', 'anay']\n",
      "My\n",
      "Name\n",
      "Is\n",
      "Anay\n",
      "['My', 'Name', 'Is', 'Anay']\n",
      "My Name Is Anay\n"
     ]
    }
   ],
   "source": [
    "name = 'my name is anay'\n",
    "print(name.split())\n",
    "\n",
    "L = [] \n",
    "for i in name.split():\n",
    "    print(i.capitalize())\n",
    "    L.append(i.capitalize())\n",
    "print(L)\n",
    "print(\" \".join(L))"
   ]
  },
  {
   "cell_type": "code",
   "execution_count": 194,
   "id": "b219b7d4-27df-4409-9ad1-dfe3d8aaea6d",
   "metadata": {},
   "outputs": [
    {
     "name": "stdout",
     "output_type": "stream",
     "text": [
      "anay10\n"
     ]
    }
   ],
   "source": [
    "email = 'anay10@gmail.com'\n",
    "print(email[:email.find('@')])"
   ]
  },
  {
   "cell_type": "code",
   "execution_count": 198,
   "id": "5dbf84aa-f9ba-4c9f-8a58-c4efbbbeb028",
   "metadata": {},
   "outputs": [
    {
     "name": "stdout",
     "output_type": "stream",
     "text": [
      "[1, 2, 3, 4]\n"
     ]
    }
   ],
   "source": [
    "list1 = [1,1,1,1,2,2,2,3,3,4]\n",
    "L = []\n",
    "\n",
    "for i in list1:\n",
    "    if i not in L:\n",
    "        L.append(i)\n",
    "print(L)"
   ]
  },
  {
   "cell_type": "code",
   "execution_count": null,
   "id": "76e6f376-8afc-4b9f-90f4-0572302ea6fc",
   "metadata": {},
   "outputs": [],
   "source": []
  }
 ],
 "metadata": {
  "kernelspec": {
   "display_name": "Python 3 (ipykernel)",
   "language": "python",
   "name": "python3"
  },
  "language_info": {
   "codemirror_mode": {
    "name": "ipython",
    "version": 3
   },
   "file_extension": ".py",
   "mimetype": "text/x-python",
   "name": "python",
   "nbconvert_exporter": "python",
   "pygments_lexer": "ipython3",
   "version": "3.12.7"
  }
 },
 "nbformat": 4,
 "nbformat_minor": 5
}
