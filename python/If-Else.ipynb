{
 "cells": [
  {
   "cell_type": "code",
   "execution_count": 2,
   "id": "fc4c432b-cf53-4580-b8e3-b83483ed9975",
   "metadata": {},
   "outputs": [
    {
     "name": "stdin",
     "output_type": "stream",
     "text": [
      "Enter your email :  anay10@gmail\n",
      "Enter your password :  696969\n"
     ]
    },
    {
     "name": "stdout",
     "output_type": "stream",
     "text": [
      "Wrong Credentials\n"
     ]
    }
   ],
   "source": [
    "#email-anay@gmail.com\n",
    "# pw-696969\n",
    "\n",
    "email = input(\"Enter your email : \")\n",
    "password = input(\"Enter your password : \")\n",
    "\n",
    "if email == \"anay@gmail.com\" and password == \"696969\":\n",
    "    print(\"Welcome\")\n",
    "else:\n",
    "    print(\"Wrong Credentials\")"
   ]
  },
  {
   "cell_type": "code",
   "execution_count": 10,
   "id": "62fb9e3b-3601-438f-bea0-1459e2c90866",
   "metadata": {},
   "outputs": [
    {
     "name": "stdin",
     "output_type": "stream",
     "text": [
      "Enter your email :  anay@gmail.com\n",
      "Enter your password :  69\n"
     ]
    },
    {
     "name": "stdout",
     "output_type": "stream",
     "text": [
      "Password Incorrect\n"
     ]
    },
    {
     "name": "stdin",
     "output_type": "stream",
     "text": [
      "Enter your password again :  191919\n"
     ]
    },
    {
     "name": "stdout",
     "output_type": "stream",
     "text": [
      "Still Incorrect\n"
     ]
    }
   ],
   "source": [
    "email = input(\"Enter your email : \")\n",
    "password = input(\"Enter your password : \")\n",
    "\n",
    "if email == \"anay@gmail.com\" and password == \"696969\":\n",
    "    print(\"Welcome\")\n",
    "elif email == \"anay@gmail.com\" and  password != \"696969\":\n",
    "    print(\"Password Incorrect\")\n",
    "    password = input(\"Enter your password again : \")\n",
    "    if password == \"696969\":\n",
    "        print(\"Finally Correct\")\n",
    "    else:\n",
    "        print(\"Still Incorrect\")\n",
    "\n",
    "else:\n",
    "    print(\"Wrong Credentials\")"
   ]
  },
  {
   "cell_type": "code",
   "execution_count": null,
   "id": "8f3df4d4-79e2-40cf-b771-7da2c997a7a7",
   "metadata": {},
   "outputs": [],
   "source": [
    "# To check if email has '@' in it \n",
    "email = input(\"Enter your email : \")\n",
    "if '@' in email:\n",
    "    password = input(\"Enter your password : \")\n",
    "\n",
    "    if email == \"anay@gmail.com\" and password == \"696969\":\n",
    "        print(\"Welcome\")\n",
    "    elif email == \"anay@gmail.com\" and  password != \"696969\":\n",
    "        print(\"Password Incorrect\")\n",
    "        password = input(\"Enter your password again : \")\n",
    "        if password == \"696969\":\n",
    "            print(\"Finally Correct\")\n",
    "        else:\n",
    "            print(\"Still Incorrect\")\n",
    "    \n",
    "    else:\n",
    "        print(\"Wrong Credentials\") \n",
    "else:\n",
    "    print('Write the correct email')"
   ]
  },
  {
   "cell_type": "code",
   "execution_count": null,
   "id": "9394211b-43bc-4b76-bb84-b834ce04d5a6",
   "metadata": {},
   "outputs": [],
   "source": []
  }
 ],
 "metadata": {
  "kernelspec": {
   "display_name": "Python 3 (ipykernel)",
   "language": "python",
   "name": "python3"
  },
  "language_info": {
   "codemirror_mode": {
    "name": "ipython",
    "version": 3
   },
   "file_extension": ".py",
   "mimetype": "text/x-python",
   "name": "python",
   "nbconvert_exporter": "python",
   "pygments_lexer": "ipython3",
   "version": "3.12.7"
  }
 },
 "nbformat": 4,
 "nbformat_minor": 5
}
