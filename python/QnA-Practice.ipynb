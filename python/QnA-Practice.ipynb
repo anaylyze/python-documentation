{
 "cells": [
  {
   "cell_type": "code",
   "execution_count": 2,
   "id": "3ca1f477-66e8-4bde-99fd-c20951d1590a",
   "metadata": {},
   "outputs": [
    {
     "name": "stdout",
     "output_type": "stream",
     "text": [
      "Hello, World!\n"
     ]
    }
   ],
   "source": [
    "# Q1\n",
    "print(\"Hello, World!\")"
   ]
  },
  {
   "cell_type": "code",
   "execution_count": 8,
   "id": "67789d29-c8d8-46c3-83ac-c3c289af3f67",
   "metadata": {},
   "outputs": [
    {
     "name": "stdout",
     "output_type": "stream",
     "text": [
      "My name is Anay, and I am 20 years old.\n"
     ]
    }
   ],
   "source": [
    "# Q2\n",
    "name = \"Anay\"\n",
    "age = 20\n",
    "print(f\"My name is {name}, and I am {age} years old.\")"
   ]
  },
  {
   "cell_type": "code",
   "execution_count": 12,
   "id": "12bbda36-4d7c-4258-b354-d22ad011d9da",
   "metadata": {},
   "outputs": [
    {
     "name": "stdout",
     "output_type": "stream",
     "text": [
      "He said, \"Python is awesome!\"\n"
     ]
    }
   ],
   "source": [
    "# Q3\n",
    "print(\"He said, \\\"Python is awesome!\\\"\")"
   ]
  },
  {
   "cell_type": "code",
   "execution_count": 14,
   "id": "15524201-2c09-4a0f-b92c-ede7a42bb74d",
   "metadata": {},
   "outputs": [
    {
     "name": "stdout",
     "output_type": "stream",
     "text": [
      "My First name is Anay, My Last name is Jha, I live in Bhopal."
     ]
    }
   ],
   "source": [
    "# Q4\n",
    "print(\"My First name is Anay\",end=\", \" )\n",
    "print(\"My Last name is Jha\",end=\", \" )\n",
    "print(\"I live in Bhopal\",end=\".\" )"
   ]
  },
  {
   "cell_type": "code",
   "execution_count": 18,
   "id": "716555f4-82d3-48fd-a981-df78a188aaa4",
   "metadata": {},
   "outputs": [
    {
     "name": "stdout",
     "output_type": "stream",
     "text": [
      "\n",
      "Roses are red,\n",
      "Violets are blue,\n",
      "Python is Fun,\n",
      "And so are you.\n",
      "\n"
     ]
    }
   ],
   "source": [
    "# Q5\n",
    "\n",
    "print('''\n",
    "Roses are red,\n",
    "Violets are blue,\n",
    "Python is Fun,\n",
    "And so are you.\n",
    "''')"
   ]
  },
  {
   "cell_type": "code",
   "execution_count": 22,
   "id": "4631e7e3-fe3a-417e-a38d-9321b16fd17c",
   "metadata": {},
   "outputs": [
    {
     "name": "stdin",
     "output_type": "stream",
     "text": [
      "Enter the first number:  69\n",
      "Enter the second number:  96\n"
     ]
    },
    {
     "name": "stdout",
     "output_type": "stream",
     "text": [
      "The sum of 69 and 96 is 165.\n"
     ]
    }
   ],
   "source": [
    "# Q6\n",
    "number1 = int(input(\"Enter the first number: \")) \n",
    "number2 = int(input(\"Enter the second number: \")) \n",
    "result = number1 + number2\n",
    "print(f\"The sum of {number1} and {number2} is {result}.\")"
   ]
  },
  {
   "cell_type": "code",
   "execution_count": 15,
   "id": "3e9241b8-9740-4ac7-b97d-056cec452d6f",
   "metadata": {},
   "outputs": [
    {
     "name": "stdout",
     "output_type": "stream",
     "text": [
      "Name\tAge\tGrade\n",
      "Anay\t20\tA\n",
      "Messi\t37\tA+\n",
      "Name      Age       Grade     \n",
      "Alice     14        A         \n",
      "Bob       13        B         \n"
     ]
    }
   ],
   "source": [
    "# Q7\n",
    "# my solution\n",
    "print(\"Name\", \"Age\", \"Grade\", sep = '\\t')\n",
    "print(\"Anay\", \"20\", \"A\", sep = '\\t')\n",
    "print(\"Messi\", \"37\", \"A+\", sep = '\\t', end = '\\n')\n",
    "# gpt solution\n",
    "\n",
    "print(f\"{'Name':<10}{'Age':<10}{'Grade':<10}\")\n",
    "print(f\"{'Alice':<10}{'14':<10}{'A':<10}\")\n",
    "print(f\"{'Bob':<10}{'13':<10}{'B':<10}\")\n"
   ]
  },
  {
   "cell_type": "code",
   "execution_count": 42,
   "id": "9688ffd5-6bda-4d41-9a64-d082a13025b9",
   "metadata": {},
   "outputs": [
    {
     "name": "stdout",
     "output_type": "stream",
     "text": [
      "1-2-3-4-5\n"
     ]
    }
   ],
   "source": [
    "# Q8\n",
    "print(1,2,3,4,5, sep='-')"
   ]
  },
  {
   "cell_type": "code",
   "execution_count": 44,
   "id": "b002f7c5-0a12-4d30-8094-cbbbb35768e3",
   "metadata": {},
   "outputs": [
    {
     "name": "stdout",
     "output_type": "stream",
     "text": [
      "Today is 30/12/2024.\n"
     ]
    }
   ],
   "source": [
    "# Q9\n",
    "# my solution\n",
    "# day= int(input(\"Enter today's date: \"))\n",
    "# month= int(input(\"Enter the current month: \"))\n",
    "# year= int(input(\"Enter the current year going on: \"))\n",
    "\n",
    "# print(f\"Today is {day}/{month}/{year}.\")\n",
    "\n",
    "\n",
    "\n",
    "# gpt solution\n",
    "from datetime import datetime\n",
    "today = datetime.now()\n",
    "print(f\"Today is {today.day}/{today.month}/{today.year}.\")"
   ]
  },
  {
   "cell_type": "code",
   "execution_count": 19,
   "id": "9fb692fa-b2c0-483d-ba98-8ba4f7cdf3fc",
   "metadata": {},
   "outputs": [
    {
     "name": "stdout",
     "output_type": "stream",
     "text": [
      "1 2 3 4 5!"
     ]
    }
   ],
   "source": [
    "# Q10\n",
    "print(1, 2, 3, 4, 5,end='!')"
   ]
  },
  {
   "cell_type": "code",
   "execution_count": 109,
   "id": "4722f005-001f-410a-8aa5-fcb16d729785",
   "metadata": {},
   "outputs": [
    {
     "name": "stdin",
     "output_type": "stream",
     "text": [
      "Enter the interger:  69\n"
     ]
    },
    {
     "name": "stdout",
     "output_type": "stream",
     "text": [
      "Float value: 69.0\n",
      "Converted back to integer: 69\n"
     ]
    }
   ],
   "source": [
    "# Data types-\n",
    "# Q1\n",
    "num = int(input(\"Enter the integer: \"))\n",
    "deci = float(num)\n",
    "num2 = int(deci)\n",
    "\n",
    "print(f\"Float value: {deci}\")\n",
    "print(f\"Converted back to integer: {num2}\")"
   ]
  },
  {
   "cell_type": "code",
   "execution_count": 23,
   "id": "41ede823-a2a9-4488-8b13-8686c7d3ee6d",
   "metadata": {},
   "outputs": [
    {
     "name": "stdin",
     "output_type": "stream",
     "text": [
      "Enter a name:  Anay\n"
     ]
    },
    {
     "name": "stdout",
     "output_type": "stream",
     "text": [
      "Anay\n",
      "['A', 'n', 'a', 'y']\n",
      "<class 'str'>\n",
      "<class 'list'>\n"
     ]
    }
   ],
   "source": [
    "# Q2\n",
    "x = input(\"Enter a name: \")\n",
    "y = list(x)\n",
    "print(x)\n",
    "print(y)\n",
    "print(type(x))\n",
    "print(type(y))"
   ]
  },
  {
   "cell_type": "code",
   "execution_count": 107,
   "id": "339aceda-e7e6-49ac-90a9-ec586726e013",
   "metadata": {},
   "outputs": [
    {
     "name": "stdin",
     "output_type": "stream",
     "text": [
      "Enter your school name:  campion\n"
     ]
    },
    {
     "name": "stdout",
     "output_type": "stream",
     "text": [
      "Uppercase: CAMPION\n",
      "Reversed: noipmac\n",
      "Length: 7\n"
     ]
    }
   ],
   "source": [
    "# Q3\n",
    "string1 = input(\"Enter your school name: \")\n",
    "\n",
    "y = (string1.upper())\n",
    "z = (len(string1))\n",
    "x = (string1[::-1])\n",
    "print(f\"Uppercase: {y}\")\n",
    "print(f\"Reversed: {x}\")\n",
    "print(f\"Length: {z}\")"
   ]
  },
  {
   "cell_type": "code",
   "execution_count": 111,
   "id": "c73c2d0f-db1d-41ea-a124-fa7cb47bddf0",
   "metadata": {},
   "outputs": [
    {
     "name": "stdin",
     "output_type": "stream",
     "text": [
      "Enter the number here:  69\n"
     ]
    },
    {
     "name": "stdout",
     "output_type": "stream",
     "text": [
      "Result after multiplying by 10: 690\n"
     ]
    }
   ],
   "source": [
    "# Q4\n",
    "s1 = input(\"Enter the number here: \")\n",
    "i1 = int(s1)\n",
    "x = (i1*10)\n",
    "print(f\"Result after multiplying by 10: {x}\")"
   ]
  },
  {
   "cell_type": "code",
   "execution_count": 45,
   "id": "9fc0e3ba-af36-4673-a77d-e051b3cf95c4",
   "metadata": {},
   "outputs": [
    {
     "name": "stdin",
     "output_type": "stream",
     "text": [
      "Enter your number nigger:  -5\n"
     ]
    },
    {
     "name": "stdout",
     "output_type": "stream",
     "text": [
      "False\n"
     ]
    }
   ],
   "source": [
    "# Q5\n",
    "i = int(input(\"Enter your number nigger: \"))\n",
    "\n",
    "if i>0:\n",
    "    print(True)\n",
    "elif i<0:\n",
    "    print(False)\n",
    "else:\n",
    "    print(\"Zero\")\n",
    "    "
   ]
  },
  {
   "cell_type": "code",
   "execution_count": 117,
   "id": "c53c536b-77d7-4025-b696-180bb8f07432",
   "metadata": {},
   "outputs": [
    {
     "name": "stdout",
     "output_type": "stream",
     "text": [
      "Third element: True\n",
      "Occurrences of 'mommy': 1\n",
      "Index of 9: 0\n"
     ]
    }
   ],
   "source": [
    "# Q6\n",
    "tuple1 = (9,6.2, 'mommy', True, None)\n",
    "x=(tuple1[3])\n",
    "y=(tuple1.count('mommy'))\n",
    "z=(tuple1.index(9))\n",
    "print(f\"Third element: {x}\")\n",
    "print(f\"Occurrences of 'mommy': {y}\")\n",
    "print(f\"Index of 9: {z}\")"
   ]
  },
  {
   "cell_type": "code",
   "execution_count": 119,
   "id": "eddb06c7-adb3-4ca3-8a66-113a7f6b7c0a",
   "metadata": {},
   "outputs": [
    {
     "name": "stdin",
     "output_type": "stream",
     "text": [
      "Enter first list:  123456\n",
      "Enter second list:  456789\n"
     ]
    },
    {
     "name": "stdout",
     "output_type": "stream",
     "text": [
      "['1', '2', '3', '4', '5', '6']\n",
      "['4', '5', '6', '7', '8', '9']\n",
      "{'6', '5', '2', '4', '1', '3'}\n",
      "{'9', '7', '6', '5', '4', '8'}\n",
      "Union: {'9', '7', '6', '5', '2', '4', '8', '1', '3'}\n",
      "Intersection: {'5', '6', '4'}\n",
      "Difference: {'2', '1', '3'}\n"
     ]
    }
   ],
   "source": [
    "# Q7\n",
    "list1 = list(input('Enter first list: '))\n",
    "list2 = list(input('Enter second list: '))\n",
    "\n",
    "print(list1)\n",
    "print(list2)\n",
    "\n",
    "set1 = set(list1)\n",
    "set2 = set(list2)\n",
    "print(set1)\n",
    "print(set2)\n",
    "\n",
    "union = (set1.union(set2))\n",
    "intersection = (set1.intersection(set2))\n",
    "difference  = (set1.difference(set2))\n",
    "\n",
    "print(f\"Union: {union}\")\n",
    "print(f\"Intersection: {intersection}\")\n",
    "print(f\"Difference: {difference}\")"
   ]
  },
  {
   "cell_type": "code",
   "execution_count": 71,
   "id": "03be3a4f-3d2c-45d5-86d8-88f920034ef5",
   "metadata": {},
   "outputs": [
    {
     "name": "stdout",
     "output_type": "stream",
     "text": [
      "{'Name': 'mehhhsi', 'Age': 37, 'Status': 'GOAT'}\n",
      "{'Name': 'mehhhsi', 'Age': 37, 'Status': 'GOAT', 'Balon dor': 8}\n",
      "{'Name': 'Messi', 'Age': 37, 'Status': 'GOAT', 'Balon dor': 8}\n",
      "{'Name': 'Messi', 'Status': 'GOAT', 'Balon dor': 8}\n"
     ]
    }
   ],
   "source": [
    "# Q8\n",
    "dict1 = {'Name':'mehhhsi','Age':37,'Status':'GOAT'}\n",
    "print(dict1)\n",
    "dict1['Balon dor'] = 8\n",
    "print(dict1)\n",
    "dict1 ['Name'] = 'Messi'\n",
    "print(dict1)\n",
    "del dict1 ['Age']\n",
    "print(dict1)"
   ]
  },
  {
   "cell_type": "code",
   "execution_count": 123,
   "id": "03987067-797b-438c-985c-320a290b6a1b",
   "metadata": {},
   "outputs": [
    {
     "name": "stdout",
     "output_type": "stream",
     "text": [
      "{'Name': 'Anay', 'Age': 20, 'Subjects': ['Math', 'Physics', 'Chemistry']}\n",
      "Anay\n",
      "{'Name': 'Anay', 'Age': 20, 'Subjects': ['Math', 'Physics', 'Chemistry', 'Python']}\n",
      "{'Name': 'Anay', 'Age': 22, 'Subjects': ['Math', 'Physics', 'Chemistry', 'Python']}\n"
     ]
    }
   ],
   "source": [
    "# Q10\n",
    "\n",
    "Student = {\n",
    "    \"Name\": \"Anay\",\n",
    "    \"Age\": 20,\n",
    "    \"Subjects\": [\"Math\", \"Physics\", \"Chemistry\"]\n",
    "}\n",
    "print(Student)\n",
    "\n",
    "print(Student[\"Name\"])\n",
    "\n",
    "Student[\"Subjects\"].append(\"Python\") \n",
    "print(Student)\n",
    "\n",
    "Student[\"Age\"] = 22\n",
    "print(Student)"
   ]
  },
  {
   "cell_type": "code",
   "execution_count": 129,
   "id": "a3ed390a-1969-4c75-a464-ca73cf9a2a3d",
   "metadata": {},
   "outputs": [],
   "source": [
    "# Q9"
   ]
  },
  {
   "cell_type": "code",
   "execution_count": 127,
   "id": "eea00d06-385c-4237-85d2-d4fde7c21a9e",
   "metadata": {},
   "outputs": [
    {
     "name": "stdout",
     "output_type": "stream",
     "text": [
      "[4, 16, 36, 64, 100, 144, 196, 256, 324, 400]\n"
     ]
    }
   ],
   "source": [
    "squares = [x**2 for x in range(1,21) if x % 2 == 0]\n",
    "print(squares)"
   ]
  },
  {
   "cell_type": "code",
   "execution_count": 131,
   "id": "4a54fb25-4f1b-4d70-a13b-816938e8f7b2",
   "metadata": {},
   "outputs": [
    {
     "name": "stdin",
     "output_type": "stream",
     "text": [
      "Enter the first number: 69\n",
      "Enter the second number: 31\n"
     ]
    },
    {
     "name": "stdout",
     "output_type": "stream",
     "text": [
      "Addition is: 100\n",
      "Subtraction is: 38\n",
      "Multiplication is: 2139\n",
      "Division is: 2.225806451612903\n",
      "Modulus is: 7\n"
     ]
    }
   ],
   "source": [
    "# operators\n",
    "# Q1\n",
    "num1 = int(input(\"Enter the first number:\"))\n",
    "num2 = int(input(\"Enter the second number:\"))\n",
    "a = num1+num2\n",
    "b = num1-num2\n",
    "c = num1*num2\n",
    "d = num1/num2\n",
    "e = num1%num2\n",
    "\n",
    "print(f\"Addition is: {a}\")\n",
    "print(f\"Subtraction is: {b}\")\n",
    "print(f\"Multiplication is: {c}\")\n",
    "print(f\"Division is: {d}\")\n",
    "print(f\"Modulus is: {e}\")"
   ]
  },
  {
   "cell_type": "code",
   "execution_count": 137,
   "id": "9f321b3e-2e63-4dbf-b8b7-39138983cfd7",
   "metadata": {},
   "outputs": [
    {
     "name": "stdin",
     "output_type": "stream",
     "text": [
      "Enter the first number: 89\n",
      "Enter the second number: 99\n"
     ]
    },
    {
     "name": "stdout",
     "output_type": "stream",
     "text": [
      "89 is less than 99\n"
     ]
    }
   ],
   "source": [
    "# Q2\n",
    "n1=int(input(\"Enter the first number:\"))\n",
    "n2=int(input(\"Enter the second number:\"))\n",
    "\n",
    "if n1>n2:\n",
    "    print(f\"{n1} is greater than {n2}\")\n",
    "elif n1<n2:\n",
    "    print(f\"{n1} is less than {n2}\")\n",
    "else:\n",
    "    print(f\"{n1} is equal to {n2}\")"
   ]
  },
  {
   "cell_type": "code",
   "execution_count": 141,
   "id": "0fc439ce-5ef6-4c3a-ba9f-403e580292e3",
   "metadata": {},
   "outputs": [
    {
     "name": "stdin",
     "output_type": "stream",
     "text": [
      "Enter the number:  7\n"
     ]
    },
    {
     "name": "stdout",
     "output_type": "stream",
     "text": [
      "fail\n"
     ]
    }
   ],
   "source": [
    "# Q3\n",
    "x = int(input(\"Enter the number: \"))\n",
    "if x>0 and x%2==0:\n",
    "    print(\"Great success\")\n",
    "else:\n",
    "    print(\"fail\")\n",
    "    "
   ]
  },
  {
   "cell_type": "code",
   "execution_count": 149,
   "id": "3f0fc89f-38ec-4568-be5e-5c66b017b33c",
   "metadata": {},
   "outputs": [
    {
     "name": "stdin",
     "output_type": "stream",
     "text": [
      "Enter the number:  6\n"
     ]
    },
    {
     "name": "stdout",
     "output_type": "stream",
     "text": [
      "Increased value by 5 is 11\n",
      "Multiplied it by 3 is 18\n",
      "Remainder when divided by 4 is  0\n"
     ]
    }
   ],
   "source": [
    "# Q4\n",
    "x = int(input(\"Enter the number: \"))\n",
    "print(\"Increased value by 5 is\",x+5)\n",
    "print(\"Multiplied it by 3 is\",x*3)\n",
    "print(\"Remainder when divided by 4 is \",x%3)"
   ]
  },
  {
   "cell_type": "code",
   "execution_count": 153,
   "id": "68c1ad34-5a7a-4a64-871c-b3f9a4af5169",
   "metadata": {},
   "outputs": [
    {
     "name": "stdout",
     "output_type": "stream",
     "text": [
      "2\n",
      "3\n",
      "2\n",
      "24\n"
     ]
    }
   ],
   "source": [
    "# Q5\n",
    "x = 2\n",
    "y = 3\n",
    "print(x&y)\n",
    "print(x|y)\n",
    "print(x^y)\n",
    "\n",
    "a = 8\n",
    "print(a>>2)\n",
    "b = 3\n",
    "print(b<<3)\n"
   ]
  },
  {
   "cell_type": "code",
   "execution_count": 157,
   "id": "9da2e245-1abb-4c46-900b-8dc0138c0a59",
   "metadata": {},
   "outputs": [
    {
     "name": "stdout",
     "output_type": "stream",
     "text": [
      "True\n",
      "True\n"
     ]
    }
   ],
   "source": [
    "# Q6\n",
    "a = \"anay\"\n",
    "b = \"anay\"\n",
    "print(a is not b)\n",
    "c = 'only fans'\n",
    "d = 'good'\n",
    "print(c is not d)"
   ]
  },
  {
   "cell_type": "code",
   "execution_count": 10,
   "id": "587717ff-4b9a-4291-8f6c-755ac11c0365",
   "metadata": {},
   "outputs": [
    {
     "name": "stdout",
     "output_type": "stream",
     "text": [
      "True\n",
      "False\n",
      "False\n",
      "True\n"
     ]
    }
   ],
   "source": [
    "# Q7\n",
    "\n",
    "S1 = \"jupyter notebook\"\n",
    "L1 = [\"Hey\",23452,3343.2242, False, None, \"jupyter\", \"notebook\"]\n",
    "print(\"y\" in S1)\n",
    "print(72368919 in L1)\n",
    "print(23452 not in L1)\n",
    "print('True' not in S1)"
   ]
  },
  {
   "cell_type": "code",
   "execution_count": 16,
   "id": "54a05880-c369-47db-b9b9-c8dbe33a1b2b",
   "metadata": {},
   "outputs": [
    {
     "name": "stdin",
     "output_type": "stream",
     "text": [
      "Enter the number:  99\n"
     ]
    },
    {
     "name": "stdout",
     "output_type": "stream",
     "text": [
      "Number is not\n"
     ]
    }
   ],
   "source": [
    "# Q9\n",
    "num = int(input(\"Enter the number: \"))\n",
    "if 10<=num<=20:\n",
    "    print(\"Number is present between 10 and 20\")\n",
    "else:\n",
    "    print(\"Number is not\")"
   ]
  },
  {
   "cell_type": "code",
   "execution_count": 20,
   "id": "f8e5ef47-d244-4979-a895-6b60302fefe1",
   "metadata": {},
   "outputs": [
    {
     "name": "stdin",
     "output_type": "stream",
     "text": [
      "Enter the first number:  -99\n",
      "Enter the operator(+,-,*,/,%,**,//):  +\n",
      "Enter the second number:  100\n"
     ]
    },
    {
     "name": "stdout",
     "output_type": "stream",
     "text": [
      "1\n"
     ]
    }
   ],
   "source": [
    "# Q10\n",
    "num1 = int(input(\"Enter the first number: \"))\n",
    "op = input(\"Enter the operator(+,-,*,/,%,**,//): \")\n",
    "num2 = int(input(\"Enter the second number: \"))\n",
    "\n",
    "\n",
    "if op=='+':\n",
    "    print(num1+num2)\n",
    "elif op=='-':\n",
    "    print(num1=num2)\n",
    "elif op=='*':\n",
    "    print(num1*num2)\n",
    "elif op=='**':\n",
    "    print(num1**num2)\n",
    "elif op=='%':\n",
    "    print(num1%num2)\n",
    "elif op=='/':\n",
    "    if num2!=0:\n",
    "        print(num1/num2)\n",
    "    else:\n",
    "        print('ERROR BITCH')\n",
    "elif op=='//':\n",
    "    if num2!=0:\n",
    "        print(num1//num2)\n",
    "    else:\n",
    "        print('ERROR BITCH')\n",
    "else:\n",
    "    print('INCORRECT INPUTS')"
   ]
  },
  {
   "cell_type": "code",
   "execution_count": 22,
   "id": "8fd9075c-3ef6-4b5a-be5e-5c134185b258",
   "metadata": {},
   "outputs": [
    {
     "name": "stdout",
     "output_type": "stream",
     "text": [
      "Result of this expression is 35.0.\n"
     ]
    }
   ],
   "source": [
    "# Q8\n",
    "result = 10+20*3/2-5\n",
    "print(f'Result of this expression is {result}.')\n",
    "\n",
    "Operator precedence determines the order:\n",
    "\n",
    "# Multiplication (*) and Division (/) are evaluated first (left to right).\n",
    "# Addition (+) and Subtraction (-) are evaluated next (left to right). Thus:\n",
    "# 20 * 3 = 60\n",
    "# 60 / 2 = 30.0\n",
    "# 10 + 30.0 = 40.0\n",
    "# 40.0 - 5 = 35.0"
   ]
  },
  {
   "cell_type": "code",
   "execution_count": 30,
   "id": "f7f041f1-7fa9-4137-b310-4f03216cb122",
   "metadata": {},
   "outputs": [
    {
     "name": "stdout",
     "output_type": "stream",
     "text": [
      "69 2.31 Anay False\n",
      "<class 'int'>\n",
      "<class 'float'>\n",
      "<class 'str'>\n",
      "<class 'bool'>\n"
     ]
    }
   ],
   "source": [
    "# VARIABLES\n",
    "# Q1\n",
    "int1 = 69\n",
    "flo = 2.31\n",
    "st = 'Anay'\n",
    "boom = False\n",
    "print(int1,flo,st,boom)\n",
    "print(type(int1))\n",
    "print(type(flo))\n",
    "print(type(st))\n",
    "print(type(boom))\n"
   ]
  },
  {
   "cell_type": "code",
   "execution_count": 46,
   "id": "598d09d5-fd06-4564-9526-d2cce1a60bb7",
   "metadata": {},
   "outputs": [
    {
     "name": "stdin",
     "output_type": "stream",
     "text": [
      "Enter the value of a: 9\n",
      "Enter the value of b: 6\n"
     ]
    },
    {
     "name": "stdout",
     "output_type": "stream",
     "text": [
      "After swapping the values of a is 6 and b is 9.\n"
     ]
    }
   ],
   "source": [
    "# Q2\n",
    "a = int(input(\"Enter the value of a:\"))\n",
    "b = int(input(\"Enter the value of b:\"))\n",
    "a,b = b,a\n",
    "print(f'After swapping the values of a is {a} and b is {b}.')\n"
   ]
  },
  {
   "cell_type": "code",
   "execution_count": 52,
   "id": "49923db6-76a4-4b0b-848a-c5d4b886b2c8",
   "metadata": {},
   "outputs": [
    {
     "name": "stdout",
     "output_type": "stream",
     "text": [
      "9\n",
      "string value\n",
      "953423.897439\n"
     ]
    }
   ],
   "source": [
    "# Q3\n",
    "var = 9\n",
    "print(var)\n",
    "var = 'string value'\n",
    "print(var)\n",
    "var = 953423.897439\n",
    "print(var)"
   ]
  },
  {
   "cell_type": "code",
   "execution_count": 54,
   "id": "465d52a6-6acd-4dbc-9cc2-47e7f872a3dc",
   "metadata": {},
   "outputs": [
    {
     "name": "stdin",
     "output_type": "stream",
     "text": [
      "Enter the first number:  9\n",
      "Enter the second number:  6\n"
     ]
    },
    {
     "name": "stdout",
     "output_type": "stream",
     "text": [
      "Sum is 15\n",
      "Difference is 3\n",
      "Product is 54\n"
     ]
    }
   ],
   "source": [
    "# Q4\n",
    "var1 = int(input(\"Enter the first number: \"))\n",
    "var2 = int(input(\"Enter the second number: \"))\n",
    "\n",
    "print(f'Sum is',var1+var2)\n",
    "print(f'Difference is',var1-var2)\n",
    "print(f'Product is',var1*var2)"
   ]
  },
  {
   "cell_type": "code",
   "execution_count": 58,
   "id": "167cd999-29c1-48f2-a927-067f2fc797ca",
   "metadata": {},
   "outputs": [
    {
     "name": "stdout",
     "output_type": "stream",
     "text": [
      "Inside the function: Local Variable\n",
      "Outside the function: Global Variable\n"
     ]
    }
   ],
   "source": [
    "# Q5\n",
    "# def f(num):\n",
    "#     num = int(input(\"Enter the value of num: \"))\n",
    "#     print(num)\n",
    "\n",
    "# f(num)\n",
    "# print(num)\n",
    "# my sol\n",
    "\n",
    "# gpt sol\n",
    "# Declare a global variable\n",
    "x = \"Global Variable\"\n",
    "\n",
    "def my_function():\n",
    "    # Declare a local variable with the same name\n",
    "    x = \"Local Variable\"\n",
    "    print(\"Inside the function:\", x)  # Accessing the local variable\n",
    "\n",
    "# Call the function\n",
    "my_function()\n",
    "\n",
    "# Print the global variable\n",
    "print(\"Outside the function:\", x)\n"
   ]
  },
  {
   "cell_type": "code",
   "execution_count": 64,
   "id": "e73e98b8-9f45-4128-b801-a4aae8363788",
   "metadata": {},
   "outputs": [
    {
     "name": "stdout",
     "output_type": "stream",
     "text": [
      "522.7330988640375\n"
     ]
    }
   ],
   "source": [
    "# Q6\n",
    "E = 2.71828\n",
    "print(10**E)"
   ]
  },
  {
   "cell_type": "code",
   "execution_count": 66,
   "id": "b2e67259-f551-4a08-a9d6-e1a2c74d06f7",
   "metadata": {},
   "outputs": [
    {
     "name": "stdout",
     "output_type": "stream",
     "text": [
      "Result of the aforementioned expression is  38.0\n"
     ]
    }
   ],
   "source": [
    "# Q7\n",
    "a = 5\n",
    "b = 3\n",
    "c = 8\n",
    "\n",
    "result = a**2 + b*c - a*b + c/2\n",
    "print(f'Result of the aforementioned expression is ',result)"
   ]
  },
  {
   "cell_type": "code",
   "execution_count": 72,
   "id": "333876f3-2537-46d0-8800-f8c4c8703c3d",
   "metadata": {},
   "outputs": [
    {
     "name": "stdout",
     "output_type": "stream",
     "text": [
      "2 1 4 3\n"
     ]
    }
   ],
   "source": [
    "# Q8\n",
    "a,b,c,d = 1,2,3,4\n",
    "a,b = b,a\n",
    "c,d=d,c\n",
    "print(a,b,c,d)"
   ]
  },
  {
   "cell_type": "code",
   "execution_count": 76,
   "id": "f0eece22-be70-415d-bfc9-9fef20354e1a",
   "metadata": {},
   "outputs": [
    {
     "name": "stdout",
     "output_type": "stream",
     "text": [
      "ssd\n",
      "yup\n",
      "34\n"
     ]
    }
   ],
   "source": [
    "# Q9\n",
    "li = ['ssd','yup',34,24,True]\n",
    "a = li[0]\n",
    "b = li[1]\n",
    "c = li[2]\n",
    "print(a)\n",
    "print(b)\n",
    "print(c)"
   ]
  },
  {
   "cell_type": "code",
   "execution_count": 80,
   "id": "6645490a-ee48-457a-b7af-b081e96bad73",
   "metadata": {},
   "outputs": [
    {
     "name": "stdout",
     "output_type": "stream",
     "text": [
      "string\n",
      "<class 'str'>\n",
      "8792\n",
      "<class 'int'>\n",
      "[1, 2, 454.2, True]\n",
      "<class 'list'>\n",
      "(1, 2, 3, 4)\n",
      "<class 'tuple'>\n",
      "{1, 2, 3, 4}\n",
      "<class 'set'>\n"
     ]
    }
   ],
   "source": [
    "# Q10\n",
    "var = 'string'\n",
    "print(var)\n",
    "print(type(var))\n",
    "\n",
    "var = 8792\n",
    "print(var)\n",
    "print(type(var))\n",
    "\n",
    "var = [1,2,454.2,True]\n",
    "print(var)\n",
    "print(type(var))\n",
    "\n",
    "var = (1,2,3,4)\n",
    "print(var)\n",
    "print(type(var))\n",
    "\n",
    "var = {1,2,3,4}\n",
    "print(var)\n",
    "print(type(var))"
   ]
  },
  {
   "cell_type": "code",
   "execution_count": 88,
   "id": "ab2a9aca-2b73-464d-a4e5-dbbdac702dd0",
   "metadata": {},
   "outputs": [
    {
     "name": "stdin",
     "output_type": "stream",
     "text": [
      "Enter the number here:  0\n"
     ]
    },
    {
     "name": "stdout",
     "output_type": "stream",
     "text": [
      "Number is zero\n"
     ]
    }
   ],
   "source": [
    "# conditionals\n",
    "# Q1\n",
    "num = int(input(\"Enter the number here: \"))\n",
    "if num>0:\n",
    "    print(\"Number is positive\")\n",
    "elif num==0:\n",
    "    print(\"Number is zero\")\n",
    "else:\n",
    "    print(\"Number is negative\")"
   ]
  },
  {
   "cell_type": "code",
   "execution_count": 92,
   "id": "11b85765-4464-429e-a80a-58c5601738dd",
   "metadata": {},
   "outputs": [
    {
     "name": "stdin",
     "output_type": "stream",
     "text": [
      "Enter the number here:  1\n"
     ]
    },
    {
     "name": "stdout",
     "output_type": "stream",
     "text": [
      "Number is odd\n"
     ]
    }
   ],
   "source": [
    "# Q2\n",
    "a = int(input(\"Enter the number here: \"))\n",
    "if a%2 == 0:\n",
    "    print(\"Number is even\")\n",
    "else:\n",
    "    print(\"Number is odd\")"
   ]
  },
  {
   "cell_type": "code",
   "execution_count": 12,
   "id": "3419d807-d184-42cb-8d7b-de5afb2fdcd7",
   "metadata": {},
   "outputs": [
    {
     "name": "stdin",
     "output_type": "stream",
     "text": [
      "Enter your marks here:  0\n"
     ]
    },
    {
     "name": "stdout",
     "output_type": "stream",
     "text": [
      "You get my D and a D grade.\n"
     ]
    }
   ],
   "source": [
    "# Q3\n",
    "marks = int(input(\"Enter your marks here: \"))\n",
    "if marks>=90:\n",
    "    print('You got Grade A buddy.')\n",
    "elif marks>=75 and marks<90:\n",
    "    print('You got Grade B kid.')\n",
    "elif marks>=50 and marks<75:\n",
    "    print('You got a C in exams, STUDY HARDER!!')\n",
    "elif marks<50 and marks>=0:\n",
    "    print('You get my D and a D grade.')\n",
    "else:\n",
    "    print('Enter valid marks you retard.')\n",
    "    "
   ]
  },
  {
   "cell_type": "code",
   "execution_count": 16,
   "id": "c5d3c603-94e7-4e87-aa86-e4e9f97b3e2b",
   "metadata": {},
   "outputs": [
    {
     "name": "stdin",
     "output_type": "stream",
     "text": [
      "Enter your year:  2044\n"
     ]
    },
    {
     "name": "stdout",
     "output_type": "stream",
     "text": [
      "It is a leap year!!\n"
     ]
    }
   ],
   "source": [
    "# Q4\n",
    "year = int(input(\"Enter your year: \"))\n",
    "if year%4==0:\n",
    "    print(\"It is a leap year!!\")\n",
    "else:\n",
    "    print('It is not a leap year:(')\n",
    "    "
   ]
  },
  {
   "cell_type": "code",
   "execution_count": 24,
   "id": "265e718e-8def-4f28-b1a8-081f2a752169",
   "metadata": {},
   "outputs": [
    {
     "name": "stdin",
     "output_type": "stream",
     "text": [
      "Enter the first number here:  5\n",
      "Enter the second number here:  5\n",
      "Enter the third number here:  5\n"
     ]
    },
    {
     "name": "stdout",
     "output_type": "stream",
     "text": [
      "5 is the greatest of all time. \n"
     ]
    }
   ],
   "source": [
    "# Q5\n",
    "a = int(input('Enter the first number here: '))\n",
    "b = int(input('Enter the second number here: '))\n",
    "c = int(input('Enter the third number here: '))\n",
    "\n",
    "if a>=b and a>=c:\n",
    "    print(f'{a} is the greatest of all time. ')\n",
    "elif b>=c and b>=a:\n",
    "    print(f'{b} is the greatest of all time. ')\n",
    "elif c>=b and c>=a:\n",
    "    print(f'{c} is the greatest of all time. ')\n",
    "else:\n",
    "    print('Input sahi daal madarchod')"
   ]
  },
  {
   "cell_type": "code",
   "execution_count": 3,
   "id": "e75b20f9-eee7-411e-9e7e-34240db1d402",
   "metadata": {},
   "outputs": [
    {
     "name": "stdin",
     "output_type": "stream",
     "text": [
      "Enter your letter:  U\n"
     ]
    },
    {
     "name": "stdout",
     "output_type": "stream",
     "text": [
      "The aforementioned letter is a vowel\n"
     ]
    }
   ],
   "source": [
    "# Q6\n",
    "vow = input(\"Enter your letter: \")\n",
    "if 'a'or'e'or 'i' or 'o' or'u' in vow:\n",
    "    print('The aforementioned letter is a vowel')\n",
    "elif 'A'or'E'or'I'or'O'or'U' in vow:\n",
    "    print('The aforementioned letter is a vowel')\n",
    "else:\n",
    "    print('It is a consonant:(')"
   ]
  },
  {
   "cell_type": "code",
   "execution_count": 58,
   "id": "c67fe850-9d7f-4646-8ad1-43895c01380a",
   "metadata": {},
   "outputs": [
    {
     "name": "stdin",
     "output_type": "stream",
     "text": [
      "Enter you number here bitch:  -718943519738539759291257125782157812991273129\n"
     ]
    },
    {
     "name": "stdout",
     "output_type": "stream",
     "text": [
      "The number is negative\n"
     ]
    }
   ],
   "source": [
    "# Q7\n",
    "nu = int(input('Enter you number here bitch: '))\n",
    "if nu>0 and nu%2 == 0:\n",
    "    print('The number here is positive and even')\n",
    "elif nu>0 and nu%2 != 0:\n",
    "    print('The number here is positive and odd')\n",
    "elif nu<0:\n",
    "    print('The number is negative')\n",
    "elif nu==0:\n",
    "    print('It is a BIG FAT ZERO')\n",
    "else:\n",
    "    print('INPUT SAHI DAAL MADARCHOD!!!!')\n",
    "    "
   ]
  },
  {
   "cell_type": "code",
   "execution_count": 64,
   "id": "94a2468f-f049-40ae-aaf3-31fd70bd250b",
   "metadata": {},
   "outputs": [
    {
     "name": "stdin",
     "output_type": "stream",
     "text": [
      "Enter your Body Mass Index(BMI):  49\n"
     ]
    },
    {
     "name": "stdout",
     "output_type": "stream",
     "text": [
      "You are obese, thoda chal le mote bhainse.\n"
     ]
    }
   ],
   "source": [
    "# Q8\n",
    "bmi = float(input(\"Enter your Body Mass Index(BMI): \"))\n",
    "if bmi<18.5:\n",
    "    print('You are an underweight piece of shit.')\n",
    "elif bmi>=18.5 and bmi<25:\n",
    "    print('You are normal weight.')\n",
    "elif bmi>=25 and bmi<30:\n",
    "    print('You are overweight.')\n",
    "elif bmi>=30:\n",
    "    print('You are obese, thoda chal le mote bhainse.')\n",
    "    "
   ]
  },
  {
   "cell_type": "code",
   "execution_count": 7,
   "id": "2cc2b013-fe58-421a-806b-9fab5f02fb76",
   "metadata": {},
   "outputs": [
    {
     "name": "stdin",
     "output_type": "stream",
     "text": [
      "Enter your colour:  green\n"
     ]
    },
    {
     "name": "stdout",
     "output_type": "stream",
     "text": [
      "Go Diego Go\n"
     ]
    }
   ],
   "source": [
    "# Q9\n",
    "color = input('Enter your colour: ')\n",
    "if 'red' in color:\n",
    "    print('STOP NIGGA BOY')\n",
    "elif 'yellow' in color:\n",
    "    print('Ready to move bitch')\n",
    "elif 'green' in color:\n",
    "    print('Go Diego Go')\n",
    "else:\n",
    "    print('Fav colour nhi daalna tha chutiye')\n",
    "    "
   ]
  },
  {
   "cell_type": "code",
   "execution_count": 11,
   "id": "505f6296-bcb5-4ddd-b0e9-5efa37723ee0",
   "metadata": {},
   "outputs": [
    {
     "name": "stdin",
     "output_type": "stream",
     "text": [
      "Enter your bill amount:  2999\n"
     ]
    },
    {
     "name": "stdout",
     "output_type": "stream",
     "text": [
      "YOUR DISCOUNT IS 10%, yayyyyy\n"
     ]
    }
   ],
   "source": [
    "# Q10\n",
    "bill = int(input('Enter your bill amount: '))\n",
    "if bill>=5000:\n",
    "    print('YOUR DISCOUNT IS 20%, yayyyyy')\n",
    "elif bill>=3000 and bill<5000:\n",
    "    print('YOUR DISCOUNT IS 15%, yayyyyy')\n",
    "elif bill>=1000 and bill<3000:\n",
    "    print('YOUR DISCOUNT IS 10%, yayyyyy')\n",
    "elif bill<1000:\n",
    "    print('YOUR DISCOUNT IS 0%, gareeb saale')\n",
    "else:\n",
    "    print('Khana toh order kar lodu')"
   ]
  },
  {
   "cell_type": "code",
   "execution_count": 17,
   "id": "6472edec-978a-4421-8f7d-81fb882a4ebc",
   "metadata": {},
   "outputs": [
    {
     "name": "stdin",
     "output_type": "stream",
     "text": [
      "Enter you number here:  2\n"
     ]
    },
    {
     "name": "stdout",
     "output_type": "stream",
     "text": [
      "1\n",
      "2\n"
     ]
    }
   ],
   "source": [
    "# loops\n",
    "# Q1\n",
    "N = int(input(\"Enter you number here: \"))\n",
    "for i in range(1,N+1):\n",
    "    print(i)\n",
    "    i=+1"
   ]
  },
  {
   "cell_type": "code",
   "execution_count": 3,
   "id": "2a78432e-78f3-47f7-8187-4b7571a5b51c",
   "metadata": {},
   "outputs": [
    {
     "name": "stdin",
     "output_type": "stream",
     "text": [
      "Enter your number here:  5\n"
     ]
    },
    {
     "name": "stdout",
     "output_type": "stream",
     "text": [
      "sum is 15\n"
     ]
    }
   ],
   "source": [
    "# Q2\n",
    "N = int(input('Enter your number here: '))\n",
    "s = 0\n",
    "i = 0\n",
    "while i < N:\n",
    "    i+=1\n",
    "    s = s+i\n",
    "    \n",
    "\n",
    "print(f'sum is {s}')"
   ]
  },
  {
   "cell_type": "code",
   "execution_count": 1,
   "id": "4d1bd8f9-e644-4858-94c4-e0db56874db4",
   "metadata": {},
   "outputs": [
    {
     "name": "stdin",
     "output_type": "stream",
     "text": [
      "Enter you number here: 9\n"
     ]
    },
    {
     "name": "stdout",
     "output_type": "stream",
     "text": [
      "9 X 1 = 9\n",
      "9 X 2 = 18\n",
      "9 X 3 = 27\n",
      "9 X 4 = 36\n",
      "9 X 5 = 45\n",
      "9 X 6 = 54\n",
      "9 X 7 = 63\n",
      "9 X 8 = 72\n",
      "9 X 9 = 81\n",
      "9 X 10 = 90\n"
     ]
    }
   ],
   "source": [
    "# Q3\n",
    "num = int(input('Enter you number here:'))\n",
    "for i in  range(1,11):\n",
    "    print(f'{num} X {i} = {num*i}')\n",
    "    i=+1"
   ]
  },
  {
   "cell_type": "code",
   "execution_count": 11,
   "id": "2853da33-ca70-4198-93e8-de7a4fdddd4f",
   "metadata": {},
   "outputs": [
    {
     "name": "stdin",
     "output_type": "stream",
     "text": [
      "Enter the starting number here:  1\n",
      "Enter the ending number here:  101\n"
     ]
    },
    {
     "name": "stdout",
     "output_type": "stream",
     "text": [
      "2 4 6 8 10 12 14 16 18 20 22 24 26 28 30 32 34 36 38 40 42 44 46 48 50 52 54 56 58 60 62 64 66 68 70 72 74 76 78 80 82 84 86 88 90 92 94 96 98 100 "
     ]
    }
   ],
   "source": [
    "# Q4\n",
    "start = int(input('Enter the starting number here: '))\n",
    "end = int(input('Enter the ending number here: '))\n",
    "\n",
    "for i in range(start,end):\n",
    "    if i%2==0:\n",
    "        print(i,end=' ')"
   ]
  },
  {
   "cell_type": "code",
   "execution_count": 1,
   "id": "a2730a12-c650-46f7-8d0c-e604002071e7",
   "metadata": {},
   "outputs": [
    {
     "name": "stdin",
     "output_type": "stream",
     "text": [
      "enter your number:  3\n"
     ]
    },
    {
     "name": "stdout",
     "output_type": "stream",
     "text": [
      "the factorial of the number is6\n"
     ]
    }
   ],
   "source": [
    "# Q5\n",
    "fact = int(input(\"enter your number: \"))\n",
    "i=1\n",
    "product=1\n",
    "while i<fact:\n",
    "    i=i+1\n",
    "    product=product*i\n",
    "\n",
    "print(f'the factorial of the number is {product}')"
   ]
  },
  {
   "cell_type": "code",
   "execution_count": 3,
   "id": "eade28b8-aa9e-4824-917f-8e10c3bfcca6",
   "metadata": {},
   "outputs": [
    {
     "name": "stdin",
     "output_type": "stream",
     "text": [
      "Enter a number:  12345\n"
     ]
    },
    {
     "name": "stdout",
     "output_type": "stream",
     "text": [
      "Reversed number: 54321\n"
     ]
    }
   ],
   "source": [
    "# Q6\n",
    "# Input a number from the user\n",
    "number = int(input(\"Enter a number: \"))\n",
    "\n",
    "# Initialize reverse variable\n",
    "reverse = 0\n",
    "\n",
    "# Use while loop to reverse the number\n",
    "while number > 0:\n",
    "    last_digit = number % 10  # Extract the last digit\n",
    "    reverse = reverse * 10 + last_digit  # Update reverse\n",
    "    number //= 10  # Remove the last digit from the original number\n",
    "\n",
    "# Print the reversed number\n",
    "print(\"Reversed number:\", reverse)\n"
   ]
  },
  {
   "cell_type": "code",
   "execution_count": 11,
   "id": "f9ad7aa3-def9-471c-afec-6ab5b8a9a056",
   "metadata": {},
   "outputs": [
    {
     "name": "stdin",
     "output_type": "stream",
     "text": [
      "Enter your number here:  99\n"
     ]
    },
    {
     "name": "stdout",
     "output_type": "stream",
     "text": [
      "Fibonacci series:\n",
      "0  1  1  2  3  5  8  13  21  34  55  89  144  233  377  610  987  1597  2584  4181  6765  10946  17711  28657  46368  75025  121393  196418  317811  514229  832040  1346269  2178309  3524578  5702887  9227465  14930352  24157817  39088169  63245986  102334155  165580141  267914296  433494437  701408733  1134903170  1836311903  2971215073  4807526976  7778742049  12586269025  20365011074  32951280099  53316291173  86267571272  139583862445  225851433717  365435296162  591286729879  956722026041  1548008755920  2504730781961  4052739537881  6557470319842  10610209857723  17167680177565  27777890035288  44945570212853  72723460248141  117669030460994  190392490709135  308061521170129  498454011879264  806515533049393  1304969544928657  2111485077978050  3416454622906707  5527939700884757  8944394323791464  14472334024676221  23416728348467685  37889062373143906  61305790721611591  99194853094755497  160500643816367088  259695496911122585  420196140727489673  679891637638612258  1100087778366101931  1779979416004714189  2880067194370816120  4660046610375530309  7540113804746346429  12200160415121876738  19740274219868223167  31940434634990099905  51680708854858323072  83621143489848422977  135301852344706746049  "
     ]
    }
   ],
   "source": [
    "# Q7\n",
    "num = int(input('Enter your number here: '))\n",
    "a,b = 0,1\n",
    "print('Fibonacci series:')\n",
    "\n",
    "for i in range(num):\n",
    "    print(a,end='  ')\n",
    "    a,b = b,a+b\n",
    "    "
   ]
  },
  {
   "cell_type": "code",
   "execution_count": 27,
   "id": "32f12e9a-7bc9-46fd-b1eb-42b9df0908fa",
   "metadata": {},
   "outputs": [
    {
     "name": "stdin",
     "output_type": "stream",
     "text": [
      "Enter the number here:  12345\n"
     ]
    },
    {
     "name": "stdout",
     "output_type": "stream",
     "text": [
      "5\n"
     ]
    }
   ],
   "source": [
    "# Q8\n",
    "# Input a number from the user\n",
    "number = int(input(\"Enter a number: \"))\n",
    "\n",
    "# Initialize digit counter\n",
    "count = 0\n",
    "\n",
    "# Use a while loop to count the digits\n",
    "while number > 0:\n",
    "    number //= 10  # Remove the last digit\n",
    "    count += 1  # Increment the digit count\n",
    "\n",
    "# Print the result\n",
    "print(\"Number of digits:\", count)\n"
   ]
  },
  {
   "cell_type": "code",
   "execution_count": 37,
   "id": "e9976fab-7d81-4ed4-b0f4-e20c07a7fb5b",
   "metadata": {},
   "outputs": [
    {
     "name": "stdout",
     "output_type": "stream",
     "text": [
      "1\n"
     ]
    }
   ],
   "source": [
    "# Q9\n",
    "# Input the range\n",
    "start = int(input(\"Enter the start of the range: \"))\n",
    "end = int(input(\"Enter the end of the range: \"))\n",
    "\n",
    "print(f\"Prime numbers between {start} and {end}:\")\n",
    "\n",
    "# Loop through each number in the range\n",
    "for num in range(start, end + 1):\n",
    "    # Skip numbers less than 2 (not prime)\n",
    "    if num < 2:\n",
    "        continue\n",
    "\n",
    "    # Check if the number is prime\n",
    "    is_prime = True\n",
    "    for i in range(2, int(num ** 0.5) + 1):  # Check divisors up to sqrt(num)\n",
    "        if num % i == 0:\n",
    "            is_prime = False\n",
    "            break  # No need to check further\n",
    "\n",
    "    if is_prime:\n",
    "        print(num, end=\" \")  # Print the prime number\n"
   ]
  },
  {
   "cell_type": "code",
   "execution_count": 78,
   "id": "5c77c5e1-2a5d-4743-9591-125942996ad8",
   "metadata": {},
   "outputs": [
    {
     "name": "stdin",
     "output_type": "stream",
     "text": [
      "Enter the number here:  5\n"
     ]
    },
    {
     "name": "stdout",
     "output_type": "stream",
     "text": [
      "*\n",
      "**\n",
      "***\n",
      "****\n",
      "*****\n"
     ]
    }
   ],
   "source": [
    "# Q10\n",
    "a = int(input('Enter the number here: '))\n",
    "\n",
    "for i in range (1, a+1):\n",
    "    print('*'*i)\n"
   ]
  },
  {
   "cell_type": "code",
   "execution_count": null,
   "id": "f8312e48-9153-4d3e-a570-a9309d5c2235",
   "metadata": {},
   "outputs": [],
   "source": []
  }
 ],
 "metadata": {
  "kernelspec": {
   "display_name": "Python 3 (ipykernel)",
   "language": "python",
   "name": "python3"
  },
  "language_info": {
   "codemirror_mode": {
    "name": "ipython",
    "version": 3
   },
   "file_extension": ".py",
   "mimetype": "text/x-python",
   "name": "python",
   "nbconvert_exporter": "python",
   "pygments_lexer": "ipython3",
   "version": "3.12.7"
  }
 },
 "nbformat": 4,
 "nbformat_minor": 5
}
