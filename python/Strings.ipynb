{
 "cells": [
  {
   "cell_type": "code",
   "execution_count": 6,
   "id": "dd95e57b-cb27-4330-a713-bbd183bb80d7",
   "metadata": {},
   "outputs": [
    {
     "name": "stdout",
     "output_type": "stream",
     "text": [
      "Anay is a smart mf\n"
     ]
    }
   ],
   "source": [
    "# Concept of indexing-\n",
    "a = \"Anay is a smart mf\"\n",
    "print(a)"
   ]
  },
  {
   "cell_type": "code",
   "execution_count": 10,
   "id": "28e144be-f361-47fe-81a9-6b5d1c276585",
   "metadata": {},
   "outputs": [
    {
     "name": "stdout",
     "output_type": "stream",
     "text": [
      "y\n"
     ]
    }
   ],
   "source": [
    "print(a[2])"
   ]
  },
  {
   "cell_type": "code",
   "execution_count": 12,
   "id": "423e489c-2546-40a1-b785-e4b3c7f0ff4c",
   "metadata": {},
   "outputs": [
    {
     "name": "stdout",
     "output_type": "stream",
     "text": [
      "m\n",
      "A\n"
     ]
    }
   ],
   "source": [
    "# types of indexing\n",
    "# Negative indexing and positive indexing\n",
    "print(a[-2])\n",
    "print(a[0])"
   ]
  },
  {
   "cell_type": "code",
   "execution_count": 22,
   "id": "885256bd-0a33-44a7-b874-edc4d4efbbe6",
   "metadata": {},
   "outputs": [
    {
     "name": "stdout",
     "output_type": "stream",
     "text": [
      "Anay \n",
      "y is a smart mf\n",
      "Anay is a s\n",
      "Aa sasatm\n"
     ]
    }
   ],
   "source": [
    "# slicing\n",
    "print(a[0:5]) #0 se leke 4 tak jayega we don't count the last\n",
    "print(a[3:]) #3rd se leke last tak jayega\n",
    "print(a[:11]) #starting 0th se leke 10th tak jayega\n",
    "print(a[0:17:2]) #0 se leke 17 tak skiping 1 in between"
   ]
  },
  {
   "cell_type": "code",
   "execution_count": 24,
   "id": "3b075ad1-771b-4374-b4c5-68ea9dd9378a",
   "metadata": {},
   "outputs": [],
   "source": [
    "# Editing and Deleting strings\n",
    "del a"
   ]
  },
  {
   "cell_type": "code",
   "execution_count": 26,
   "id": "0ae30f3b-154e-41e7-877c-46a37b02debb",
   "metadata": {},
   "outputs": [
    {
     "ename": "NameError",
     "evalue": "name 'a' is not defined",
     "output_type": "error",
     "traceback": [
      "\u001b[1;31m---------------------------------------------------------------------------\u001b[0m",
      "\u001b[1;31mNameError\u001b[0m                                 Traceback (most recent call last)",
      "Cell \u001b[1;32mIn[26], line 1\u001b[0m\n\u001b[1;32m----> 1\u001b[0m \u001b[38;5;28mprint\u001b[39m(a)\n",
      "\u001b[1;31mNameError\u001b[0m: name 'a' is not defined"
     ]
    }
   ],
   "source": [
    "print(a)"
   ]
  },
  {
   "cell_type": "code",
   "execution_count": 28,
   "id": "2dc272e9-9b77-4e97-8354-16fe8c9b1040",
   "metadata": {},
   "outputs": [
    {
     "data": {
      "text/plain": [
       "'Anay jha'"
      ]
     },
     "execution_count": 28,
     "metadata": {},
     "output_type": "execute_result"
    }
   ],
   "source": [
    "# mathematical operators\n",
    "\"Anay\" + \" \" + \"jha\""
   ]
  },
  {
   "cell_type": "code",
   "execution_count": 30,
   "id": "ae799c46-5a99-40ca-9251-8f86c0311f72",
   "metadata": {},
   "outputs": [
    {
     "name": "stdout",
     "output_type": "stream",
     "text": [
      "*********\n"
     ]
    }
   ],
   "source": [
    "print('*'*9)"
   ]
  },
  {
   "cell_type": "code",
   "execution_count": 10,
   "id": "9f8b3488-cc3a-453e-a1bd-90e9dcd28dab",
   "metadata": {},
   "outputs": [
    {
     "data": {
      "text/plain": [
       "True"
      ]
     },
     "execution_count": 10,
     "metadata": {},
     "output_type": "execute_result"
    }
   ],
   "source": [
    "# relational operators\n",
    "\"Hello\" == \"Anay\" #false\n",
    "\"Bhopal\" > \"Delhi\" #false because it is compared lexicographically\n",
    "\"a\" > \"A\" #true"
   ]
  },
  {
   "cell_type": "code",
   "execution_count": 16,
   "id": "463e7145-a0da-40ec-9a3f-a6c85616c139",
   "metadata": {},
   "outputs": [
    {
     "data": {
      "text/plain": [
       "'a'"
      ]
     },
     "execution_count": 16,
     "metadata": {},
     "output_type": "execute_result"
    }
   ],
   "source": [
    "# Logical operators\n",
    "\"\" -> False\n",
    "\"anay\" -> True\n"
   ]
  },
  {
   "cell_type": "code",
   "execution_count": 18,
   "id": "32456ee1-4756-48ac-b266-f428ae2270de",
   "metadata": {},
   "outputs": [
    {
     "data": {
      "text/plain": [
       "'anay'"
      ]
     },
     "execution_count": 18,
     "metadata": {},
     "output_type": "execute_result"
    }
   ],
   "source": [
    "\"\" or \"anay\""
   ]
  },
  {
   "cell_type": "code",
   "execution_count": 20,
   "id": "fe2e1cad-ea39-4ccb-a96d-f7e7e810b5b6",
   "metadata": {},
   "outputs": [
    {
     "data": {
      "text/plain": [
       "''"
      ]
     },
     "execution_count": 20,
     "metadata": {},
     "output_type": "execute_result"
    }
   ],
   "source": [
    "\"\" and \"osm\""
   ]
  },
  {
   "cell_type": "code",
   "execution_count": 22,
   "id": "211b8ef3-0cc4-42c0-a356-99cf1f7ebb99",
   "metadata": {},
   "outputs": [
    {
     "data": {
      "text/plain": [
       "'leo'"
      ]
     },
     "execution_count": 22,
     "metadata": {},
     "output_type": "execute_result"
    }
   ],
   "source": [
    "\"leo\" or \"mehhsi\" #idhar or hai isiliye 1st true string print ki bcs confirmation ki need nhi h 2nd string se"
   ]
  },
  {
   "cell_type": "code",
   "execution_count": 24,
   "id": "6cfa234d-e2ff-491a-a8cc-a03d8ae12f42",
   "metadata": {},
   "outputs": [
    {
     "data": {
      "text/plain": [
       "'wc'"
      ]
     },
     "execution_count": 24,
     "metadata": {},
     "output_type": "execute_result"
    }
   ],
   "source": [
    "\"nhwh\"and \"wc\" #but yaha par h and ki wajah se isiliye 2nd string print hui h"
   ]
  },
  {
   "cell_type": "code",
   "execution_count": 32,
   "id": "bc038b35-73bd-48e0-b58e-9c0505b75d95",
   "metadata": {},
   "outputs": [
    {
     "name": "stdout",
     "output_type": "stream",
     "text": [
      "y\n",
      "a\n",
      "n\n",
      "A\n"
     ]
    }
   ],
   "source": [
    "# loops in strings\n",
    "a = \"Anay\"\n",
    "for i in a[::-1]:\n",
    "    print(i)"
   ]
  },
  {
   "cell_type": "code",
   "execution_count": 34,
   "id": "c938e99e-0377-4d00-ac48-0c40015c98ff",
   "metadata": {},
   "outputs": [
    {
     "data": {
      "text/plain": [
       "'Anay'"
      ]
     },
     "execution_count": 34,
     "metadata": {},
     "output_type": "execute_result"
    }
   ],
   "source": [
    "a"
   ]
  },
  {
   "cell_type": "code",
   "execution_count": 42,
   "id": "68be5860-b65b-4e4a-9672-5d8583763e3b",
   "metadata": {},
   "outputs": [
    {
     "data": {
      "text/plain": [
       "False"
      ]
     },
     "execution_count": 42,
     "metadata": {},
     "output_type": "execute_result"
    }
   ],
   "source": [
    "\"ay\" in a #true\n",
    "\"A\" not in a #false"
   ]
  },
  {
   "cell_type": "code",
   "execution_count": null,
   "id": "c098eddc-fc32-4744-8f0c-dc53e05f1b70",
   "metadata": {},
   "outputs": [],
   "source": []
  }
 ],
 "metadata": {
  "kernelspec": {
   "display_name": "Python 3 (ipykernel)",
   "language": "python",
   "name": "python3"
  },
  "language_info": {
   "codemirror_mode": {
    "name": "ipython",
    "version": 3
   },
   "file_extension": ".py",
   "mimetype": "text/x-python",
   "name": "python",
   "nbconvert_exporter": "python",
   "pygments_lexer": "ipython3",
   "version": "3.12.7"
  }
 },
 "nbformat": 4,
 "nbformat_minor": 5
}
