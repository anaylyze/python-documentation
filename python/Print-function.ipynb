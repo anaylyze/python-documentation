{
 "cells": [
  {
   "cell_type": "code",
   "execution_count": 2,
   "id": "3236c27f-a17e-45b2-a733-df5aa5014a7e",
   "metadata": {},
   "outputs": [
    {
     "name": "stdout",
     "output_type": "stream",
     "text": [
      "Anay\n"
     ]
    }
   ],
   "source": [
    "print(\"Anay\")"
   ]
  },
  {
   "cell_type": "code",
   "execution_count": 4,
   "id": "42d8ece7-7da8-469e-993a-9e772f5a745c",
   "metadata": {},
   "outputs": [
    {
     "data": {
      "text/plain": [
       "30"
      ]
     },
     "execution_count": 4,
     "metadata": {},
     "output_type": "execute_result"
    }
   ],
   "source": [
    "5*6"
   ]
  },
  {
   "cell_type": "code",
   "execution_count": 6,
   "id": "f6cf0a4e-28a8-4851-b4cd-2f1ac3796452",
   "metadata": {},
   "outputs": [
    {
     "data": {
      "text/plain": [
       "589.6"
      ]
     },
     "execution_count": 6,
     "metadata": {},
     "output_type": "execute_result"
    }
   ],
   "source": [
    "6.7*88"
   ]
  },
  {
   "cell_type": "code",
   "execution_count": 8,
   "id": "fd8d561a-6cf5-4edb-962a-49ed12e5adbe",
   "metadata": {},
   "outputs": [
    {
     "name": "stdout",
     "output_type": "stream",
     "text": [
      "8.9\n"
     ]
    }
   ],
   "source": [
    "print(8.9)"
   ]
  },
  {
   "cell_type": "code",
   "execution_count": 10,
   "id": "6ecd116a-0624-45f3-8d30-8e656bfb9e4d",
   "metadata": {},
   "outputs": [
    {
     "name": "stdout",
     "output_type": "stream",
     "text": [
      "True\n"
     ]
    }
   ],
   "source": [
    "print(True)"
   ]
  },
  {
   "cell_type": "code",
   "execution_count": 12,
   "id": "e3359ce7-0b4a-4791-8dc4-d002bbca67a7",
   "metadata": {},
   "outputs": [
    {
     "name": "stdout",
     "output_type": "stream",
     "text": [
      "Anay Yashi Keshav Tushar\n"
     ]
    }
   ],
   "source": [
    "print(\"Anay\",\"Yashi\",\"Keshav\",\"Tushar\")"
   ]
  },
  {
   "cell_type": "code",
   "execution_count": 4,
   "id": "d9628a8b-b419-4cc1-8bae-3a3a2f922e3a",
   "metadata": {},
   "outputs": [
    {
     "name": "stdout",
     "output_type": "stream",
     "text": [
      "Anay 9 True\n"
     ]
    }
   ],
   "source": [
    "print(\"Anay\",9, True)"
   ]
  },
  {
   "cell_type": "code",
   "execution_count": 16,
   "id": "760ffaa1-8009-4329-bed9-3395bc35746e",
   "metadata": {},
   "outputs": [
    {
     "name": "stdout",
     "output_type": "stream",
     "text": [
      "Anay/Yashi/Keshav/Tushar\n"
     ]
    }
   ],
   "source": [
    "print(\"Anay\",\"Yashi\",\"Keshav\",\"Tushar\",sep='/')"
   ]
  },
  {
   "cell_type": "code",
   "execution_count": 20,
   "id": "b109bf8c-f90a-4bcb-a644-d282eb8ab5bc",
   "metadata": {},
   "outputs": [
    {
     "name": "stdout",
     "output_type": "stream",
     "text": [
      "Anay-->Yashi-->Keshav-->Tushar\n"
     ]
    }
   ],
   "source": [
    "print(\"Anay\",\"Yashi\",\"Keshav\",\"Tushar\",sep='-->')"
   ]
  },
  {
   "cell_type": "code",
   "execution_count": 22,
   "id": "6c5f6244-c0bf-4d24-9045-4a68bd3a4086",
   "metadata": {},
   "outputs": [
    {
     "name": "stdout",
     "output_type": "stream",
     "text": [
      "Anay is super smart.\n"
     ]
    }
   ],
   "source": [
    "print(\"Anay\",end=' ')\n",
    "print(\"is\",end=' ')\n",
    "print(\"super\",end=' ')\n",
    "print(\"smart\",end='')\n",
    "print(\".\")"
   ]
  },
  {
   "cell_type": "code",
   "execution_count": 6,
   "id": "a4601670-0a02-41e8-976d-a2cddb345fac",
   "metadata": {},
   "outputs": [
    {
     "name": "stdout",
     "output_type": "stream",
     "text": [
      "Anay is\n"
     ]
    }
   ],
   "source": [
    "print(\"Anay\",\"is\")"
   ]
  },
  {
   "cell_type": "code",
   "execution_count": null,
   "id": "240a0ec9-5582-4e6f-ad6c-42c5d165e2e4",
   "metadata": {},
   "outputs": [],
   "source": []
  }
 ],
 "metadata": {
  "kernelspec": {
   "display_name": "Python 3 (ipykernel)",
   "language": "python",
   "name": "python3"
  },
  "language_info": {
   "codemirror_mode": {
    "name": "ipython",
    "version": 3
   },
   "file_extension": ".py",
   "mimetype": "text/x-python",
   "name": "python",
   "nbconvert_exporter": "python",
   "pygments_lexer": "ipython3",
   "version": "3.12.7"
  }
 },
 "nbformat": 4,
 "nbformat_minor": 5
}
